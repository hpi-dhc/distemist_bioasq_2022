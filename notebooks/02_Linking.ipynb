{
 "cells": [
  {
   "cell_type": "code",
   "execution_count": 1,
   "metadata": {},
   "outputs": [],
   "source": [
    "import sys\n",
    "sys.path.append('../scripts')"
   ]
  },
  {
   "cell_type": "code",
   "execution_count": 2,
   "metadata": {},
   "outputs": [],
   "source": [
    "import os\n",
    "os.environ[\"CUDA_DEVICE_ORDER\"] = \"PCI_BUS_ID\"\n",
    "os.environ[\"CUDA_VISIBLE_DEVICES\"] = \"1\"\n",
    "os.environ[\"TOKENIZERS_PARALLELISM\"] = \"false\""
   ]
  },
  {
   "cell_type": "code",
   "execution_count": 3,
   "metadata": {},
   "outputs": [
    {
     "name": "stderr",
     "output_type": "stream",
     "text": [
      "Your CPU supports instructions that this binary was not compiled to use: SSE3 SSE4.1 SSE4.2 AVX AVX2\n",
      "For maximum performance, you can install NMSLIB from sources \n",
      "pip install --no-binary :all: nmslib\n"
     ]
    }
   ],
   "source": [
    "from pathlib import Path\n",
    "import pandas as pd\n",
    "import numpy as np\n",
    "from tqdm import tqdm\n",
    "import pickle\n",
    "import re\n",
    "\n",
    "from xl_bel.linkers import NGramKBLinker, SapBERTLinker\n",
    "from xl_bel.el_datasets import load_distemist_linking\n",
    "from xl_bel.util import clean_concepts_from_dataset\n",
    "from xl_bel.evaluation import evaluate, entity_linking_error_analysis\n",
    "import distemist_util"
   ]
  },
  {
   "cell_type": "code",
   "execution_count": 4,
   "metadata": {},
   "outputs": [],
   "source": [
    "debug = False"
   ]
  },
  {
   "cell_type": "code",
   "execution_count": 5,
   "metadata": {},
   "outputs": [],
   "source": [
    "dict_path = Path('../dicts')"
   ]
  },
  {
   "cell_type": "code",
   "execution_count": 6,
   "metadata": {},
   "outputs": [],
   "source": [
    "kb = pickle.load(open(dict_path / 'umls_full_distemist_3grams_filter_snomed' / 'kb.pickle', 'rb'))"
   ]
  },
  {
   "cell_type": "code",
   "execution_count": 7,
   "metadata": {},
   "outputs": [
    {
     "name": "stderr",
     "output_type": "stream",
     "text": [
      "Reusing dataset dis_temist (/home/Florian.Borchert/.cache/huggingface/datasets/dis_temist/subtrack2_linking/3.0.1/a1915148dbf2c746ae734644cb098356da71f63ed6fa586d9b24ac3cfb42df01)\n"
     ]
    },
    {
     "data": {
      "application/vnd.jupyter.widget-view+json": {
       "model_id": "5c424b79e0e642d2ac2f1217b5a76984",
       "version_major": 2,
       "version_minor": 0
      },
      "text/plain": [
       "  0%|          | 0/2 [00:00<?, ?it/s]"
      ]
     },
     "metadata": {},
     "output_type": "display_data"
    },
    {
     "name": "stderr",
     "output_type": "stream",
     "text": [
      "Loading cached processed dataset at /home/Florian.Borchert/.cache/huggingface/datasets/dis_temist/subtrack2_linking/3.0.1/a1915148dbf2c746ae734644cb098356da71f63ed6fa586d9b24ac3cfb42df01/cache-d8f1bae31511e7eb.arrow\n",
      "Loading cached processed dataset at /home/Florian.Borchert/.cache/huggingface/datasets/dis_temist/subtrack2_linking/3.0.1/a1915148dbf2c746ae734644cb098356da71f63ed6fa586d9b24ac3cfb42df01/cache-8583e7997e380dcd.arrow\n"
     ]
    }
   ],
   "source": [
    "with open('../test_docs.txt', 'r') as fh:\n",
    "    test_ids = [l.strip() for l in fh.readlines()]\n",
    "    \n",
    "ds = load_distemist_linking()[\"train\"]\n",
    "\n",
    "X = ds.filter(lambda r: r['document_id'] not in test_ids)\n",
    "X_valid = ds.filter(lambda r: r['document_id'] in test_ids)"
   ]
  },
  {
   "cell_type": "code",
   "execution_count": 8,
   "metadata": {},
   "outputs": [],
   "source": [
    "# Set to True to recommpute the suppression status index, otherwise load from disk\n",
    "calc_suppress = False"
   ]
  },
  {
   "cell_type": "code",
   "execution_count": 9,
   "metadata": {},
   "outputs": [],
   "source": [
    "from scispacy.umls_utils import read_umls_file_headers\n",
    "\n",
    "if calc_suppress:\n",
    "    META_PATH = Path('/home/Florian.Borchert/umls/2021AB/META/')\n",
    "    mr_conso_path = META_PATH / 'MRCONSO.RRF'\n",
    "    mr_conso = pd.read_csv(mr_conso_path, sep='|', dtype='str')\n",
    "    mr_conso.columns = read_umls_file_headers(META_PATH, \"MRCONSO.RRF\")\n",
    "    mr_conso.set_index('CUI', inplace=True)\n",
    "    snomed_index = mr_conso[mr_conso.SAB.isin(['SCTSPA', 'SNOMEDCT_US'])].set_index('SCUI')\n",
    "\n",
    "    suppress_ratios = {}\n",
    "    for concept_id in tqdm(kb.cui_to_entity.keys()):\n",
    "        if not concept_id in snomed_index.index:\n",
    "            print(\"Warn, skipping:\", concept_id)\n",
    "            suppress_ratio = 0.0\n",
    "        else:    \n",
    "            matches = snomed_index.loc[concept_id]\n",
    "            suppress_ratio = (matches.SUPPRESS != 'N').sum() / len(matches)\n",
    "        suppress_ratios[concept_id] = suppress_ratio\n",
    "        \n",
    "    with open('../dicts/suppress.pkl', 'wb') as fh:\n",
    "        pickle.dump(suppress_ratios, fh)\n",
    "        \n",
    "else:\n",
    "    with open('../dicts/suppress.pkl', 'rb') as fh:\n",
    "        suppress_ratios = pickle.load(fh)"
   ]
  },
  {
   "cell_type": "code",
   "execution_count": 10,
   "metadata": {},
   "outputs": [],
   "source": [
    "def add_ngram_linker(linkers, dict_name : str, threshold, k : int, key : str = None):\n",
    "    cg = NGramKBLinker.load_candidate_generator(dict_path / dict_name)\n",
    "    linker = NGramKBLinker(\n",
    "        candidate_generator=cg, \n",
    "        threshold=threshold,\n",
    "        filter_for_definitions=False,\n",
    "        k=k\n",
    "    )\n",
    "    if not key:\n",
    "        key = f'ngram_{dict_name}_{threshold}_{k}'\n",
    "    linkers[key] = lambda: linker"
   ]
  },
  {
   "cell_type": "code",
   "execution_count": 11,
   "metadata": {},
   "outputs": [],
   "source": [
    "from xl_bel.linkers.sapbert.sap_bert_linker import _SAP_BERT_XLMR\n",
    "\n",
    "def add_sap_bert_linker(linkers, model : str, threshold, k : int, embedding_model_name=_SAP_BERT_XLMR, consider_ngrams=[], key : str = None):\n",
    "    def linker_fn():\n",
    "        SapBERTLinker.clear()\n",
    "        if debug:\n",
    "            print(f\"Initializing SapBERT linker for dictionary {model}\")\n",
    "        term_dict_pkl = dict_path / model / 'dict.pickle'\n",
    "        embed_pkl = dict_path / model / 'embed.pickle'\n",
    "\n",
    "        return SapBERTLinker(term_dict_pkl, embed_pkl, k=k, cuda=True, threshold=threshold, embedding_model_name=embedding_model_name, consider_n_grams=consider_ngrams)\n",
    "\n",
    "    if not key:\n",
    "        key = f'sap_{model}_{threshold}_{consider_ngrams if consider_ngrams else \"no_ngrams\"}_{k}'\n",
    "    linkers[key] = linker_fn"
   ]
  },
  {
   "cell_type": "markdown",
   "metadata": {},
   "source": [
    "# Evaluation"
   ]
  },
  {
   "cell_type": "code",
   "execution_count": 12,
   "metadata": {},
   "outputs": [],
   "source": [
    "_default_thresholds = [0.0, 0.2, 0.5, 0.7, 0.8, 0.9, 0.99]\n",
    "_default_ks = [1,2,3,5,10,20]\n",
    "\n",
    "def eval_thresholds(dataset, pred, thresholds, ks, pbar=None):\n",
    "    all_eval = {}\n",
    "    \n",
    "    steps = len(thresholds) * len(ks)\n",
    "    \n",
    "    if not pbar:\n",
    "        pbar = tqdm(total=steps)\n",
    "    for threshold in thresholds:\n",
    "        all_eval[threshold] = {}\n",
    "        for k in ks:\n",
    "            eval = evaluate(dataset, pred, allow_multiple_gold_candidates=False, top_k_predictions=k, threshold=threshold)\n",
    "            all_eval[threshold][f'f1@{k}'] = eval['strict']['fscore']\n",
    "            all_eval[threshold][f'p@{k}'] = eval['strict']['precision']\n",
    "            all_eval[threshold][f'r@{k}'] = eval['strict']['recall']\n",
    "            pbar.update(1)\n",
    "    return all_eval\n",
    "\n",
    "def run_eval(dataset, preds, all_tresholds = True, thresholds=_default_thresholds, ks=_default_ks):\n",
    "    evals = []\n",
    "    error_dfs = []\n",
    "    \n",
    "    if all_tresholds:\n",
    "        steps = len(thresholds) * len(ks) * len(preds)\n",
    "    else:\n",
    "        steps = len(preds)\n",
    "\n",
    "    with tqdm(total=steps) as pbar:\n",
    "        for pred in preds:\n",
    "            if all_tresholds:\n",
    "                all_eval = eval_thresholds(dataset, pred, thresholds, ks, pbar)\n",
    "                evals.append(all_eval)\n",
    "\n",
    "            error_df = entity_linking_error_analysis(dataset, pred)\n",
    "            error_dfs.append(error_df)\n",
    "    return evals, error_dfs"
   ]
  },
  {
   "cell_type": "code",
   "execution_count": 13,
   "metadata": {},
   "outputs": [],
   "source": [
    "def get_type(c):\n",
    "    return [t for t in kb.cui_to_entity[c].types if t[0] != 'T'][0] if c in kb.cui_to_entity else 'None'"
   ]
  },
  {
   "cell_type": "code",
   "execution_count": 14,
   "metadata": {},
   "outputs": [],
   "source": [
    "def merge_errors_dfs(linkers, error_dfs, simple=True):\n",
    "    dfs = []\n",
    "    for name, edf in zip(linkers.keys(), error_dfs):            \n",
    "        edf['pred_top_type'] = edf.pred_top.map(get_type)        \n",
    "        df = edf.rename(columns=lambda c: f\"{c}_{name}\")\n",
    "        dfs.append(df)\n",
    "    res = pd.concat(dfs, axis=1)\n",
    "    res = res.loc[:,~res.columns.duplicated()]\n",
    "    res['true_type'] = error_dfs[0].gold_concept.map(get_type)\n",
    "    res['true_concept'] = error_dfs[0].gold_concept\n",
    "    res['true_name'] = error_dfs[0].gt_text\n",
    "    index_cols =  [c for c in res.columns if re.match(r'pred_index_(?!score).*', c)]\n",
    "    res['best_prediction_index'] = res[index_cols].apply(lambda r: r.values[r.values != -1].min() if (r.values != -1).any() else -1, axis=1)\n",
    "    output_cols = [c for c in res.columns if c.startswith('true') or c.startswith('best')] + [c for c in res.columns if c.startswith('pred_index') or (not simple and c.startswith('pred_top'))]\n",
    "    return res[output_cols]"
   ]
  },
  {
   "cell_type": "code",
   "execution_count": 15,
   "metadata": {},
   "outputs": [],
   "source": [
    "pd.options.display.float_format = '{:,.3f}'.format\n",
    "\n",
    "def merge_eval_df(linkers, evals):\n",
    "    eval_df = []\n",
    "    for e, l in zip(evals, linkers.keys()):\n",
    "        for t, res in e.items():\n",
    "            res['threshold'] = t\n",
    "            res['linker'] = l\n",
    "            eval_df.append(res)\n",
    "    eval_df = pd.DataFrame(eval_df)\n",
    "    eval_df.set_index(['linker', 'threshold'], inplace=True)\n",
    "    return eval_df"
   ]
  },
  {
   "cell_type": "code",
   "execution_count": 16,
   "metadata": {},
   "outputs": [],
   "source": [
    "from xl_bel.reranking.rule_based import RuleBasedReranker\n",
    "\n",
    "def individual_concept_scorer(rule, **kwargs):\n",
    "    def fn(concepts, ctx):\n",
    "        scores = []\n",
    "        for rank, data in enumerate(zip(concepts['concept_id'], concepts['score'])):\n",
    "            cid, score = data\n",
    "            ctx.rank = rank    \n",
    "            scores.append(rule(cid, score, ctx, **kwargs))\n",
    "        concepts['score'] = scores\n",
    "        return concepts\n",
    "    return fn\n",
    "    \n",
    "def combined_scorer(beta : float):\n",
    "    def fn(concepts, ctx):\n",
    "        counts = {k:v for k,v in zip(*np.unique(concepts['concept_id'], return_counts=True))}\n",
    "        return individual_concept_scorer(lambda cid, s, _: s * 1 + beta * counts[cid])(concepts, ctx)\n",
    "    return fn\n",
    "\n",
    "def score_by_type_disorder(concept_id, score, ctx, cutoff, factor):    \n",
    "    types = kb.cui_to_entity[concept_id].types\n",
    "    if ctx.rank < cutoff and 'disorder' in types:        \n",
    "        return score * factor\n",
    "    return score\n",
    "\n",
    "def score_by_type_finding(concept_id, score, ctx, cutoff, factor):    \n",
    "    types = kb.cui_to_entity[concept_id].types\n",
    "    if ctx.rank < cutoff and 'finding' in types:        \n",
    "        return score * factor\n",
    "    return score\n",
    "\n",
    "def score_by_type_morph(concept_id, score, ctx, cutoff, factor):    \n",
    "    types = kb.cui_to_entity[concept_id].types\n",
    "    if ctx.rank < cutoff and 'morphologic abnormality' in types:        \n",
    "        return score * factor\n",
    "    return score\n",
    "\n",
    "def score_by_type_qualifier(concept_id, score, ctx, cutoff, factor):    \n",
    "    types = kb.cui_to_entity[concept_id].types\n",
    "    if ctx.rank < cutoff and 'qualifier value' in types:        \n",
    "        return score * factor\n",
    "    return score\n",
    "\n",
    "def score_by_type_body(concept_id, score, ctx, cutoff, factor):    \n",
    "    types = kb.cui_to_entity[concept_id].types\n",
    "    if ctx.rank < cutoff and 'body structure' in types:        \n",
    "        return score * factor\n",
    "    return score\n",
    "\n",
    "def score_umls_suppression(concept_id, score, ctx, factor):\n",
    "    if not concept_id in suppress_ratios:\n",
    "        return score\n",
    "    return score + factor * suppress_ratios[concept_id]\n",
    "\n",
    "def score_preferred_term(concept_id, score, ctx, factor):\n",
    "    item = kb.cui_to_entity[concept_id] \n",
    "    if item.canonical_name == ctx.entity_text:\n",
    "        return score * factor\n",
    "    return score"
   ]
  },
  {
   "cell_type": "markdown",
   "metadata": {},
   "source": [
    "#### Mapping of concept IDs text mentions in the training data"
   ]
  },
  {
   "cell_type": "code",
   "execution_count": 17,
   "metadata": {},
   "outputs": [
    {
     "data": {
      "text/plain": [
       "text                                 concept_id\n",
       "lesión                               417163006     122\n",
       "lesiones                             157670007      43\n",
       "hipertensión arterial                38341003       40\n",
       "tumor                                55342001       25\n",
       "fumador                              77176002       24\n",
       "                                                  ... \n",
       "enfermedad profesional               115966001       1\n",
       "enfermedad protrombótica y vascular  76612001        1\n",
       "enfermedad renal crónica severa      709044004       1\n",
       "enfermedad sistémica                 56019007        1\n",
       "útero miomatoso con calcificaciones  95315005        1\n",
       "Length: 2865, dtype: int64"
      ]
     },
     "execution_count": 17,
     "metadata": {},
     "output_type": "execute_result"
    }
   ],
   "source": [
    "text2concept = []\n",
    "\n",
    "for x in X:\n",
    "    for t, c in zip(x['entities']['text'], x['entities']['concepts']):\n",
    "        text2concept.append({'text' : t, 'concept_id': c['concept_id'][0]})\n",
    "idx = pd.DataFrame(text2concept).value_counts()\n",
    "\n",
    "idx"
   ]
  },
  {
   "cell_type": "code",
   "execution_count": 18,
   "metadata": {},
   "outputs": [
    {
     "data": {
      "text/plain": [
       "0"
      ]
     },
     "execution_count": 18,
     "metadata": {},
     "output_type": "execute_result"
    }
   ],
   "source": [
    "# Any ambiguous text - concept mapping? -> Not in the training data\n",
    "idx.index.levels[0].duplicated().sum()"
   ]
  },
  {
   "cell_type": "markdown",
   "metadata": {},
   "source": [
    "### Utility function for training set lookup"
   ]
  },
  {
   "cell_type": "code",
   "execution_count": 19,
   "metadata": {},
   "outputs": [],
   "source": [
    "# Reuse concepts in the training data if text matches exactly\n",
    "def post_process_linking(ds):\n",
    "    entities = ds['entities'].copy()\n",
    "    for i, t in enumerate(entities['text']):\n",
    "        c = entities['concepts'][i]\n",
    "        if t in [i[0] for i in idx.index]:\n",
    "            gt = idx.loc[t, :].index[0]\n",
    "            if len(c['concept_id']) == 0:\n",
    "                c['concept_id'].append(gt)\n",
    "                c['predicted_by'].append('manual')\n",
    "                c['target_kb'].append('UMLS')\n",
    "                c['type'].append(None)\n",
    "                c['score'].append(1.0)\n",
    "            if c['concept_id'][0] != gt:\n",
    "                c['concept_id'][0] = gt\n",
    "    return { 'entities' : entities }"
   ]
  },
  {
   "cell_type": "code",
   "execution_count": 20,
   "metadata": {},
   "outputs": [],
   "source": [
    "from xl_bel.linkers.ensemble import EnsembleLinker\n",
    "\n",
    "def run_linkers(dataset, config, ground_truth=None, do_rerank=True):\n",
    "    \n",
    "    if not ground_truth:\n",
    "        ground_truth = dataset\n",
    "\n",
    "    linkers = {}\n",
    "    weights = {}\n",
    "    thresholds = {}\n",
    "\n",
    "    top_k = 100\n",
    "    batch_size = 128 * 5\n",
    "\n",
    "    preds = []\n",
    "    output = {}\n",
    "\n",
    "    add_ngram_linker(linkers, 'distemist_3grams', threshold=0.0, k=top_k, key='ngrams')\n",
    "    add_sap_bert_linker(linkers, 'sapbert_umls_full_distemist_filter_snomed', threshold=0.0, k=top_k, key='sap_umls')\n",
    "\n",
    "    for k, linker_fn in linkers.items():\n",
    "        linker = linker_fn()\n",
    "        pred = linker.predict_batch(clean_concepts_from_dataset(dataset), batch_size=batch_size)\n",
    "\n",
    "        output[k] = pred\n",
    "        print(k)\n",
    "        if debug:\n",
    "            print(evaluate(ground_truth, pred, allow_multiple_gold_candidates=False, top_k_predictions=1)['strict'])\n",
    "\n",
    "        preds.append(pred)\n",
    "\n",
    "    _, error_dfs = run_eval(ground_truth, preds, all_tresholds=False)\n",
    "\n",
    "    o = merge_errors_dfs(linkers, error_dfs, simple=False)\n",
    "    cols = [c for c in o.columns if re.match(r'pred_index_(?!score).*', c)]\n",
    "\n",
    "    if debug:\n",
    "        for i in range(len(cols), 0, -1):\n",
    "            ss_cols = cols[0:i]\n",
    "            errors_subset = o[ss_cols]\n",
    "            print(ss_cols)\n",
    "            idx = errors_subset.apply(lambda r: r.values[r.values >= 0].min() if (r.values >= 0).any() else -1, axis=1)\n",
    "            counts = idx.value_counts()\n",
    "            print(counts[0:5])\n",
    "            print('R@1', counts[0] / len(errors_subset))\n",
    "            #print('R@2', (counts[0] + counts[2]) / len(errors_subset))\n",
    "\n",
    "    reuse_preds = {}\n",
    "\n",
    "    for linker_name, pred in zip(linkers.keys(), preds):\n",
    "        reuse_preds[linker_name] = pred\n",
    "\n",
    "    reuse_preds['ngrams'] = EnsembleLinker.filter_and_apply_threshold(reuse_preds['ngrams'], config['k_ngrams'], config['threshold_ngrams'])\n",
    "    reuse_preds['sap_umls'] = EnsembleLinker.filter_and_apply_threshold(reuse_preds['sap_umls'], config['k_sap_umls'], config['threshold_sap_umls'])\n",
    "\n",
    "    if len(linkers) > 1:       \n",
    "        \n",
    "        weights = {\n",
    "            'ngrams' : config['weight_ngrams'],\n",
    "            'sap_umls' : config['weight_sap_umls'],\n",
    "        }\n",
    "        \n",
    "        e = EnsembleLinker(linkers=linkers, candidates_per_linker={}, linker_weights=weights, linker_thresholds={})\n",
    "\n",
    "        e_pred = e.predict_batch(clean_concepts_from_dataset(dataset), batch_size=batch_size, reuse_preds=reuse_preds)\n",
    "        output['ensemble'] = e_pred\n",
    "        print('>>> Ensemble')\n",
    "        if debug:\n",
    "            print(evaluate(ground_truth, e_pred, allow_multiple_gold_candidates=False, top_k_predictions=1)['strict'])\n",
    "\n",
    "        if do_rerank:\n",
    "            rr = RuleBasedReranker([\n",
    "                individual_concept_scorer(score_by_type_disorder, cutoff=10, factor=config['factor_disorder']),\n",
    "                individual_concept_scorer(score_by_type_finding, cutoff=10, factor=config['factor_finding']),\n",
    "                individual_concept_scorer(score_by_type_morph, cutoff=10, factor=config['factor_morph']),\n",
    "                #individual_concept_scorer(score_by_type_qualifier, cutoff=10, factor=reranking_config['factor_qualifier']),\n",
    "                #individual_concept_scorer(score_by_type_body, cutoff=10, factor=reranking_config['factor_body']),\n",
    "                individual_concept_scorer(score_preferred_term, factor=config['factor_preferred']),\n",
    "                individual_concept_scorer(score_umls_suppression, factor=config['factor_umls_suppression']),\n",
    "                combined_scorer(beta=config['beta'])\n",
    "            ])\n",
    "            e_rr_pred = rr.rerank_batch(e_pred)\n",
    "            output['ensemble_reranked'] = e_rr_pred\n",
    "            print('>>> Ensemble (reranked)')\n",
    "            if debug:\n",
    "                print(evaluate(ground_truth, e_rr_pred, allow_multiple_gold_candidates=False, top_k_predictions=1)['strict'])\n",
    "            print('\\nDone !')\n",
    "            \n",
    "            e_rr_pred_post_process = e_rr_pred.map(post_process_linking)\n",
    "            output['ensemble_reranked_post_process'] = e_rr_pred_post_process\n",
    "            print('>>> Ensemble (reranked) post processed')\n",
    "            if debug:\n",
    "                print(evaluate(ground_truth, e_rr_pred_post_process, allow_multiple_gold_candidates=False, top_k_predictions=1)['strict'])\n",
    "            print('\\nDone !')\n",
    "    return output"
   ]
  },
  {
   "cell_type": "markdown",
   "metadata": {},
   "source": [
    "### Optimal config settings"
   ]
  },
  {
   "cell_type": "code",
   "execution_count": 21,
   "metadata": {},
   "outputs": [],
   "source": [
    "ensemble_config = {\n",
    " 'k_ngrams': 100,\n",
    " 'k_sap_umls': 100,\n",
    " 'weight_ngrams': 0.6504051838658051,\n",
    " 'weight_sap_umls': 0.6238908394984983,\n",
    " 'threshold_ngrams': 0.6783871010249929,\n",
    " 'threshold_sap_umls': 0.7529960339856937\n",
    "}\n",
    "\n",
    "reranking_config = { \n",
    " 'k_ngrams': 1,\n",
    " 'k_sap_umls': 4,\n",
    " 'weight_ngrams': ensemble_config['weight_ngrams'],\n",
    " 'weight_sap_umls': ensemble_config['weight_sap_umls'],\n",
    " 'threshold_ngrams': ensemble_config['threshold_ngrams'],\n",
    " 'threshold_sap_umls': ensemble_config['threshold_sap_umls'],\n",
    " 'beta': 0.3542986616954429,\n",
    " 'factor_morph': 0.010715928257092444,\n",
    " 'factor_finding': 1.3889020502584597,\n",
    " 'factor_disorder': 1.1379672924904702,\n",
    " 'factor_preferred': 1.0491444606185638,\n",
    " 'factor_umls_suppression': -1.1911262691013396\n",
    "}"
   ]
  },
  {
   "cell_type": "code",
   "execution_count": 22,
   "metadata": {},
   "outputs": [],
   "source": [
    "import warnings\n",
    "\n",
    "def run_all_linkers(dataset, ground_truth=None):    \n",
    "    if ground_truth == None:\n",
    "        ground_truth = dataset\n",
    "    scores = []\n",
    "    predictions = {}\n",
    "    \n",
    "\n",
    "    with warnings.catch_warnings():\n",
    "        warnings.simplefilter(\"ignore\")    \n",
    "        out_ensemble_1 = run_linkers(dataset, ensemble_config, ground_truth, do_rerank=False)\n",
    "        out_reranking_consecutive = run_linkers(dataset, reranking_config, ground_truth)\n",
    "    \n",
    "    def get_score(out, key, name):\n",
    "        res = evaluate(ground_truth, out[key], allow_multiple_gold_candidates=False, top_k_predictions=1)\n",
    "        return {\n",
    "            'name' : name,\n",
    "            'p_loose' : res['partial']['precision'],\n",
    "            'r_loose' : res['partial']['recall'],\n",
    "            'f1_loose' : res['partial']['fscore'],\n",
    "            'p_strict' : res['strict']['precision'],\n",
    "            'r_strict' : res['strict']['recall'],\n",
    "            'f1_strict' : res['strict']['fscore'],\n",
    "        }\n",
    "    \n",
    "    scores.append(get_score(out_ensemble_1, 'ngrams', 'n-grams (DisTEMIST)'))\n",
    "    predictions['ngrams'] = out_ensemble_1['ngrams']\n",
    "    \n",
    "    scores.append(get_score(out_ensemble_1, 'sap_umls', 'sapBERT (DisTEMIST + UMLS)'))\n",
    "    predictions['sap_umls'] = out_ensemble_1['sap_umls']\n",
    "    \n",
    "    scores.append(get_score(out_ensemble_1, 'ensemble', 'Ensemble'))\n",
    "    predictions['ensemble'] = out_ensemble_1['ensemble']\n",
    "    \n",
    "    scores.append(get_score(out_reranking_consecutive, 'ensemble_reranked', 'Ensemble + Reranking'))\n",
    "    predictions['ensemble_reranked'] = out_reranking_consecutive['ensemble_reranked']\n",
    "    \n",
    "    scores.append(get_score(out_reranking_consecutive, 'ensemble_reranked_post_process', 'Ensemble + Reranking + Post-Processing'))\n",
    "    predictions['ensemble_reranked_post_process'] = out_reranking_consecutive['ensemble_reranked_post_process']\n",
    "    \n",
    "    return pd.DataFrame(scores).set_index('name'), predictions\n",
    "    "
   ]
  },
  {
   "cell_type": "markdown",
   "metadata": {},
   "source": [
    "## Predictions and statistics for the paper"
   ]
  },
  {
   "cell_type": "markdown",
   "metadata": {},
   "source": [
    "### Dictionaries"
   ]
  },
  {
   "cell_type": "markdown",
   "metadata": {},
   "source": [
    "#### DisTemist dictionary"
   ]
  },
  {
   "cell_type": "code",
   "execution_count": 23,
   "metadata": {},
   "outputs": [
    {
     "data": {
      "text/plain": [
       "(111179, 147280)"
      ]
     },
     "execution_count": 23,
     "metadata": {},
     "output_type": "execute_result"
    }
   ],
   "source": [
    "dist = pd.read_csv('../dicts/dictionary_distemist.tsv', sep='\\t')\n",
    "len(dist.code.unique()), len(dist)"
   ]
  },
  {
   "cell_type": "markdown",
   "metadata": {},
   "source": [
    "#### Multilingual UMLS dictionary"
   ]
  },
  {
   "cell_type": "code",
   "execution_count": 24,
   "metadata": {},
   "outputs": [
    {
     "data": {
      "text/html": [
       "<div>\n",
       "<style scoped>\n",
       "    .dataframe tbody tr th:only-of-type {\n",
       "        vertical-align: middle;\n",
       "    }\n",
       "\n",
       "    .dataframe tbody tr th {\n",
       "        vertical-align: top;\n",
       "    }\n",
       "\n",
       "    .dataframe thead th {\n",
       "        text-align: right;\n",
       "    }\n",
       "</style>\n",
       "<table border=\"1\" class=\"dataframe\">\n",
       "  <thead>\n",
       "    <tr style=\"text-align: right;\">\n",
       "      <th></th>\n",
       "      <th>cui</th>\n",
       "      <th>term</th>\n",
       "      <th>canonical</th>\n",
       "      <th>tuis</th>\n",
       "    </tr>\n",
       "  </thead>\n",
       "  <tbody>\n",
       "    <tr>\n",
       "      <th>0</th>\n",
       "      <td>105000</td>\n",
       "      <td>intoxicación por excipiente farmacéutico</td>\n",
       "      <td>intoxicación por excipiente farmacéutico</td>\n",
       "      <td>[disorder]</td>\n",
       "    </tr>\n",
       "    <tr>\n",
       "      <th>1</th>\n",
       "      <td>105000</td>\n",
       "      <td>intoxicación por vehículo farmacéutico</td>\n",
       "      <td>intoxicación por excipiente farmacéutico</td>\n",
       "      <td>[disorder]</td>\n",
       "    </tr>\n",
       "    <tr>\n",
       "      <th>2</th>\n",
       "      <td>109006</td>\n",
       "      <td>trastorno de ansiedad de la niñez O la adolesc...</td>\n",
       "      <td>trastorno de ansiedad de la niñez O la adolesc...</td>\n",
       "      <td>[disorder]</td>\n",
       "    </tr>\n",
       "    <tr>\n",
       "      <th>3</th>\n",
       "      <td>109006</td>\n",
       "      <td>trastorno de ansiedad de la infancia O adolesc...</td>\n",
       "      <td>trastorno de ansiedad de la niñez O la adolesc...</td>\n",
       "      <td>[disorder]</td>\n",
       "    </tr>\n",
       "    <tr>\n",
       "      <th>4</th>\n",
       "      <td>122003</td>\n",
       "      <td>hemorragia coroidea</td>\n",
       "      <td>hemorragia coroidea</td>\n",
       "      <td>[disorder]</td>\n",
       "    </tr>\n",
       "    <tr>\n",
       "      <th>...</th>\n",
       "      <td>...</td>\n",
       "      <td>...</td>\n",
       "      <td>...</td>\n",
       "      <td>...</td>\n",
       "    </tr>\n",
       "    <tr>\n",
       "      <th>2616663</th>\n",
       "      <td>1162644007</td>\n",
       "      <td>Adverse reaction to component of vaccine produ...</td>\n",
       "      <td>Adverse reaction to COVID-19 recombinant spike...</td>\n",
       "      <td>[T046]</td>\n",
       "    </tr>\n",
       "    <tr>\n",
       "      <th>2616664</th>\n",
       "      <td>1162639000</td>\n",
       "      <td>Adverse reaction to diphtheria and acellular p...</td>\n",
       "      <td>Adverse reaction to diphtheria and acellular p...</td>\n",
       "      <td>[T046]</td>\n",
       "    </tr>\n",
       "    <tr>\n",
       "      <th>2616665</th>\n",
       "      <td>1162639000</td>\n",
       "      <td>Adverse reaction to component of vaccine produ...</td>\n",
       "      <td>Adverse reaction to diphtheria and acellular p...</td>\n",
       "      <td>[T046]</td>\n",
       "    </tr>\n",
       "    <tr>\n",
       "      <th>2616666</th>\n",
       "      <td>1162639000</td>\n",
       "      <td>Adverse reaction to component of vaccine produ...</td>\n",
       "      <td>Adverse reaction to diphtheria and acellular p...</td>\n",
       "      <td>[T046]</td>\n",
       "    </tr>\n",
       "    <tr>\n",
       "      <th>2616667</th>\n",
       "      <td>1162639000</td>\n",
       "      <td>Diphtheria and acellular pertussis and Haemoph...</td>\n",
       "      <td>Adverse reaction to diphtheria and acellular p...</td>\n",
       "      <td>[T046]</td>\n",
       "    </tr>\n",
       "  </tbody>\n",
       "</table>\n",
       "<p>2416514 rows × 4 columns</p>\n",
       "</div>"
      ],
      "text/plain": [
       "                cui                                               term  \\\n",
       "0            105000           intoxicación por excipiente farmacéutico   \n",
       "1            105000             intoxicación por vehículo farmacéutico   \n",
       "2            109006  trastorno de ansiedad de la niñez O la adolesc...   \n",
       "3            109006  trastorno de ansiedad de la infancia O adolesc...   \n",
       "4            122003                                hemorragia coroidea   \n",
       "...             ...                                                ...   \n",
       "2616663  1162644007  Adverse reaction to component of vaccine produ...   \n",
       "2616664  1162639000  Adverse reaction to diphtheria and acellular p...   \n",
       "2616665  1162639000  Adverse reaction to component of vaccine produ...   \n",
       "2616666  1162639000  Adverse reaction to component of vaccine produ...   \n",
       "2616667  1162639000  Diphtheria and acellular pertussis and Haemoph...   \n",
       "\n",
       "                                                 canonical        tuis  \n",
       "0                 intoxicación por excipiente farmacéutico  [disorder]  \n",
       "1                 intoxicación por excipiente farmacéutico  [disorder]  \n",
       "2        trastorno de ansiedad de la niñez O la adolesc...  [disorder]  \n",
       "3        trastorno de ansiedad de la niñez O la adolesc...  [disorder]  \n",
       "4                                      hemorragia coroidea  [disorder]  \n",
       "...                                                    ...         ...  \n",
       "2616663  Adverse reaction to COVID-19 recombinant spike...      [T046]  \n",
       "2616664  Adverse reaction to diphtheria and acellular p...      [T046]  \n",
       "2616665  Adverse reaction to diphtheria and acellular p...      [T046]  \n",
       "2616666  Adverse reaction to diphtheria and acellular p...      [T046]  \n",
       "2616667  Adverse reaction to diphtheria and acellular p...      [T046]  \n",
       "\n",
       "[2416514 rows x 4 columns]"
      ]
     },
     "execution_count": 24,
     "metadata": {},
     "output_type": "execute_result"
    }
   ],
   "source": [
    "with open('../dicts/sapbert_umls_full_distemist_filter_snomed/dict.pickle', 'rb') as f:\n",
    "    p = pickle.load(f)\n",
    "p"
   ]
  },
  {
   "cell_type": "markdown",
   "metadata": {},
   "source": [
    "### Validation Set Analysis"
   ]
  },
  {
   "cell_type": "code",
   "execution_count": 25,
   "metadata": {},
   "outputs": [
    {
     "name": "stderr",
     "output_type": "stream",
     "text": [
      "Loading cached processed dataset at /home/Florian.Borchert/.cache/huggingface/datasets/dis_temist/subtrack2_linking/3.0.1/a1915148dbf2c746ae734644cb098356da71f63ed6fa586d9b24ac3cfb42df01/cache-4d74224e395865f3.arrow\n",
      "Parameter 'function'=<function EntityLinker.predict_batch.<locals>.<lambda> at 0x7f784bdccd30> of the transform datasets.arrow_dataset.Dataset._map_single couldn't be hashed properly, a random hash was used instead. Make sure your transforms and parameters are serializable with pickle or dill for the dataset fingerprinting and caching to work. If you reuse this transform, the caching mechanism will consider it to be different from the previous calls and recompute everything. This warning is only showed once. Subsequent hashing failures won't be showed.\n"
     ]
    },
    {
     "data": {
      "application/vnd.jupyter.widget-view+json": {
       "model_id": "0288d07b00364314893d2b3ce6caf1ee",
       "version_major": 2,
       "version_minor": 0
      },
      "text/plain": [
       "  0%|          | 0/117 [00:00<?, ?ex/s]"
      ]
     },
     "metadata": {},
     "output_type": "display_data"
    },
    {
     "name": "stderr",
     "output_type": "stream",
     "text": [
      "/home/Florian.Borchert/.cache/pypoetry/virtualenvs/xl-bel-TMSi1vFk-py3.8/lib/python3.8/site-packages/scispacy/candidate_generation.py:284: VisibleDeprecationWarning: Creating an ndarray from ragged nested sequences (which is a list-or-tuple of lists-or-tuples-or ndarrays with different lengths or shapes) is deprecated. If you meant to do this, you must specify 'dtype=object' when creating the ndarray.\n",
      "  extended_neighbors[empty_vectors_boolean_flags] = numpy.array(neighbors)[:-1]\n",
      "/home/Florian.Borchert/.cache/pypoetry/virtualenvs/xl-bel-TMSi1vFk-py3.8/lib/python3.8/site-packages/scispacy/candidate_generation.py:285: VisibleDeprecationWarning: Creating an ndarray from ragged nested sequences (which is a list-or-tuple of lists-or-tuples-or ndarrays with different lengths or shapes) is deprecated. If you meant to do this, you must specify 'dtype=object' when creating the ndarray.\n",
      "  extended_distances[empty_vectors_boolean_flags] = numpy.array(distances)[:-1]\n"
     ]
    },
    {
     "name": "stdout",
     "output_type": "stream",
     "text": [
      "ngrams\n",
      "Loading XL model\n",
      "Loading embeddings\n",
      "Loading dict\n"
     ]
    },
    {
     "name": "stderr",
     "output_type": "stream",
     "text": [
      "Loading cached processed dataset at /home/Florian.Borchert/.cache/huggingface/datasets/dis_temist/subtrack2_linking/3.0.1/a1915148dbf2c746ae734644cb098356da71f63ed6fa586d9b24ac3cfb42df01/cache-4d74224e395865f3.arrow\n"
     ]
    },
    {
     "data": {
      "application/vnd.jupyter.widget-view+json": {
       "model_id": "e1e3a25eab2f4220b4a2802775b95a53",
       "version_major": 2,
       "version_minor": 0
      },
      "text/plain": [
       "  0%|          | 0/1 [00:00<?, ?ba/s]"
      ]
     },
     "metadata": {},
     "output_type": "display_data"
    },
    {
     "name": "stdout",
     "output_type": "stream",
     "text": [
      "Calculate embeddings for 956 mentions\n",
      "Calculating score matrix\n",
      "Retrieving 100 candidates on GPU\n",
      "sap_umls\n"
     ]
    },
    {
     "name": "stderr",
     "output_type": "stream",
     "text": [
      "  0%|                                                                                             | 0/2 [00:00<?, ?it/s]\n"
     ]
    },
    {
     "data": {
      "application/vnd.jupyter.widget-view+json": {
       "model_id": "9d3147e7481d4f5880cdb18c3445bf78",
       "version_major": 2,
       "version_minor": 0
      },
      "text/plain": [
       "  0%|          | 0/117 [00:00<?, ?ex/s]"
      ]
     },
     "metadata": {},
     "output_type": "display_data"
    },
    {
     "data": {
      "application/vnd.jupyter.widget-view+json": {
       "model_id": "78bf83faeef8486e95af25b05fd8e55a",
       "version_major": 2,
       "version_minor": 0
      },
      "text/plain": [
       "  0%|          | 0/117 [00:00<?, ?ex/s]"
      ]
     },
     "metadata": {},
     "output_type": "display_data"
    },
    {
     "name": "stderr",
     "output_type": "stream",
     "text": [
      "Loading cached processed dataset at /home/Florian.Borchert/.cache/huggingface/datasets/dis_temist/subtrack2_linking/3.0.1/a1915148dbf2c746ae734644cb098356da71f63ed6fa586d9b24ac3cfb42df01/cache-4d74224e395865f3.arrow\n"
     ]
    },
    {
     "data": {
      "application/vnd.jupyter.widget-view+json": {
       "model_id": "49b32c38b590419ea9508a8604f3cdd2",
       "version_major": 2,
       "version_minor": 0
      },
      "text/plain": [
       "  0%|          | 0/117 [00:00<?, ?ex/s]"
      ]
     },
     "metadata": {},
     "output_type": "display_data"
    },
    {
     "name": "stdout",
     "output_type": "stream",
     "text": [
      ">>> Ensemble\n"
     ]
    },
    {
     "data": {
      "application/vnd.jupyter.widget-view+json": {
       "model_id": "cad2222be17e42f7ab38ea4cdbdd42bd",
       "version_major": 2,
       "version_minor": 0
      },
      "text/plain": [
       "  0%|          | 0/117 [00:00<?, ?ex/s]"
      ]
     },
     "metadata": {},
     "output_type": "display_data"
    },
    {
     "name": "stdout",
     "output_type": "stream",
     "text": [
      ">>> Ensemble (reranked)\n",
      "\n",
      "Done !\n"
     ]
    },
    {
     "data": {
      "application/vnd.jupyter.widget-view+json": {
       "model_id": "3691f203c4f64f828409f072d48b1340",
       "version_major": 2,
       "version_minor": 0
      },
      "text/plain": [
       "  0%|          | 0/117 [00:00<?, ?ex/s]"
      ]
     },
     "metadata": {},
     "output_type": "display_data"
    },
    {
     "name": "stdout",
     "output_type": "stream",
     "text": [
      ">>> Ensemble (reranked) post processed\n",
      "\n",
      "Done !\n"
     ]
    },
    {
     "name": "stderr",
     "output_type": "stream",
     "text": [
      "Loading cached processed dataset at /home/Florian.Borchert/.cache/huggingface/datasets/dis_temist/subtrack2_linking/3.0.1/a1915148dbf2c746ae734644cb098356da71f63ed6fa586d9b24ac3cfb42df01/cache-4d74224e395865f3.arrow\n"
     ]
    },
    {
     "data": {
      "application/vnd.jupyter.widget-view+json": {
       "model_id": "7f6740a78c1a482c95eee18a6f3dd38e",
       "version_major": 2,
       "version_minor": 0
      },
      "text/plain": [
       "  0%|          | 0/117 [00:00<?, ?ex/s]"
      ]
     },
     "metadata": {},
     "output_type": "display_data"
    },
    {
     "name": "stderr",
     "output_type": "stream",
     "text": [
      "/home/Florian.Borchert/.cache/pypoetry/virtualenvs/xl-bel-TMSi1vFk-py3.8/lib/python3.8/site-packages/scispacy/candidate_generation.py:284: VisibleDeprecationWarning: Creating an ndarray from ragged nested sequences (which is a list-or-tuple of lists-or-tuples-or ndarrays with different lengths or shapes) is deprecated. If you meant to do this, you must specify 'dtype=object' when creating the ndarray.\n",
      "  extended_neighbors[empty_vectors_boolean_flags] = numpy.array(neighbors)[:-1]\n",
      "/home/Florian.Borchert/.cache/pypoetry/virtualenvs/xl-bel-TMSi1vFk-py3.8/lib/python3.8/site-packages/scispacy/candidate_generation.py:285: VisibleDeprecationWarning: Creating an ndarray from ragged nested sequences (which is a list-or-tuple of lists-or-tuples-or ndarrays with different lengths or shapes) is deprecated. If you meant to do this, you must specify 'dtype=object' when creating the ndarray.\n",
      "  extended_distances[empty_vectors_boolean_flags] = numpy.array(distances)[:-1]\n"
     ]
    },
    {
     "name": "stdout",
     "output_type": "stream",
     "text": [
      "ngrams\n",
      "Loading XL model\n",
      "Loading embeddings\n",
      "Loading dict\n"
     ]
    },
    {
     "name": "stderr",
     "output_type": "stream",
     "text": [
      "Loading cached processed dataset at /home/Florian.Borchert/.cache/huggingface/datasets/dis_temist/subtrack2_linking/3.0.1/a1915148dbf2c746ae734644cb098356da71f63ed6fa586d9b24ac3cfb42df01/cache-4d74224e395865f3.arrow\n"
     ]
    },
    {
     "data": {
      "application/vnd.jupyter.widget-view+json": {
       "model_id": "884b862b20ad4081b6a6fd732f74bcb4",
       "version_major": 2,
       "version_minor": 0
      },
      "text/plain": [
       "  0%|          | 0/1 [00:00<?, ?ba/s]"
      ]
     },
     "metadata": {},
     "output_type": "display_data"
    },
    {
     "name": "stdout",
     "output_type": "stream",
     "text": [
      "Calculate embeddings for 956 mentions\n",
      "Calculating score matrix\n",
      "Retrieving 100 candidates on GPU\n",
      "sap_umls\n"
     ]
    },
    {
     "name": "stderr",
     "output_type": "stream",
     "text": [
      "  0%|                                                                                             | 0/2 [00:00<?, ?it/s]\n"
     ]
    },
    {
     "data": {
      "application/vnd.jupyter.widget-view+json": {
       "model_id": "c6354264efcd4114a6c150cfb77ee96c",
       "version_major": 2,
       "version_minor": 0
      },
      "text/plain": [
       "  0%|          | 0/117 [00:00<?, ?ex/s]"
      ]
     },
     "metadata": {},
     "output_type": "display_data"
    },
    {
     "data": {
      "application/vnd.jupyter.widget-view+json": {
       "model_id": "43c99ff019ae488c85d61255cc9469ba",
       "version_major": 2,
       "version_minor": 0
      },
      "text/plain": [
       "  0%|          | 0/117 [00:00<?, ?ex/s]"
      ]
     },
     "metadata": {},
     "output_type": "display_data"
    },
    {
     "name": "stderr",
     "output_type": "stream",
     "text": [
      "Loading cached processed dataset at /home/Florian.Borchert/.cache/huggingface/datasets/dis_temist/subtrack2_linking/3.0.1/a1915148dbf2c746ae734644cb098356da71f63ed6fa586d9b24ac3cfb42df01/cache-4d74224e395865f3.arrow\n"
     ]
    },
    {
     "data": {
      "application/vnd.jupyter.widget-view+json": {
       "model_id": "1593bf853dda4a1e843ba1cfb3b8fe7d",
       "version_major": 2,
       "version_minor": 0
      },
      "text/plain": [
       "  0%|          | 0/117 [00:00<?, ?ex/s]"
      ]
     },
     "metadata": {},
     "output_type": "display_data"
    },
    {
     "name": "stdout",
     "output_type": "stream",
     "text": [
      ">>> Ensemble\n"
     ]
    }
   ],
   "source": [
    "out_valid_reranking = run_linkers(X_valid, reranking_config, X_valid)\n",
    "\n",
    "# Run ensemble independently with larger maximum k to analyze recall @ k\n",
    "out_valid_ensemble = run_linkers(X_valid, ensemble_config, X_valid, do_rerank=False)"
   ]
  },
  {
   "cell_type": "markdown",
   "metadata": {},
   "source": [
    "#### Combine and analyze results"
   ]
  },
  {
   "cell_type": "code",
   "execution_count": 26,
   "metadata": {},
   "outputs": [],
   "source": [
    "out_valid = out_valid_reranking.copy()\n",
    "out_valid['ensemble'] = out_valid_ensemble['ensemble']"
   ]
  },
  {
   "cell_type": "code",
   "execution_count": 27,
   "metadata": {},
   "outputs": [
    {
     "data": {
      "text/plain": [
       "[{'text': 'hipertensión arterial',\n",
       "  'concept_id': '38341003',\n",
       "  'group': None,\n",
       "  'predicted_by': 'ngrams',\n",
       "  'score': 0.9583474056137757,\n",
       "  'target_kb': 'UMLS',\n",
       "  'type': None},\n",
       " {'text': 'HTA',\n",
       "  'concept_id': '38341003',\n",
       "  'group': None,\n",
       "  'predicted_by': 'sap_umls',\n",
       "  'score': 0.5167642673085627,\n",
       "  'target_kb': 'UMLS',\n",
       "  'type': None},\n",
       " {'text': 'diabetes mellitus (DM) tipo 2',\n",
       "  'concept_id': '44054006',\n",
       "  'group': None,\n",
       "  'predicted_by': 'ngrams',\n",
       "  'score': 1.8101373225169841,\n",
       "  'target_kb': 'UMLS',\n",
       "  'type': None},\n",
       " {'text': 'DM',\n",
       "  'concept_id': '73211009',\n",
       "  'group': None,\n",
       "  'predicted_by': 'sap_umls',\n",
       "  'score': 1.1574418737786067,\n",
       "  'target_kb': 'UMLS',\n",
       "  'type': None},\n",
       " {'text': 'pérdida progresiva de visión',\n",
       "  'concept_id': '36994005',\n",
       "  'group': None,\n",
       "  'predicted_by': 'sap_umls',\n",
       "  'score': 0.9033711391960327,\n",
       "  'target_kb': 'UMLS',\n",
       "  'type': None},\n",
       " {'text': 'edema parpebral superior con ptosis',\n",
       "  'concept_id': [],\n",
       "  'group': [],\n",
       "  'predicted_by': [],\n",
       "  'score': [],\n",
       "  'target_kb': [],\n",
       "  'type': []},\n",
       " {'text': 'edema orbitario',\n",
       "  'concept_id': '441796004',\n",
       "  'group': None,\n",
       "  'predicted_by': 'ngrams',\n",
       "  'score': 1.8394872350880038,\n",
       "  'target_kb': 'UMLS',\n",
       "  'type': None},\n",
       " {'text': 'quemosis conjuntival',\n",
       "  'concept_id': '8148005',\n",
       "  'group': None,\n",
       "  'predicted_by': 'ngrams',\n",
       "  'score': 1.7265527271583858,\n",
       "  'target_kb': 'UMLS',\n",
       "  'type': None},\n",
       " {'text': 'espondilitis a nivel L4-L5',\n",
       "  'concept_id': '84172003',\n",
       "  'group': None,\n",
       "  'predicted_by': 'ngrams',\n",
       "  'score': 0.4068518514858983,\n",
       "  'target_kb': 'UMLS',\n",
       "  'type': None},\n",
       " {'text': 'endocarditis',\n",
       "  'concept_id': '56819008',\n",
       "  'group': None,\n",
       "  'predicted_by': 'ngrams',\n",
       "  'score': 2.3098593046586218,\n",
       "  'target_kb': 'UMLS',\n",
       "  'type': None}]"
      ]
     },
     "execution_count": 27,
     "metadata": {},
     "output_type": "execute_result"
    }
   ],
   "source": [
    "e = out_valid['ensemble_reranked_post_process'][1]['entities']\n",
    "[dict(**{'text' : t}, **{k:(v[0] if len(v) > 0 else []) for k,v in e.items()}) for e, t in zip(e['concepts'], e['text'])]"
   ]
  },
  {
   "cell_type": "code",
   "execution_count": 28,
   "metadata": {},
   "outputs": [
    {
     "name": "stderr",
     "output_type": "stream",
     "text": [
      "100%|███████████████████████████████████████████████████████████████████████████████████| 50/50 [00:14<00:00,  3.35it/s]\n"
     ]
    }
   ],
   "source": [
    "k_range = range(1,11)\n",
    "evals, _ = run_eval(X_valid, out_valid.values(), thresholds=[0.0], ks=k_range)"
   ]
  },
  {
   "cell_type": "code",
   "execution_count": 29,
   "metadata": {},
   "outputs": [],
   "source": [
    "eval_df = merge_eval_df(out_valid, evals)"
   ]
  },
  {
   "cell_type": "code",
   "execution_count": 30,
   "metadata": {},
   "outputs": [
    {
     "data": {
      "text/html": [
       "<div>\n",
       "<style scoped>\n",
       "    .dataframe tbody tr th:only-of-type {\n",
       "        vertical-align: middle;\n",
       "    }\n",
       "\n",
       "    .dataframe tbody tr th {\n",
       "        vertical-align: top;\n",
       "    }\n",
       "\n",
       "    .dataframe thead th {\n",
       "        text-align: right;\n",
       "    }\n",
       "</style>\n",
       "<table border=\"1\" class=\"dataframe\">\n",
       "  <thead>\n",
       "    <tr style=\"text-align: right;\">\n",
       "      <th></th>\n",
       "      <th></th>\n",
       "      <th>f1@1</th>\n",
       "      <th>p@1</th>\n",
       "      <th>r@1</th>\n",
       "      <th>f1@2</th>\n",
       "      <th>p@2</th>\n",
       "      <th>r@2</th>\n",
       "      <th>f1@3</th>\n",
       "      <th>p@3</th>\n",
       "      <th>r@3</th>\n",
       "      <th>f1@4</th>\n",
       "      <th>...</th>\n",
       "      <th>r@7</th>\n",
       "      <th>f1@8</th>\n",
       "      <th>p@8</th>\n",
       "      <th>r@8</th>\n",
       "      <th>f1@9</th>\n",
       "      <th>p@9</th>\n",
       "      <th>r@9</th>\n",
       "      <th>f1@10</th>\n",
       "      <th>p@10</th>\n",
       "      <th>r@10</th>\n",
       "    </tr>\n",
       "    <tr>\n",
       "      <th>linker</th>\n",
       "      <th>threshold</th>\n",
       "      <th></th>\n",
       "      <th></th>\n",
       "      <th></th>\n",
       "      <th></th>\n",
       "      <th></th>\n",
       "      <th></th>\n",
       "      <th></th>\n",
       "      <th></th>\n",
       "      <th></th>\n",
       "      <th></th>\n",
       "      <th></th>\n",
       "      <th></th>\n",
       "      <th></th>\n",
       "      <th></th>\n",
       "      <th></th>\n",
       "      <th></th>\n",
       "      <th></th>\n",
       "      <th></th>\n",
       "      <th></th>\n",
       "      <th></th>\n",
       "      <th></th>\n",
       "    </tr>\n",
       "  </thead>\n",
       "  <tbody>\n",
       "    <tr>\n",
       "      <th>ngrams</th>\n",
       "      <th>0.000</th>\n",
       "      <td>0.412</td>\n",
       "      <td>0.428</td>\n",
       "      <td>0.397</td>\n",
       "      <td>0.342</td>\n",
       "      <td>0.263</td>\n",
       "      <td>0.489</td>\n",
       "      <td>0.271</td>\n",
       "      <td>0.185</td>\n",
       "      <td>0.513</td>\n",
       "      <td>0.230</td>\n",
       "      <td>...</td>\n",
       "      <td>0.579</td>\n",
       "      <td>0.141</td>\n",
       "      <td>0.080</td>\n",
       "      <td>0.594</td>\n",
       "      <td>0.129</td>\n",
       "      <td>0.072</td>\n",
       "      <td>0.601</td>\n",
       "      <td>0.118</td>\n",
       "      <td>0.066</td>\n",
       "      <td>0.609</td>\n",
       "    </tr>\n",
       "    <tr>\n",
       "      <th>sap_umls</th>\n",
       "      <th>0.000</th>\n",
       "      <td>0.447</td>\n",
       "      <td>0.459</td>\n",
       "      <td>0.436</td>\n",
       "      <td>0.457</td>\n",
       "      <td>0.379</td>\n",
       "      <td>0.576</td>\n",
       "      <td>0.407</td>\n",
       "      <td>0.306</td>\n",
       "      <td>0.608</td>\n",
       "      <td>0.371</td>\n",
       "      <td>...</td>\n",
       "      <td>0.649</td>\n",
       "      <td>0.295</td>\n",
       "      <td>0.190</td>\n",
       "      <td>0.654</td>\n",
       "      <td>0.284</td>\n",
       "      <td>0.181</td>\n",
       "      <td>0.660</td>\n",
       "      <td>0.276</td>\n",
       "      <td>0.174</td>\n",
       "      <td>0.666</td>\n",
       "    </tr>\n",
       "    <tr>\n",
       "      <th>ensemble</th>\n",
       "      <th>0.000</th>\n",
       "      <td>0.504</td>\n",
       "      <td>0.563</td>\n",
       "      <td>0.457</td>\n",
       "      <td>0.482</td>\n",
       "      <td>0.432</td>\n",
       "      <td>0.545</td>\n",
       "      <td>0.439</td>\n",
       "      <td>0.355</td>\n",
       "      <td>0.576</td>\n",
       "      <td>0.400</td>\n",
       "      <td>...</td>\n",
       "      <td>0.620</td>\n",
       "      <td>0.318</td>\n",
       "      <td>0.213</td>\n",
       "      <td>0.623</td>\n",
       "      <td>0.309</td>\n",
       "      <td>0.205</td>\n",
       "      <td>0.628</td>\n",
       "      <td>0.304</td>\n",
       "      <td>0.200</td>\n",
       "      <td>0.631</td>\n",
       "    </tr>\n",
       "    <tr>\n",
       "      <th>ensemble_reranked</th>\n",
       "      <th>0.000</th>\n",
       "      <td>0.590</td>\n",
       "      <td>0.659</td>\n",
       "      <td>0.534</td>\n",
       "      <td>0.568</td>\n",
       "      <td>0.575</td>\n",
       "      <td>0.561</td>\n",
       "      <td>0.507</td>\n",
       "      <td>0.450</td>\n",
       "      <td>0.581</td>\n",
       "      <td>0.443</td>\n",
       "      <td>...</td>\n",
       "      <td>0.605</td>\n",
       "      <td>0.399</td>\n",
       "      <td>0.298</td>\n",
       "      <td>0.605</td>\n",
       "      <td>0.399</td>\n",
       "      <td>0.298</td>\n",
       "      <td>0.605</td>\n",
       "      <td>0.399</td>\n",
       "      <td>0.298</td>\n",
       "      <td>0.605</td>\n",
       "    </tr>\n",
       "    <tr>\n",
       "      <th>ensemble_reranked_post_process</th>\n",
       "      <th>0.000</th>\n",
       "      <td>0.688</td>\n",
       "      <td>0.766</td>\n",
       "      <td>0.625</td>\n",
       "      <td>0.635</td>\n",
       "      <td>0.631</td>\n",
       "      <td>0.640</td>\n",
       "      <td>0.562</td>\n",
       "      <td>0.494</td>\n",
       "      <td>0.651</td>\n",
       "      <td>0.487</td>\n",
       "      <td>...</td>\n",
       "      <td>0.668</td>\n",
       "      <td>0.438</td>\n",
       "      <td>0.326</td>\n",
       "      <td>0.668</td>\n",
       "      <td>0.438</td>\n",
       "      <td>0.326</td>\n",
       "      <td>0.668</td>\n",
       "      <td>0.438</td>\n",
       "      <td>0.326</td>\n",
       "      <td>0.668</td>\n",
       "    </tr>\n",
       "  </tbody>\n",
       "</table>\n",
       "<p>5 rows × 30 columns</p>\n",
       "</div>"
      ],
      "text/plain": [
       "                                          f1@1   p@1   r@1  f1@2   p@2   r@2  \\\n",
       "linker                         threshold                                       \n",
       "ngrams                         0.000     0.412 0.428 0.397 0.342 0.263 0.489   \n",
       "sap_umls                       0.000     0.447 0.459 0.436 0.457 0.379 0.576   \n",
       "ensemble                       0.000     0.504 0.563 0.457 0.482 0.432 0.545   \n",
       "ensemble_reranked              0.000     0.590 0.659 0.534 0.568 0.575 0.561   \n",
       "ensemble_reranked_post_process 0.000     0.688 0.766 0.625 0.635 0.631 0.640   \n",
       "\n",
       "                                          f1@3   p@3   r@3  f1@4  ...   r@7  \\\n",
       "linker                         threshold                          ...         \n",
       "ngrams                         0.000     0.271 0.185 0.513 0.230  ... 0.579   \n",
       "sap_umls                       0.000     0.407 0.306 0.608 0.371  ... 0.649   \n",
       "ensemble                       0.000     0.439 0.355 0.576 0.400  ... 0.620   \n",
       "ensemble_reranked              0.000     0.507 0.450 0.581 0.443  ... 0.605   \n",
       "ensemble_reranked_post_process 0.000     0.562 0.494 0.651 0.487  ... 0.668   \n",
       "\n",
       "                                          f1@8   p@8   r@8  f1@9   p@9   r@9  \\\n",
       "linker                         threshold                                       \n",
       "ngrams                         0.000     0.141 0.080 0.594 0.129 0.072 0.601   \n",
       "sap_umls                       0.000     0.295 0.190 0.654 0.284 0.181 0.660   \n",
       "ensemble                       0.000     0.318 0.213 0.623 0.309 0.205 0.628   \n",
       "ensemble_reranked              0.000     0.399 0.298 0.605 0.399 0.298 0.605   \n",
       "ensemble_reranked_post_process 0.000     0.438 0.326 0.668 0.438 0.326 0.668   \n",
       "\n",
       "                                          f1@10  p@10  r@10  \n",
       "linker                         threshold                     \n",
       "ngrams                         0.000      0.118 0.066 0.609  \n",
       "sap_umls                       0.000      0.276 0.174 0.666  \n",
       "ensemble                       0.000      0.304 0.200 0.631  \n",
       "ensemble_reranked              0.000      0.399 0.298 0.605  \n",
       "ensemble_reranked_post_process 0.000      0.438 0.326 0.668  \n",
       "\n",
       "[5 rows x 30 columns]"
      ]
     },
     "execution_count": 30,
     "metadata": {},
     "output_type": "execute_result"
    }
   ],
   "source": [
    "eval_df"
   ]
  },
  {
   "cell_type": "markdown",
   "metadata": {},
   "source": [
    "### Precision, Recall, F1 for different numbers of candidates"
   ]
  },
  {
   "cell_type": "code",
   "execution_count": 31,
   "metadata": {},
   "outputs": [
    {
     "data": {
      "image/png": "[encoded data removed]",
      "text/plain": [
       "<Figure size 1584x432 with 3 Axes>"
      ]
     },
     "metadata": {
      "needs_background": "light"
     },
     "output_type": "display_data"
    }
   ],
   "source": [
    "import matplotlib\n",
    "\n",
    "%matplotlib inline\n",
    "import matplotlib.pyplot as plt\n",
    "\n",
    "matplotlib.rcParams.update({'font.size': 20})\n",
    "\n",
    "fig, axs = plt.subplots(1, 3, figsize=(22,6))\n",
    "\n",
    "for j, key in enumerate(['p', 'r', 'f1']):\n",
    "    ax = axs[j]\n",
    "    cols = [f'{key}@{i}' for i in k_range]\n",
    "    subset_df = eval_df[cols]\n",
    "    subset_df.columns = k_range\n",
    "    subset_df.T.plot(ax=ax, legend=False, style=['.--','s:','x-','x--', 'o-'])\n",
    "    ax.grid(color='lightgray', linestyle='-', linewidth=0.5)\n",
    "    ax.set_ylim(0.0,0.8)\n",
    "    ax.set_xticks(k_range)\n",
    "    ax_labels = {\n",
    "        'p' : 'Precision',\n",
    "        'r' : 'Recall',\n",
    "        'f1' : 'F1'\n",
    "    }\n",
    "    ax.set_title(ax_labels[key])\n",
    "    ax.set_xlabel('k')\n",
    "    \n",
    "handles, labels = axs[0].get_legend_handles_labels()\n",
    "\n",
    "fig.legend(handles, \n",
    "           ['TF-IDF', 'SapBERT', 'Ensemble', 'Ensemble + Reranking', 'Ensemble + Reranking + Training Lookup'], \n",
    "           loc='center',\n",
    "           ncol=3, bbox_to_anchor=(0.512, -0.1, 0.00, 0.0))\n",
    "\n",
    "plt.subplots_adjust(wspace=0.20)\n",
    "\n",
    "plt.xticks(k_range)\n",
    "plt.savefig('img/scores_at_k.png', dpi=600, bbox_inches='tight')"
   ]
  },
  {
   "cell_type": "code",
   "execution_count": 32,
   "metadata": {},
   "outputs": [],
   "source": [
    "### Distribution of semantic types"
   ]
  },
  {
   "cell_type": "code",
   "execution_count": 33,
   "metadata": {},
   "outputs": [
    {
     "name": "stderr",
     "output_type": "stream",
     "text": [
      "100%|█████████████████████████████████████████████████████████████████████████████████████| 5/5 [00:05<00:00,  1.19s/it]\n"
     ]
    },
    {
     "data": {
      "text/html": [
       "<div>\n",
       "<style scoped>\n",
       "    .dataframe tbody tr th:only-of-type {\n",
       "        vertical-align: middle;\n",
       "    }\n",
       "\n",
       "    .dataframe tbody tr th {\n",
       "        vertical-align: top;\n",
       "    }\n",
       "\n",
       "    .dataframe thead th {\n",
       "        text-align: right;\n",
       "    }\n",
       "</style>\n",
       "<table border=\"1\" class=\"dataframe\">\n",
       "  <thead>\n",
       "    <tr style=\"text-align: right;\">\n",
       "      <th></th>\n",
       "      <th></th>\n",
       "      <th>f1@100</th>\n",
       "      <th>p@100</th>\n",
       "      <th>r@100</th>\n",
       "    </tr>\n",
       "    <tr>\n",
       "      <th>linker</th>\n",
       "      <th>threshold</th>\n",
       "      <th></th>\n",
       "      <th></th>\n",
       "      <th></th>\n",
       "    </tr>\n",
       "  </thead>\n",
       "  <tbody>\n",
       "    <tr>\n",
       "      <th>ngrams</th>\n",
       "      <th>0.000</th>\n",
       "      <td>0.017</td>\n",
       "      <td>0.008</td>\n",
       "      <td>0.732</td>\n",
       "    </tr>\n",
       "    <tr>\n",
       "      <th>sap_umls</th>\n",
       "      <th>0.000</th>\n",
       "      <td>0.079</td>\n",
       "      <td>0.042</td>\n",
       "      <td>0.780</td>\n",
       "    </tr>\n",
       "    <tr>\n",
       "      <th>ensemble</th>\n",
       "      <th>0.000</th>\n",
       "      <td>0.160</td>\n",
       "      <td>0.091</td>\n",
       "      <td>0.674</td>\n",
       "    </tr>\n",
       "    <tr>\n",
       "      <th>ensemble_reranked</th>\n",
       "      <th>0.000</th>\n",
       "      <td>0.399</td>\n",
       "      <td>0.298</td>\n",
       "      <td>0.605</td>\n",
       "    </tr>\n",
       "    <tr>\n",
       "      <th>ensemble_reranked_post_process</th>\n",
       "      <th>0.000</th>\n",
       "      <td>0.438</td>\n",
       "      <td>0.326</td>\n",
       "      <td>0.668</td>\n",
       "    </tr>\n",
       "  </tbody>\n",
       "</table>\n",
       "</div>"
      ],
      "text/plain": [
       "                                          f1@100  p@100  r@100\n",
       "linker                         threshold                      \n",
       "ngrams                         0.000       0.017  0.008  0.732\n",
       "sap_umls                       0.000       0.079  0.042  0.780\n",
       "ensemble                       0.000       0.160  0.091  0.674\n",
       "ensemble_reranked              0.000       0.399  0.298  0.605\n",
       "ensemble_reranked_post_process 0.000       0.438  0.326  0.668"
      ]
     },
     "execution_count": 33,
     "metadata": {},
     "output_type": "execute_result"
    }
   ],
   "source": [
    "merge_eval_df(out_valid, run_eval(X_valid, out_valid.values(), thresholds=[0.0], ks=[100])[0])"
   ]
  },
  {
   "cell_type": "code",
   "execution_count": 34,
   "metadata": {},
   "outputs": [],
   "source": [
    "def type_count(data, name=None, cols=['disorder', 'finding', 'morphologic abnormality']):\n",
    "    types = []\n",
    "    for e in data['entities']:\n",
    "        for c in e['concepts']:\n",
    "            if len(c['concept_id']) > 0:\n",
    "                types.append(get_type(c['concept_id'][0]))\n",
    "            #else:\n",
    "            #    types.append('None')\n",
    "    s = pd.Series(types).value_counts() / pd.Series(types).value_counts().sum()\n",
    "    s.name=name\n",
    "    #if not 'None' in s:\n",
    "    #    s['None'] = 0\n",
    "    s['Others'] = s[[i for i in s.index if i not in cols]].sum()\n",
    "    return s.loc[cols + ['Others']]"
   ]
  },
  {
   "cell_type": "code",
   "execution_count": 35,
   "metadata": {},
   "outputs": [
    {
     "data": {
      "text/plain": [
       "disorder                  0.750\n",
       "finding                   0.081\n",
       "morphologic abnormality   0.148\n",
       "Others                    0.021\n",
       "Name: Ensemble, dtype: float64"
      ]
     },
     "execution_count": 35,
     "metadata": {},
     "output_type": "execute_result"
    }
   ],
   "source": [
    "type_count(out_valid['ensemble'], 'Ensemble')"
   ]
  },
  {
   "cell_type": "code",
   "execution_count": 36,
   "metadata": {},
   "outputs": [
    {
     "data": {
      "text/plain": [
       "disorder                  0.856\n",
       "finding                   0.096\n",
       "morphologic abnormality   0.037\n",
       "Others                    0.012\n",
       "Name: Ground Truth, dtype: float64"
      ]
     },
     "execution_count": 36,
     "metadata": {},
     "output_type": "execute_result"
    }
   ],
   "source": [
    "type_count(X_valid, 'Ground Truth')"
   ]
  },
  {
   "cell_type": "code",
   "execution_count": 37,
   "metadata": {},
   "outputs": [
    {
     "data": {
      "image/png": "[encoded data removed]",
      "text/plain": [
       "<Figure size 828x432 with 1 Axes>"
      ]
     },
     "metadata": {
      "needs_background": "light"
     },
     "output_type": "display_data"
    }
   ],
   "source": [
    "fig, ax = plt.subplots(1,1, figsize=(11.5,6))\n",
    "ax = pd.concat([\n",
    "    type_count(out_valid['ensemble'], 'Ensemble'),\n",
    "    type_count(out_valid['ensemble_reranked'], 'Ensemble + Reranking'),\n",
    "    type_count(out_valid['ensemble_reranked_post_process'], 'Ensemble + Reranking + Training Lookup'),\n",
    "    type_count(X_valid, 'Ground Truth'),\n",
    "], axis=1).plot.bar(color=['#C0F5EC', '#3CBFA9', '#118470', 'lightyellow'], edgecolor='black', ax=ax, legend=False)\n",
    "ax.set_xticklabels(['Disorder', 'Finding', 'Morphologic\\nabormality', 'Other'])\n",
    "plt.yticks(np.arange(0.0, 1.01, 0.1))\n",
    "plt.xticks(rotation=0)\n",
    "\n",
    "hatches = [\"x\", \"/\", \"o\", \"\"]\n",
    "\n",
    "handles, labels = ax.get_legend_handles_labels()\n",
    "\n",
    "for i, h in enumerate(handles):\n",
    "    for p in h.patches:\n",
    "        p.set_hatch(hatches[i])\n",
    "\n",
    "fig.legend(handles, labels, bbox_to_anchor=(0.9,0.87))\n",
    "\n",
    "for i, p in enumerate(ax.patches):\n",
    "    p.set_hatch(hatches[int(i/4)])\n",
    "\n",
    "plt.savefig('img/type_distribution.png', dpi=600)"
   ]
  },
  {
   "cell_type": "markdown",
   "metadata": {},
   "source": [
    "# Submission Run"
   ]
  },
  {
   "cell_type": "markdown",
   "metadata": {},
   "source": [
    "## Training Set"
   ]
  },
  {
   "cell_type": "code",
   "execution_count": 38,
   "metadata": {},
   "outputs": [
    {
     "name": "stderr",
     "output_type": "stream",
     "text": [
      "Loading cached processed dataset at /home/Florian.Borchert/.cache/huggingface/datasets/dis_temist/subtrack2_linking/3.0.1/a1915148dbf2c746ae734644cb098356da71f63ed6fa586d9b24ac3cfb42df01/cache-38c19da92ef9f593.arrow\n"
     ]
    },
    {
     "data": {
      "application/vnd.jupyter.widget-view+json": {
       "model_id": "86525327476e45f8ba651c272730a8dc",
       "version_major": 2,
       "version_minor": 0
      },
      "text/plain": [
       "  0%|          | 0/466 [00:00<?, ?ex/s]"
      ]
     },
     "metadata": {},
     "output_type": "display_data"
    },
    {
     "name": "stdout",
     "output_type": "stream",
     "text": [
      "ngrams\n",
      "Loading XL model\n",
      "Loading embeddings\n",
      "Loading dict\n"
     ]
    },
    {
     "name": "stderr",
     "output_type": "stream",
     "text": [
      "Loading cached processed dataset at /home/Florian.Borchert/.cache/huggingface/datasets/dis_temist/subtrack2_linking/3.0.1/a1915148dbf2c746ae734644cb098356da71f63ed6fa586d9b24ac3cfb42df01/cache-38c19da92ef9f593.arrow\n"
     ]
    },
    {
     "data": {
      "application/vnd.jupyter.widget-view+json": {
       "model_id": "68e6d488386046c0811f808dc32da9d0",
       "version_major": 2,
       "version_minor": 0
      },
      "text/plain": [
       "  0%|          | 0/1 [00:00<?, ?ba/s]"
      ]
     },
     "metadata": {},
     "output_type": "display_data"
    },
    {
     "name": "stdout",
     "output_type": "stream",
     "text": [
      "Calculate embeddings for 4180 mentions\n",
      "Calculating score matrix\n",
      "Retrieving 100 candidates on GPU\n",
      "sap_umls\n"
     ]
    },
    {
     "name": "stderr",
     "output_type": "stream",
     "text": [
      "  0%|                                                                                             | 0/2 [00:02<?, ?it/s]\n"
     ]
    },
    {
     "data": {
      "application/vnd.jupyter.widget-view+json": {
       "model_id": "2ae4f796d1aa4b8f97dd0bfb1a9d0e40",
       "version_major": 2,
       "version_minor": 0
      },
      "text/plain": [
       "  0%|          | 0/466 [00:00<?, ?ex/s]"
      ]
     },
     "metadata": {},
     "output_type": "display_data"
    },
    {
     "data": {
      "application/vnd.jupyter.widget-view+json": {
       "model_id": "403ede829b424302a9968ed29d0e8f56",
       "version_major": 2,
       "version_minor": 0
      },
      "text/plain": [
       "  0%|          | 0/466 [00:00<?, ?ex/s]"
      ]
     },
     "metadata": {},
     "output_type": "display_data"
    },
    {
     "name": "stderr",
     "output_type": "stream",
     "text": [
      "Loading cached processed dataset at /home/Florian.Borchert/.cache/huggingface/datasets/dis_temist/subtrack2_linking/3.0.1/a1915148dbf2c746ae734644cb098356da71f63ed6fa586d9b24ac3cfb42df01/cache-38c19da92ef9f593.arrow\n"
     ]
    },
    {
     "data": {
      "application/vnd.jupyter.widget-view+json": {
       "model_id": "0b875d428fc044f29fc5d1f5369764f6",
       "version_major": 2,
       "version_minor": 0
      },
      "text/plain": [
       "  0%|          | 0/466 [00:00<?, ?ex/s]"
      ]
     },
     "metadata": {},
     "output_type": "display_data"
    },
    {
     "name": "stdout",
     "output_type": "stream",
     "text": [
      ">>> Ensemble\n"
     ]
    },
    {
     "name": "stderr",
     "output_type": "stream",
     "text": [
      "Loading cached processed dataset at /home/Florian.Borchert/.cache/huggingface/datasets/dis_temist/subtrack2_linking/3.0.1/a1915148dbf2c746ae734644cb098356da71f63ed6fa586d9b24ac3cfb42df01/cache-38c19da92ef9f593.arrow\n"
     ]
    },
    {
     "data": {
      "application/vnd.jupyter.widget-view+json": {
       "model_id": "f24092b7d4294dcb8d5b04ce180c8188",
       "version_major": 2,
       "version_minor": 0
      },
      "text/plain": [
       "  0%|          | 0/466 [00:00<?, ?ex/s]"
      ]
     },
     "metadata": {},
     "output_type": "display_data"
    },
    {
     "name": "stdout",
     "output_type": "stream",
     "text": [
      "ngrams\n",
      "Loading XL model\n",
      "Loading embeddings\n",
      "Loading dict\n"
     ]
    },
    {
     "name": "stderr",
     "output_type": "stream",
     "text": [
      "Loading cached processed dataset at /home/Florian.Borchert/.cache/huggingface/datasets/dis_temist/subtrack2_linking/3.0.1/a1915148dbf2c746ae734644cb098356da71f63ed6fa586d9b24ac3cfb42df01/cache-38c19da92ef9f593.arrow\n"
     ]
    },
    {
     "data": {
      "application/vnd.jupyter.widget-view+json": {
       "model_id": "e9fd763ed2c040a088953c9dc5c5c766",
       "version_major": 2,
       "version_minor": 0
      },
      "text/plain": [
       "  0%|          | 0/1 [00:00<?, ?ba/s]"
      ]
     },
     "metadata": {},
     "output_type": "display_data"
    },
    {
     "name": "stdout",
     "output_type": "stream",
     "text": [
      "Calculate embeddings for 4180 mentions\n",
      "Calculating score matrix\n",
      "Retrieving 100 candidates on GPU\n",
      "sap_umls\n"
     ]
    },
    {
     "name": "stderr",
     "output_type": "stream",
     "text": [
      "  0%|                                                                                             | 0/2 [00:02<?, ?it/s]\n"
     ]
    },
    {
     "data": {
      "application/vnd.jupyter.widget-view+json": {
       "model_id": "52d9bd29b6bb4e7e877f452d029a89c4",
       "version_major": 2,
       "version_minor": 0
      },
      "text/plain": [
       "  0%|          | 0/466 [00:00<?, ?ex/s]"
      ]
     },
     "metadata": {},
     "output_type": "display_data"
    },
    {
     "data": {
      "application/vnd.jupyter.widget-view+json": {
       "model_id": "79430af46f4c4871a56fdc8487235ad5",
       "version_major": 2,
       "version_minor": 0
      },
      "text/plain": [
       "  0%|          | 0/466 [00:00<?, ?ex/s]"
      ]
     },
     "metadata": {},
     "output_type": "display_data"
    },
    {
     "name": "stderr",
     "output_type": "stream",
     "text": [
      "Loading cached processed dataset at /home/Florian.Borchert/.cache/huggingface/datasets/dis_temist/subtrack2_linking/3.0.1/a1915148dbf2c746ae734644cb098356da71f63ed6fa586d9b24ac3cfb42df01/cache-38c19da92ef9f593.arrow\n"
     ]
    },
    {
     "data": {
      "application/vnd.jupyter.widget-view+json": {
       "model_id": "2f056bd4691e40edaa511b03e8c9a603",
       "version_major": 2,
       "version_minor": 0
      },
      "text/plain": [
       "  0%|          | 0/466 [00:00<?, ?ex/s]"
      ]
     },
     "metadata": {},
     "output_type": "display_data"
    },
    {
     "name": "stdout",
     "output_type": "stream",
     "text": [
      ">>> Ensemble\n"
     ]
    },
    {
     "data": {
      "application/vnd.jupyter.widget-view+json": {
       "model_id": "6460d027458f4be3bce4c6283b374309",
       "version_major": 2,
       "version_minor": 0
      },
      "text/plain": [
       "  0%|          | 0/466 [00:00<?, ?ex/s]"
      ]
     },
     "metadata": {},
     "output_type": "display_data"
    },
    {
     "name": "stdout",
     "output_type": "stream",
     "text": [
      ">>> Ensemble (reranked)\n",
      "\n",
      "Done !\n"
     ]
    },
    {
     "data": {
      "application/vnd.jupyter.widget-view+json": {
       "model_id": "22a81c1fbe874f7f8ee7eeb771ff7728",
       "version_major": 2,
       "version_minor": 0
      },
      "text/plain": [
       "  0%|          | 0/466 [00:00<?, ?ex/s]"
      ]
     },
     "metadata": {},
     "output_type": "display_data"
    },
    {
     "name": "stdout",
     "output_type": "stream",
     "text": [
      ">>> Ensemble (reranked) post processed\n",
      "\n",
      "Done !\n"
     ]
    }
   ],
   "source": [
    "scores, predictions = run_all_linkers(X)"
   ]
  },
  {
   "cell_type": "code",
   "execution_count": 39,
   "metadata": {},
   "outputs": [
    {
     "data": {
      "text/html": [
       "<div>\n",
       "<style scoped>\n",
       "    .dataframe tbody tr th:only-of-type {\n",
       "        vertical-align: middle;\n",
       "    }\n",
       "\n",
       "    .dataframe tbody tr th {\n",
       "        vertical-align: top;\n",
       "    }\n",
       "\n",
       "    .dataframe thead th {\n",
       "        text-align: right;\n",
       "    }\n",
       "</style>\n",
       "<table border=\"1\" class=\"dataframe\">\n",
       "  <thead>\n",
       "    <tr style=\"text-align: right;\">\n",
       "      <th></th>\n",
       "      <th>p_loose</th>\n",
       "      <th>r_loose</th>\n",
       "      <th>f1_loose</th>\n",
       "      <th>p_strict</th>\n",
       "      <th>r_strict</th>\n",
       "      <th>f1_strict</th>\n",
       "    </tr>\n",
       "    <tr>\n",
       "      <th>name</th>\n",
       "      <th></th>\n",
       "      <th></th>\n",
       "      <th></th>\n",
       "      <th></th>\n",
       "      <th></th>\n",
       "      <th></th>\n",
       "    </tr>\n",
       "  </thead>\n",
       "  <tbody>\n",
       "    <tr>\n",
       "      <th>n-grams (DisTEMIST)</th>\n",
       "      <td>0.490</td>\n",
       "      <td>0.465</td>\n",
       "      <td>0.477</td>\n",
       "      <td>0.490</td>\n",
       "      <td>0.463</td>\n",
       "      <td>0.476</td>\n",
       "    </tr>\n",
       "    <tr>\n",
       "      <th>sapBERT (DisTEMIST + UMLS)</th>\n",
       "      <td>0.477</td>\n",
       "      <td>0.458</td>\n",
       "      <td>0.467</td>\n",
       "      <td>0.477</td>\n",
       "      <td>0.456</td>\n",
       "      <td>0.466</td>\n",
       "    </tr>\n",
       "    <tr>\n",
       "      <th>Ensemble</th>\n",
       "      <td>0.591</td>\n",
       "      <td>0.495</td>\n",
       "      <td>0.539</td>\n",
       "      <td>0.590</td>\n",
       "      <td>0.493</td>\n",
       "      <td>0.537</td>\n",
       "    </tr>\n",
       "    <tr>\n",
       "      <th>Ensemble + Reranking</th>\n",
       "      <td>0.667</td>\n",
       "      <td>0.560</td>\n",
       "      <td>0.609</td>\n",
       "      <td>0.667</td>\n",
       "      <td>0.558</td>\n",
       "      <td>0.608</td>\n",
       "    </tr>\n",
       "    <tr>\n",
       "      <th>Ensemble + Reranking + Post-Processing</th>\n",
       "      <td>1.000</td>\n",
       "      <td>0.958</td>\n",
       "      <td>0.978</td>\n",
       "      <td>1.000</td>\n",
       "      <td>0.957</td>\n",
       "      <td>0.978</td>\n",
       "    </tr>\n",
       "  </tbody>\n",
       "</table>\n",
       "</div>"
      ],
      "text/plain": [
       "                                        p_loose  r_loose  f1_loose  p_strict  \\\n",
       "name                                                                           \n",
       "n-grams (DisTEMIST)                       0.490    0.465     0.477     0.490   \n",
       "sapBERT (DisTEMIST + UMLS)                0.477    0.458     0.467     0.477   \n",
       "Ensemble                                  0.591    0.495     0.539     0.590   \n",
       "Ensemble + Reranking                      0.667    0.560     0.609     0.667   \n",
       "Ensemble + Reranking + Post-Processing    1.000    0.958     0.978     1.000   \n",
       "\n",
       "                                        r_strict  f1_strict  \n",
       "name                                                         \n",
       "n-grams (DisTEMIST)                        0.463      0.476  \n",
       "sapBERT (DisTEMIST + UMLS)                 0.456      0.466  \n",
       "Ensemble                                   0.493      0.537  \n",
       "Ensemble + Reranking                       0.558      0.608  \n",
       "Ensemble + Reranking + Post-Processing     0.957      0.978  "
      ]
     },
     "execution_count": 39,
     "metadata": {},
     "output_type": "execute_result"
    }
   ],
   "source": [
    "scores"
   ]
  },
  {
   "cell_type": "markdown",
   "metadata": {},
   "source": [
    "## Validation Set (w/ Gold Entities)"
   ]
  },
  {
   "cell_type": "code",
   "execution_count": 40,
   "metadata": {},
   "outputs": [
    {
     "name": "stderr",
     "output_type": "stream",
     "text": [
      "Loading cached processed dataset at /home/Florian.Borchert/.cache/huggingface/datasets/dis_temist/subtrack2_linking/3.0.1/a1915148dbf2c746ae734644cb098356da71f63ed6fa586d9b24ac3cfb42df01/cache-4d74224e395865f3.arrow\n"
     ]
    },
    {
     "data": {
      "application/vnd.jupyter.widget-view+json": {
       "model_id": "549b45c376ff418f9b666292d26b2215",
       "version_major": 2,
       "version_minor": 0
      },
      "text/plain": [
       "  0%|          | 0/117 [00:00<?, ?ex/s]"
      ]
     },
     "metadata": {},
     "output_type": "display_data"
    },
    {
     "name": "stdout",
     "output_type": "stream",
     "text": [
      "ngrams\n",
      "Loading XL model\n",
      "Loading embeddings\n",
      "Loading dict\n"
     ]
    },
    {
     "name": "stderr",
     "output_type": "stream",
     "text": [
      "Loading cached processed dataset at /home/Florian.Borchert/.cache/huggingface/datasets/dis_temist/subtrack2_linking/3.0.1/a1915148dbf2c746ae734644cb098356da71f63ed6fa586d9b24ac3cfb42df01/cache-4d74224e395865f3.arrow\n"
     ]
    },
    {
     "data": {
      "application/vnd.jupyter.widget-view+json": {
       "model_id": "4924a1fc27c0460395fc05b1738a83c7",
       "version_major": 2,
       "version_minor": 0
      },
      "text/plain": [
       "  0%|          | 0/1 [00:00<?, ?ba/s]"
      ]
     },
     "metadata": {},
     "output_type": "display_data"
    },
    {
     "name": "stdout",
     "output_type": "stream",
     "text": [
      "Calculate embeddings for 956 mentions\n",
      "Calculating score matrix\n",
      "Retrieving 100 candidates on GPU\n",
      "sap_umls\n"
     ]
    },
    {
     "name": "stderr",
     "output_type": "stream",
     "text": [
      "  0%|                                                                                             | 0/2 [00:00<?, ?it/s]\n"
     ]
    },
    {
     "data": {
      "application/vnd.jupyter.widget-view+json": {
       "model_id": "29a3424af88e410e8af8b083e8ee1894",
       "version_major": 2,
       "version_minor": 0
      },
      "text/plain": [
       "  0%|          | 0/117 [00:00<?, ?ex/s]"
      ]
     },
     "metadata": {},
     "output_type": "display_data"
    },
    {
     "data": {
      "application/vnd.jupyter.widget-view+json": {
       "model_id": "ade5af1f020b405589a30d0559f671c8",
       "version_major": 2,
       "version_minor": 0
      },
      "text/plain": [
       "  0%|          | 0/117 [00:00<?, ?ex/s]"
      ]
     },
     "metadata": {},
     "output_type": "display_data"
    },
    {
     "name": "stderr",
     "output_type": "stream",
     "text": [
      "Loading cached processed dataset at /home/Florian.Borchert/.cache/huggingface/datasets/dis_temist/subtrack2_linking/3.0.1/a1915148dbf2c746ae734644cb098356da71f63ed6fa586d9b24ac3cfb42df01/cache-4d74224e395865f3.arrow\n"
     ]
    },
    {
     "data": {
      "application/vnd.jupyter.widget-view+json": {
       "model_id": "aaeae992d532424e914eb257c65ce5ee",
       "version_major": 2,
       "version_minor": 0
      },
      "text/plain": [
       "  0%|          | 0/117 [00:00<?, ?ex/s]"
      ]
     },
     "metadata": {},
     "output_type": "display_data"
    },
    {
     "name": "stdout",
     "output_type": "stream",
     "text": [
      ">>> Ensemble\n"
     ]
    },
    {
     "name": "stderr",
     "output_type": "stream",
     "text": [
      "Loading cached processed dataset at /home/Florian.Borchert/.cache/huggingface/datasets/dis_temist/subtrack2_linking/3.0.1/a1915148dbf2c746ae734644cb098356da71f63ed6fa586d9b24ac3cfb42df01/cache-4d74224e395865f3.arrow\n"
     ]
    },
    {
     "data": {
      "application/vnd.jupyter.widget-view+json": {
       "model_id": "99186421110141818770515ddc09786b",
       "version_major": 2,
       "version_minor": 0
      },
      "text/plain": [
       "  0%|          | 0/117 [00:00<?, ?ex/s]"
      ]
     },
     "metadata": {},
     "output_type": "display_data"
    },
    {
     "name": "stdout",
     "output_type": "stream",
     "text": [
      "ngrams\n",
      "Loading XL model\n",
      "Loading embeddings\n",
      "Loading dict\n"
     ]
    },
    {
     "name": "stderr",
     "output_type": "stream",
     "text": [
      "Loading cached processed dataset at /home/Florian.Borchert/.cache/huggingface/datasets/dis_temist/subtrack2_linking/3.0.1/a1915148dbf2c746ae734644cb098356da71f63ed6fa586d9b24ac3cfb42df01/cache-4d74224e395865f3.arrow\n"
     ]
    },
    {
     "data": {
      "application/vnd.jupyter.widget-view+json": {
       "model_id": "866d0987471b4592b849901f2ae024fe",
       "version_major": 2,
       "version_minor": 0
      },
      "text/plain": [
       "  0%|          | 0/1 [00:00<?, ?ba/s]"
      ]
     },
     "metadata": {},
     "output_type": "display_data"
    },
    {
     "name": "stdout",
     "output_type": "stream",
     "text": [
      "Calculate embeddings for 956 mentions\n",
      "Calculating score matrix\n",
      "Retrieving 100 candidates on GPU\n",
      "sap_umls\n"
     ]
    },
    {
     "name": "stderr",
     "output_type": "stream",
     "text": [
      "  0%|                                                                                             | 0/2 [00:00<?, ?it/s]\n"
     ]
    },
    {
     "data": {
      "application/vnd.jupyter.widget-view+json": {
       "model_id": "746ce375b07840ffb016018270196d24",
       "version_major": 2,
       "version_minor": 0
      },
      "text/plain": [
       "  0%|          | 0/117 [00:00<?, ?ex/s]"
      ]
     },
     "metadata": {},
     "output_type": "display_data"
    },
    {
     "data": {
      "application/vnd.jupyter.widget-view+json": {
       "model_id": "09fb0bf4c4c54ce0a20714edc5e1ee20",
       "version_major": 2,
       "version_minor": 0
      },
      "text/plain": [
       "  0%|          | 0/117 [00:00<?, ?ex/s]"
      ]
     },
     "metadata": {},
     "output_type": "display_data"
    },
    {
     "name": "stderr",
     "output_type": "stream",
     "text": [
      "Loading cached processed dataset at /home/Florian.Borchert/.cache/huggingface/datasets/dis_temist/subtrack2_linking/3.0.1/a1915148dbf2c746ae734644cb098356da71f63ed6fa586d9b24ac3cfb42df01/cache-4d74224e395865f3.arrow\n"
     ]
    },
    {
     "data": {
      "application/vnd.jupyter.widget-view+json": {
       "model_id": "64cce71e15474a32a02bc0c0a105bf20",
       "version_major": 2,
       "version_minor": 0
      },
      "text/plain": [
       "  0%|          | 0/117 [00:00<?, ?ex/s]"
      ]
     },
     "metadata": {},
     "output_type": "display_data"
    },
    {
     "name": "stdout",
     "output_type": "stream",
     "text": [
      ">>> Ensemble\n"
     ]
    },
    {
     "data": {
      "application/vnd.jupyter.widget-view+json": {
       "model_id": "d0cb7a6936254cc0bba2ca0f0d8d7f48",
       "version_major": 2,
       "version_minor": 0
      },
      "text/plain": [
       "  0%|          | 0/117 [00:00<?, ?ex/s]"
      ]
     },
     "metadata": {},
     "output_type": "display_data"
    },
    {
     "name": "stdout",
     "output_type": "stream",
     "text": [
      ">>> Ensemble (reranked)\n",
      "\n",
      "Done !\n"
     ]
    },
    {
     "data": {
      "application/vnd.jupyter.widget-view+json": {
       "model_id": "bc36888bbbeb43c880209c8ba830c72f",
       "version_major": 2,
       "version_minor": 0
      },
      "text/plain": [
       "  0%|          | 0/117 [00:00<?, ?ex/s]"
      ]
     },
     "metadata": {},
     "output_type": "display_data"
    },
    {
     "name": "stdout",
     "output_type": "stream",
     "text": [
      ">>> Ensemble (reranked) post processed\n",
      "\n",
      "Done !\n"
     ]
    }
   ],
   "source": [
    "scores, predictions = run_all_linkers(X_valid)"
   ]
  },
  {
   "cell_type": "code",
   "execution_count": 41,
   "metadata": {},
   "outputs": [
    {
     "data": {
      "text/html": [
       "<div>\n",
       "<style scoped>\n",
       "    .dataframe tbody tr th:only-of-type {\n",
       "        vertical-align: middle;\n",
       "    }\n",
       "\n",
       "    .dataframe tbody tr th {\n",
       "        vertical-align: top;\n",
       "    }\n",
       "\n",
       "    .dataframe thead th {\n",
       "        text-align: right;\n",
       "    }\n",
       "</style>\n",
       "<table border=\"1\" class=\"dataframe\">\n",
       "  <thead>\n",
       "    <tr style=\"text-align: right;\">\n",
       "      <th></th>\n",
       "      <th>p_loose</th>\n",
       "      <th>r_loose</th>\n",
       "      <th>f1_loose</th>\n",
       "      <th>p_strict</th>\n",
       "      <th>r_strict</th>\n",
       "      <th>f1_strict</th>\n",
       "    </tr>\n",
       "    <tr>\n",
       "      <th>name</th>\n",
       "      <th></th>\n",
       "      <th></th>\n",
       "      <th></th>\n",
       "      <th></th>\n",
       "      <th></th>\n",
       "      <th></th>\n",
       "    </tr>\n",
       "  </thead>\n",
       "  <tbody>\n",
       "    <tr>\n",
       "      <th>n-grams (DisTEMIST)</th>\n",
       "      <td>0.428</td>\n",
       "      <td>0.398</td>\n",
       "      <td>0.413</td>\n",
       "      <td>0.428</td>\n",
       "      <td>0.397</td>\n",
       "      <td>0.412</td>\n",
       "    </tr>\n",
       "    <tr>\n",
       "      <th>sapBERT (DisTEMIST + UMLS)</th>\n",
       "      <td>0.459</td>\n",
       "      <td>0.437</td>\n",
       "      <td>0.448</td>\n",
       "      <td>0.459</td>\n",
       "      <td>0.436</td>\n",
       "      <td>0.447</td>\n",
       "    </tr>\n",
       "    <tr>\n",
       "      <th>Ensemble</th>\n",
       "      <td>0.563</td>\n",
       "      <td>0.459</td>\n",
       "      <td>0.506</td>\n",
       "      <td>0.563</td>\n",
       "      <td>0.457</td>\n",
       "      <td>0.504</td>\n",
       "    </tr>\n",
       "    <tr>\n",
       "      <th>Ensemble + Reranking</th>\n",
       "      <td>0.659</td>\n",
       "      <td>0.536</td>\n",
       "      <td>0.591</td>\n",
       "      <td>0.659</td>\n",
       "      <td>0.534</td>\n",
       "      <td>0.590</td>\n",
       "    </tr>\n",
       "    <tr>\n",
       "      <th>Ensemble + Reranking + Post-Processing</th>\n",
       "      <td>0.766</td>\n",
       "      <td>0.626</td>\n",
       "      <td>0.689</td>\n",
       "      <td>0.766</td>\n",
       "      <td>0.625</td>\n",
       "      <td>0.688</td>\n",
       "    </tr>\n",
       "  </tbody>\n",
       "</table>\n",
       "</div>"
      ],
      "text/plain": [
       "                                        p_loose  r_loose  f1_loose  p_strict  \\\n",
       "name                                                                           \n",
       "n-grams (DisTEMIST)                       0.428    0.398     0.413     0.428   \n",
       "sapBERT (DisTEMIST + UMLS)                0.459    0.437     0.448     0.459   \n",
       "Ensemble                                  0.563    0.459     0.506     0.563   \n",
       "Ensemble + Reranking                      0.659    0.536     0.591     0.659   \n",
       "Ensemble + Reranking + Post-Processing    0.766    0.626     0.689     0.766   \n",
       "\n",
       "                                        r_strict  f1_strict  \n",
       "name                                                         \n",
       "n-grams (DisTEMIST)                        0.397      0.412  \n",
       "sapBERT (DisTEMIST + UMLS)                 0.436      0.447  \n",
       "Ensemble                                   0.457      0.504  \n",
       "Ensemble + Reranking                       0.534      0.590  \n",
       "Ensemble + Reranking + Post-Processing     0.625      0.688  "
      ]
     },
     "execution_count": 41,
     "metadata": {},
     "output_type": "execute_result"
    }
   ],
   "source": [
    "scores"
   ]
  },
  {
   "cell_type": "markdown",
   "metadata": {},
   "source": [
    "## NER + Linker predictions"
   ]
  },
  {
   "cell_type": "code",
   "execution_count": 42,
   "metadata": {},
   "outputs": [],
   "source": [
    "def clean_up(entities):\n",
    "    entities = entities.copy()\n",
    "    result = {k: [] for k in entities.keys()}\n",
    "    \n",
    "    def append(i):\n",
    "        for k in result.keys():\n",
    "            result[k].append(entities[k][i])\n",
    "    \n",
    "    for i, t in enumerate(entities['text']):\n",
    "        start = entities['spans_start'][i][0]\n",
    "        end = entities['spans_end'][i][-1]\n",
    "        if len(t) == 1:\n",
    "            continue\n",
    "        append(i)\n",
    "        m = re.match(r'([\\w\\s]*)\\W+$', t)\n",
    "        if m:\n",
    "            result['text'][-1] = m.group(1)\n",
    "            result['spans_end'][-1] = [end - len(t) + len(m.group(1))]\n",
    "            t = m.group(1)\n",
    "            end = entities['spans_end'][i][-1]\n",
    "        m = re.match(r'^([^\\n]+)\\n+.*', t)\n",
    "        if m:\n",
    "            result['text'][-1] = m.group(1)\n",
    "            result['spans_end'][-1] = [end - len(t) + len(m.group(1))]\n",
    "            t = m.group(1)\n",
    "            end = entities['spans_end'][i][-1]\n",
    "    return result"
   ]
  },
  {
   "cell_type": "code",
   "execution_count": 43,
   "metadata": {},
   "outputs": [],
   "source": [
    "import transformers\n",
    "from transformers import AutoModelForTokenClassification, AutoTokenizer, pipeline"
   ]
  },
  {
   "cell_type": "code",
   "execution_count": 44,
   "metadata": {},
   "outputs": [],
   "source": [
    "ner_model_path = '../models/model_1'\n",
    "ner_model_checkpoint = Path(ner_model_path)\n",
    "\n",
    "model = AutoModelForTokenClassification.from_pretrained(ner_model_checkpoint / 'best_cp')\n",
    "tokenizer = AutoTokenizer.from_pretrained(ner_model_checkpoint / 'best_cp', add_prefix_space=True)\n",
    "assert isinstance(tokenizer, transformers.PreTrainedTokenizerFast)\n",
    "\n",
    "from transformers.pipelines.token_classification import AggregationStrategy\n",
    "ner_pipe = pipeline(\"ner\", model, tokenizer=tokenizer, device=0, aggregation_strategy=AggregationStrategy.FIRST)"
   ]
  },
  {
   "cell_type": "code",
   "execution_count": 45,
   "metadata": {},
   "outputs": [],
   "source": [
    "all_training_texts = distemist_util.load_distemist_texts('../data/distemist/training/text_files', sort_keys=False)"
   ]
  },
  {
   "cell_type": "code",
   "execution_count": 46,
   "metadata": {},
   "outputs": [
    {
     "data": {
      "text/plain": [
       "Dataset({\n",
       "    features: ['corpus_id', 'document_id', 'doctype', 'lang', 'unit_id', 'source_unit_id', 'text', 'entities'],\n",
       "    num_rows: 466\n",
       "})"
      ]
     },
     "execution_count": 46,
     "metadata": {},
     "output_type": "execute_result"
    }
   ],
   "source": [
    "X"
   ]
  },
  {
   "cell_type": "code",
   "execution_count": 47,
   "metadata": {},
   "outputs": [
    {
     "name": "stderr",
     "output_type": "stream",
     "text": [
      "/home/Florian.Borchert/.cache/pypoetry/virtualenvs/xl-bel-TMSi1vFk-py3.8/lib/python3.8/site-packages/transformers/pipelines/token_classification.py:291: UserWarning: Tokenizer does not support real words, using fallback heuristic\n",
      "  warnings.warn(\"Tokenizer does not support real words, using fallback heuristic\", UserWarning)\n",
      "/mnt/nfs/home/Florian.Borchert/workspace/distemist_bioasq_2022/notebooks/../scripts/distemist_util.py:36: VisibleDeprecationWarning: Creating an ndarray from ragged nested sequences (which is a list-or-tuple of lists-or-tuples-or ndarrays with different lengths or shapes) is deprecated. If you meant to do this, you must specify 'dtype=object' when creating the ndarray.\n",
      "  preds = np.array(pipeline([s.text for s in spacy_sents]))\n"
     ]
    },
    {
     "data": {
      "application/vnd.jupyter.widget-view+json": {
       "model_id": "e2768d25a24a436bb3f091a9411fe7ba",
       "version_major": 2,
       "version_minor": 0
      },
      "text/plain": [
       "  0%|          | 0/466 [00:00<?, ?ex/s]"
      ]
     },
     "metadata": {},
     "output_type": "display_data"
    },
    {
     "name": "stderr",
     "output_type": "stream",
     "text": [
      "/mnt/nfs/home/Florian.Borchert/workspace/distemist_bioasq_2022/notebooks/../scripts/distemist_util.py:40: VisibleDeprecationWarning: Creating an ndarray from ragged nested sequences (which is a list-or-tuple of lists-or-tuples-or ndarrays with different lengths or shapes) is deprecated. If you meant to do this, you must specify 'dtype=object' when creating the ndarray.\n",
      "  sents = np.array(spacy_sents)[np.array(idx) == i].ravel()\n"
     ]
    },
    {
     "data": {
      "application/vnd.jupyter.widget-view+json": {
       "model_id": "94e050bbe0b247788ba16f82721e3e2e",
       "version_major": 2,
       "version_minor": 0
      },
      "text/plain": [
       "  0%|          | 0/466 [00:00<?, ?ex/s]"
      ]
     },
     "metadata": {},
     "output_type": "display_data"
    },
    {
     "name": "stdout",
     "output_type": "stream",
     "text": [
      "{'precision': 0.9845360824742269, 'recall': 0.9595693779904306, 'fscore': 0.9718924157984008, 'ptp': 4011, 'fp': 63, 'rtp': 4011, 'fn': 169, 'n_docs_system': 466, 'n_annos_system': 0, 'n_docs_gold': 466, 'n_annos_gold': 0}\n",
      "{'precision': 0.9987728520917539, 'recall': 0.9849879624847333, 'fscore': 0.991832512607574, 'ptp': 4069.0005994218054, 'fp': 4.999400578194582, 'rtp': 4117.249683186185, 'fn': 62.75031681381461, 'n_docs_system': 466, 'n_annos_system': 0, 'n_docs_gold': 466, 'n_annos_gold': 0}\n"
     ]
    }
   ],
   "source": [
    "pred_ner_full = distemist_util.run_ner_pipeline(X, ner_pipe).map(lambda row: {'entities' : clean_up(row['entities'])})\n",
    "\n",
    "#Show be very close to 1\n",
    "print(evaluate(X, pred_ner_full, ner_only=True)['ner_strict'])\n",
    "print(evaluate(X, pred_ner_full, ner_only=True)['ner_partial'])"
   ]
  },
  {
   "cell_type": "code",
   "execution_count": 48,
   "metadata": {},
   "outputs": [
    {
     "data": {
      "application/vnd.jupyter.widget-view+json": {
       "model_id": "6acc882509e943db93fb07a9345584e8",
       "version_major": 2,
       "version_minor": 0
      },
      "text/plain": [
       "  0%|          | 0/466 [00:00<?, ?ex/s]"
      ]
     },
     "metadata": {},
     "output_type": "display_data"
    },
    {
     "data": {
      "application/vnd.jupyter.widget-view+json": {
       "model_id": "12f515a6389e44d08f44af856377e346",
       "version_major": 2,
       "version_minor": 0
      },
      "text/plain": [
       "  0%|          | 0/466 [00:00<?, ?ex/s]"
      ]
     },
     "metadata": {},
     "output_type": "display_data"
    },
    {
     "name": "stdout",
     "output_type": "stream",
     "text": [
      "ngrams\n",
      "Loading XL model\n",
      "Loading embeddings\n",
      "Loading dict\n"
     ]
    },
    {
     "name": "stderr",
     "output_type": "stream",
     "text": [
      "Loading cached processed dataset at /home/Florian.Borchert/.cache/huggingface/datasets/dis_temist/subtrack2_linking/3.0.1/a1915148dbf2c746ae734644cb098356da71f63ed6fa586d9b24ac3cfb42df01/cache-1d2163537f0b1487.arrow\n"
     ]
    },
    {
     "data": {
      "application/vnd.jupyter.widget-view+json": {
       "model_id": "b6077faa339a4d69b0b4b5be0d96fea1",
       "version_major": 2,
       "version_minor": 0
      },
      "text/plain": [
       "  0%|          | 0/1 [00:00<?, ?ba/s]"
      ]
     },
     "metadata": {},
     "output_type": "display_data"
    },
    {
     "name": "stdout",
     "output_type": "stream",
     "text": [
      "Calculate embeddings for 4074 mentions\n",
      "Calculating score matrix\n",
      "Retrieving 100 candidates on GPU\n",
      "sap_umls\n"
     ]
    },
    {
     "name": "stderr",
     "output_type": "stream",
     "text": [
      "  0%|                                                                                             | 0/2 [00:02<?, ?it/s]\n"
     ]
    },
    {
     "data": {
      "application/vnd.jupyter.widget-view+json": {
       "model_id": "a0d99fa71d024b71b5d303d08a1009f5",
       "version_major": 2,
       "version_minor": 0
      },
      "text/plain": [
       "  0%|          | 0/466 [00:00<?, ?ex/s]"
      ]
     },
     "metadata": {},
     "output_type": "display_data"
    },
    {
     "data": {
      "application/vnd.jupyter.widget-view+json": {
       "model_id": "4e71e98849984dff98792332d6292a10",
       "version_major": 2,
       "version_minor": 0
      },
      "text/plain": [
       "  0%|          | 0/466 [00:00<?, ?ex/s]"
      ]
     },
     "metadata": {},
     "output_type": "display_data"
    },
    {
     "name": "stderr",
     "output_type": "stream",
     "text": [
      "Loading cached processed dataset at /home/Florian.Borchert/.cache/huggingface/datasets/dis_temist/subtrack2_linking/3.0.1/a1915148dbf2c746ae734644cb098356da71f63ed6fa586d9b24ac3cfb42df01/cache-1d2163537f0b1487.arrow\n"
     ]
    },
    {
     "data": {
      "application/vnd.jupyter.widget-view+json": {
       "model_id": "aee05e0dd83e428a9464a4729e483f4a",
       "version_major": 2,
       "version_minor": 0
      },
      "text/plain": [
       "  0%|          | 0/466 [00:00<?, ?ex/s]"
      ]
     },
     "metadata": {},
     "output_type": "display_data"
    },
    {
     "name": "stdout",
     "output_type": "stream",
     "text": [
      ">>> Ensemble\n"
     ]
    },
    {
     "name": "stderr",
     "output_type": "stream",
     "text": [
      "Loading cached processed dataset at /home/Florian.Borchert/.cache/huggingface/datasets/dis_temist/subtrack2_linking/3.0.1/a1915148dbf2c746ae734644cb098356da71f63ed6fa586d9b24ac3cfb42df01/cache-1d2163537f0b1487.arrow\n"
     ]
    },
    {
     "data": {
      "application/vnd.jupyter.widget-view+json": {
       "model_id": "22c955d0895e44458dff2a93b4d96f83",
       "version_major": 2,
       "version_minor": 0
      },
      "text/plain": [
       "  0%|          | 0/466 [00:00<?, ?ex/s]"
      ]
     },
     "metadata": {},
     "output_type": "display_data"
    },
    {
     "name": "stdout",
     "output_type": "stream",
     "text": [
      "ngrams\n",
      "Loading XL model\n",
      "Loading embeddings\n",
      "Loading dict\n"
     ]
    },
    {
     "name": "stderr",
     "output_type": "stream",
     "text": [
      "Loading cached processed dataset at /home/Florian.Borchert/.cache/huggingface/datasets/dis_temist/subtrack2_linking/3.0.1/a1915148dbf2c746ae734644cb098356da71f63ed6fa586d9b24ac3cfb42df01/cache-1d2163537f0b1487.arrow\n"
     ]
    },
    {
     "data": {
      "application/vnd.jupyter.widget-view+json": {
       "model_id": "853098db750e447284f4b1ba91a2511c",
       "version_major": 2,
       "version_minor": 0
      },
      "text/plain": [
       "  0%|          | 0/1 [00:00<?, ?ba/s]"
      ]
     },
     "metadata": {},
     "output_type": "display_data"
    },
    {
     "name": "stdout",
     "output_type": "stream",
     "text": [
      "Calculate embeddings for 4074 mentions\n",
      "Calculating score matrix\n",
      "Retrieving 100 candidates on GPU\n",
      "sap_umls\n"
     ]
    },
    {
     "name": "stderr",
     "output_type": "stream",
     "text": [
      "  0%|                                                                                             | 0/2 [00:02<?, ?it/s]\n"
     ]
    },
    {
     "data": {
      "application/vnd.jupyter.widget-view+json": {
       "model_id": "93ce20b5e5b94973b619a0905db35fc2",
       "version_major": 2,
       "version_minor": 0
      },
      "text/plain": [
       "  0%|          | 0/466 [00:00<?, ?ex/s]"
      ]
     },
     "metadata": {},
     "output_type": "display_data"
    },
    {
     "data": {
      "application/vnd.jupyter.widget-view+json": {
       "model_id": "2265cf32b86d43239249c43c1ae149f3",
       "version_major": 2,
       "version_minor": 0
      },
      "text/plain": [
       "  0%|          | 0/466 [00:00<?, ?ex/s]"
      ]
     },
     "metadata": {},
     "output_type": "display_data"
    },
    {
     "name": "stderr",
     "output_type": "stream",
     "text": [
      "Loading cached processed dataset at /home/Florian.Borchert/.cache/huggingface/datasets/dis_temist/subtrack2_linking/3.0.1/a1915148dbf2c746ae734644cb098356da71f63ed6fa586d9b24ac3cfb42df01/cache-1d2163537f0b1487.arrow\n"
     ]
    },
    {
     "data": {
      "application/vnd.jupyter.widget-view+json": {
       "model_id": "604e4fdada0a4e258d16215ac362d1fa",
       "version_major": 2,
       "version_minor": 0
      },
      "text/plain": [
       "  0%|          | 0/466 [00:00<?, ?ex/s]"
      ]
     },
     "metadata": {},
     "output_type": "display_data"
    },
    {
     "name": "stdout",
     "output_type": "stream",
     "text": [
      ">>> Ensemble\n"
     ]
    },
    {
     "data": {
      "application/vnd.jupyter.widget-view+json": {
       "model_id": "5290d0311156499abf1c8bfe69bfb542",
       "version_major": 2,
       "version_minor": 0
      },
      "text/plain": [
       "  0%|          | 0/466 [00:00<?, ?ex/s]"
      ]
     },
     "metadata": {},
     "output_type": "display_data"
    },
    {
     "name": "stdout",
     "output_type": "stream",
     "text": [
      ">>> Ensemble (reranked)\n",
      "\n",
      "Done !\n"
     ]
    },
    {
     "data": {
      "application/vnd.jupyter.widget-view+json": {
       "model_id": "7f2d7e3b6905456db0cd3ab77d16530b",
       "version_major": 2,
       "version_minor": 0
      },
      "text/plain": [
       "  0%|          | 0/466 [00:00<?, ?ex/s]"
      ]
     },
     "metadata": {},
     "output_type": "display_data"
    },
    {
     "name": "stdout",
     "output_type": "stream",
     "text": [
      ">>> Ensemble (reranked) post processed\n",
      "\n",
      "Done !\n"
     ]
    }
   ],
   "source": [
    "scores, train_predictions = run_all_linkers(pred_ner_full, ground_truth=X)"
   ]
  },
  {
   "cell_type": "code",
   "execution_count": 49,
   "metadata": {},
   "outputs": [
    {
     "data": {
      "text/html": [
       "<div>\n",
       "<style scoped>\n",
       "    .dataframe tbody tr th:only-of-type {\n",
       "        vertical-align: middle;\n",
       "    }\n",
       "\n",
       "    .dataframe tbody tr th {\n",
       "        vertical-align: top;\n",
       "    }\n",
       "\n",
       "    .dataframe thead th {\n",
       "        text-align: right;\n",
       "    }\n",
       "</style>\n",
       "<table border=\"1\" class=\"dataframe\">\n",
       "  <thead>\n",
       "    <tr style=\"text-align: right;\">\n",
       "      <th></th>\n",
       "      <th>p_loose</th>\n",
       "      <th>r_loose</th>\n",
       "      <th>f1_loose</th>\n",
       "      <th>p_strict</th>\n",
       "      <th>r_strict</th>\n",
       "      <th>f1_strict</th>\n",
       "    </tr>\n",
       "    <tr>\n",
       "      <th>name</th>\n",
       "      <th></th>\n",
       "      <th></th>\n",
       "      <th></th>\n",
       "      <th></th>\n",
       "      <th></th>\n",
       "      <th></th>\n",
       "    </tr>\n",
       "  </thead>\n",
       "  <tbody>\n",
       "    <tr>\n",
       "      <th>n-grams (DisTEMIST)</th>\n",
       "      <td>0.488</td>\n",
       "      <td>0.454</td>\n",
       "      <td>0.471</td>\n",
       "      <td>0.485</td>\n",
       "      <td>0.448</td>\n",
       "      <td>0.466</td>\n",
       "    </tr>\n",
       "    <tr>\n",
       "      <th>sapBERT (DisTEMIST + UMLS)</th>\n",
       "      <td>0.472</td>\n",
       "      <td>0.442</td>\n",
       "      <td>0.457</td>\n",
       "      <td>0.470</td>\n",
       "      <td>0.439</td>\n",
       "      <td>0.454</td>\n",
       "    </tr>\n",
       "    <tr>\n",
       "      <th>Ensemble</th>\n",
       "      <td>0.586</td>\n",
       "      <td>0.477</td>\n",
       "      <td>0.526</td>\n",
       "      <td>0.582</td>\n",
       "      <td>0.474</td>\n",
       "      <td>0.522</td>\n",
       "    </tr>\n",
       "    <tr>\n",
       "      <th>Ensemble + Reranking</th>\n",
       "      <td>0.664</td>\n",
       "      <td>0.542</td>\n",
       "      <td>0.597</td>\n",
       "      <td>0.661</td>\n",
       "      <td>0.538</td>\n",
       "      <td>0.593</td>\n",
       "    </tr>\n",
       "    <tr>\n",
       "      <th>Ensemble + Reranking + Post-Processing</th>\n",
       "      <td>0.990</td>\n",
       "      <td>0.923</td>\n",
       "      <td>0.955</td>\n",
       "      <td>0.987</td>\n",
       "      <td>0.918</td>\n",
       "      <td>0.951</td>\n",
       "    </tr>\n",
       "  </tbody>\n",
       "</table>\n",
       "</div>"
      ],
      "text/plain": [
       "                                        p_loose  r_loose  f1_loose  p_strict  \\\n",
       "name                                                                           \n",
       "n-grams (DisTEMIST)                       0.488    0.454     0.471     0.485   \n",
       "sapBERT (DisTEMIST + UMLS)                0.472    0.442     0.457     0.470   \n",
       "Ensemble                                  0.586    0.477     0.526     0.582   \n",
       "Ensemble + Reranking                      0.664    0.542     0.597     0.661   \n",
       "Ensemble + Reranking + Post-Processing    0.990    0.923     0.955     0.987   \n",
       "\n",
       "                                        r_strict  f1_strict  \n",
       "name                                                         \n",
       "n-grams (DisTEMIST)                        0.448      0.466  \n",
       "sapBERT (DisTEMIST + UMLS)                 0.439      0.454  \n",
       "Ensemble                                   0.474      0.522  \n",
       "Ensemble + Reranking                       0.538      0.593  \n",
       "Ensemble + Reranking + Post-Processing     0.918      0.951  "
      ]
     },
     "execution_count": 49,
     "metadata": {},
     "output_type": "execute_result"
    }
   ],
   "source": [
    "# Should be very similar to training w/ gold entities\n",
    "scores"
   ]
  },
  {
   "cell_type": "markdown",
   "metadata": {},
   "source": [
    "## Validation Set (w/o Gold Entities)"
   ]
  },
  {
   "cell_type": "code",
   "execution_count": 50,
   "metadata": {},
   "outputs": [
    {
     "name": "stderr",
     "output_type": "stream",
     "text": [
      "/home/Florian.Borchert/.cache/pypoetry/virtualenvs/xl-bel-TMSi1vFk-py3.8/lib/python3.8/site-packages/transformers/pipelines/token_classification.py:291: UserWarning: Tokenizer does not support real words, using fallback heuristic\n",
      "  warnings.warn(\"Tokenizer does not support real words, using fallback heuristic\", UserWarning)\n",
      "/mnt/nfs/home/Florian.Borchert/workspace/distemist_bioasq_2022/notebooks/../scripts/distemist_util.py:36: VisibleDeprecationWarning: Creating an ndarray from ragged nested sequences (which is a list-or-tuple of lists-or-tuples-or ndarrays with different lengths or shapes) is deprecated. If you meant to do this, you must specify 'dtype=object' when creating the ndarray.\n",
      "  preds = np.array(pipeline([s.text for s in spacy_sents]))\n"
     ]
    },
    {
     "data": {
      "application/vnd.jupyter.widget-view+json": {
       "model_id": "5bc8349110b74bbfa5fc3c169a5f9683",
       "version_major": 2,
       "version_minor": 0
      },
      "text/plain": [
       "  0%|          | 0/117 [00:00<?, ?ex/s]"
      ]
     },
     "metadata": {},
     "output_type": "display_data"
    },
    {
     "name": "stderr",
     "output_type": "stream",
     "text": [
      "/mnt/nfs/home/Florian.Borchert/workspace/distemist_bioasq_2022/notebooks/../scripts/distemist_util.py:40: VisibleDeprecationWarning: Creating an ndarray from ragged nested sequences (which is a list-or-tuple of lists-or-tuples-or ndarrays with different lengths or shapes) is deprecated. If you meant to do this, you must specify 'dtype=object' when creating the ndarray.\n",
      "  sents = np.array(spacy_sents)[np.array(idx) == i].ravel()\n"
     ]
    },
    {
     "data": {
      "application/vnd.jupyter.widget-view+json": {
       "model_id": "aceb5961a3c4411183e164c5c698d70f",
       "version_major": 2,
       "version_minor": 0
      },
      "text/plain": [
       "  0%|          | 0/117 [00:00<?, ?ex/s]"
      ]
     },
     "metadata": {},
     "output_type": "display_data"
    },
    {
     "name": "stdout",
     "output_type": "stream",
     "text": [
      "{'precision': 0.7564234326824255, 'recall': 0.7698744769874477, 'fscore': 0.7630896837739761, 'ptp': 736, 'fp': 237, 'rtp': 736, 'fn': 220, 'n_docs_system': 117, 'n_annos_system': 0, 'n_docs_gold': 117, 'n_annos_gold': 0}\n",
      "{'precision': 0.8639885318513207, 'recall': 0.8775996152323885, 'fscore': 0.8707408859983137, 'ptp': 840.6608414913351, 'fp': 132.33915850866492, 'rtp': 838.9852321621634, 'fn': 117.01476783783664, 'n_docs_system': 117, 'n_annos_system': 0, 'n_docs_gold': 117, 'n_annos_gold': 0}\n"
     ]
    }
   ],
   "source": [
    "pred_ner_valid = distemist_util.run_ner_pipeline(X_valid, ner_pipe).map(lambda row: {'entities' : clean_up(row['entities'])})\n",
    "\n",
    "# Should be around .75 -> .76 for clean up!!\n",
    "print(evaluate(X_valid, pred_ner_valid, ner_only=True)['ner_strict'])\n",
    "print(evaluate(X_valid, pred_ner_valid, ner_only=True)['ner_partial'])"
   ]
  },
  {
   "cell_type": "code",
   "execution_count": 51,
   "metadata": {},
   "outputs": [
    {
     "data": {
      "application/vnd.jupyter.widget-view+json": {
       "model_id": "90a0a7421eca4273a2eeef4892aa2702",
       "version_major": 2,
       "version_minor": 0
      },
      "text/plain": [
       "  0%|          | 0/117 [00:00<?, ?ex/s]"
      ]
     },
     "metadata": {},
     "output_type": "display_data"
    },
    {
     "data": {
      "application/vnd.jupyter.widget-view+json": {
       "model_id": "b8b79d4b7bb943308f6fe822894c8417",
       "version_major": 2,
       "version_minor": 0
      },
      "text/plain": [
       "  0%|          | 0/117 [00:00<?, ?ex/s]"
      ]
     },
     "metadata": {},
     "output_type": "display_data"
    },
    {
     "name": "stdout",
     "output_type": "stream",
     "text": [
      "ngrams\n",
      "Loading XL model\n",
      "Loading embeddings\n",
      "Loading dict\n"
     ]
    },
    {
     "name": "stderr",
     "output_type": "stream",
     "text": [
      "Loading cached processed dataset at /home/Florian.Borchert/.cache/huggingface/datasets/dis_temist/subtrack2_linking/3.0.1/a1915148dbf2c746ae734644cb098356da71f63ed6fa586d9b24ac3cfb42df01/cache-afca0874320e1ff1.arrow\n"
     ]
    },
    {
     "data": {
      "application/vnd.jupyter.widget-view+json": {
       "model_id": "f9028f988615431d8337c72ef75d0678",
       "version_major": 2,
       "version_minor": 0
      },
      "text/plain": [
       "  0%|          | 0/1 [00:00<?, ?ba/s]"
      ]
     },
     "metadata": {},
     "output_type": "display_data"
    },
    {
     "name": "stdout",
     "output_type": "stream",
     "text": [
      "Calculate embeddings for 973 mentions\n",
      "Calculating score matrix\n",
      "Retrieving 100 candidates on GPU\n",
      "sap_umls\n"
     ]
    },
    {
     "name": "stderr",
     "output_type": "stream",
     "text": [
      "  0%|                                                                                             | 0/2 [00:00<?, ?it/s]\n"
     ]
    },
    {
     "data": {
      "application/vnd.jupyter.widget-view+json": {
       "model_id": "d75a8f7e6b414caaab5ef44bb9797877",
       "version_major": 2,
       "version_minor": 0
      },
      "text/plain": [
       "  0%|          | 0/117 [00:00<?, ?ex/s]"
      ]
     },
     "metadata": {},
     "output_type": "display_data"
    },
    {
     "data": {
      "application/vnd.jupyter.widget-view+json": {
       "model_id": "828f4254a23d46cb9f937ee5c1d1fc20",
       "version_major": 2,
       "version_minor": 0
      },
      "text/plain": [
       "  0%|          | 0/117 [00:00<?, ?ex/s]"
      ]
     },
     "metadata": {},
     "output_type": "display_data"
    },
    {
     "name": "stderr",
     "output_type": "stream",
     "text": [
      "Loading cached processed dataset at /home/Florian.Borchert/.cache/huggingface/datasets/dis_temist/subtrack2_linking/3.0.1/a1915148dbf2c746ae734644cb098356da71f63ed6fa586d9b24ac3cfb42df01/cache-afca0874320e1ff1.arrow\n"
     ]
    },
    {
     "data": {
      "application/vnd.jupyter.widget-view+json": {
       "model_id": "d1e0f3177dc142499b6fc0cc162a0a87",
       "version_major": 2,
       "version_minor": 0
      },
      "text/plain": [
       "  0%|          | 0/117 [00:00<?, ?ex/s]"
      ]
     },
     "metadata": {},
     "output_type": "display_data"
    },
    {
     "name": "stdout",
     "output_type": "stream",
     "text": [
      ">>> Ensemble\n"
     ]
    },
    {
     "name": "stderr",
     "output_type": "stream",
     "text": [
      "Loading cached processed dataset at /home/Florian.Borchert/.cache/huggingface/datasets/dis_temist/subtrack2_linking/3.0.1/a1915148dbf2c746ae734644cb098356da71f63ed6fa586d9b24ac3cfb42df01/cache-afca0874320e1ff1.arrow\n"
     ]
    },
    {
     "data": {
      "application/vnd.jupyter.widget-view+json": {
       "model_id": "0bdcb318ea3241a78568f0916aa4cb2f",
       "version_major": 2,
       "version_minor": 0
      },
      "text/plain": [
       "  0%|          | 0/117 [00:00<?, ?ex/s]"
      ]
     },
     "metadata": {},
     "output_type": "display_data"
    },
    {
     "name": "stdout",
     "output_type": "stream",
     "text": [
      "ngrams\n",
      "Loading XL model\n",
      "Loading embeddings\n",
      "Loading dict\n"
     ]
    },
    {
     "name": "stderr",
     "output_type": "stream",
     "text": [
      "Loading cached processed dataset at /home/Florian.Borchert/.cache/huggingface/datasets/dis_temist/subtrack2_linking/3.0.1/a1915148dbf2c746ae734644cb098356da71f63ed6fa586d9b24ac3cfb42df01/cache-afca0874320e1ff1.arrow\n"
     ]
    },
    {
     "data": {
      "application/vnd.jupyter.widget-view+json": {
       "model_id": "225f72d105fc43c780f30f2a52644923",
       "version_major": 2,
       "version_minor": 0
      },
      "text/plain": [
       "  0%|          | 0/1 [00:00<?, ?ba/s]"
      ]
     },
     "metadata": {},
     "output_type": "display_data"
    },
    {
     "name": "stdout",
     "output_type": "stream",
     "text": [
      "Calculate embeddings for 973 mentions\n",
      "Calculating score matrix\n",
      "Retrieving 100 candidates on GPU\n",
      "sap_umls\n"
     ]
    },
    {
     "name": "stderr",
     "output_type": "stream",
     "text": [
      "  0%|                                                                                             | 0/2 [00:00<?, ?it/s]\n"
     ]
    },
    {
     "data": {
      "application/vnd.jupyter.widget-view+json": {
       "model_id": "515aecd4f0ac49ee8498db7973320028",
       "version_major": 2,
       "version_minor": 0
      },
      "text/plain": [
       "  0%|          | 0/117 [00:00<?, ?ex/s]"
      ]
     },
     "metadata": {},
     "output_type": "display_data"
    },
    {
     "data": {
      "application/vnd.jupyter.widget-view+json": {
       "model_id": "b65bee3ecf6e4a2d9b36e9da5ce5f314",
       "version_major": 2,
       "version_minor": 0
      },
      "text/plain": [
       "  0%|          | 0/117 [00:00<?, ?ex/s]"
      ]
     },
     "metadata": {},
     "output_type": "display_data"
    },
    {
     "name": "stderr",
     "output_type": "stream",
     "text": [
      "Loading cached processed dataset at /home/Florian.Borchert/.cache/huggingface/datasets/dis_temist/subtrack2_linking/3.0.1/a1915148dbf2c746ae734644cb098356da71f63ed6fa586d9b24ac3cfb42df01/cache-afca0874320e1ff1.arrow\n"
     ]
    },
    {
     "data": {
      "application/vnd.jupyter.widget-view+json": {
       "model_id": "8e1dc4746f7d4693b09b68f7194d19cc",
       "version_major": 2,
       "version_minor": 0
      },
      "text/plain": [
       "  0%|          | 0/117 [00:00<?, ?ex/s]"
      ]
     },
     "metadata": {},
     "output_type": "display_data"
    },
    {
     "name": "stdout",
     "output_type": "stream",
     "text": [
      ">>> Ensemble\n"
     ]
    },
    {
     "data": {
      "application/vnd.jupyter.widget-view+json": {
       "model_id": "91cfb87b29794540a19665c9da5f3648",
       "version_major": 2,
       "version_minor": 0
      },
      "text/plain": [
       "  0%|          | 0/117 [00:00<?, ?ex/s]"
      ]
     },
     "metadata": {},
     "output_type": "display_data"
    },
    {
     "name": "stdout",
     "output_type": "stream",
     "text": [
      ">>> Ensemble (reranked)\n",
      "\n",
      "Done !\n"
     ]
    },
    {
     "data": {
      "application/vnd.jupyter.widget-view+json": {
       "model_id": "ed62e981eb0947a9b724187f4b4406a2",
       "version_major": 2,
       "version_minor": 0
      },
      "text/plain": [
       "  0%|          | 0/117 [00:00<?, ?ex/s]"
      ]
     },
     "metadata": {},
     "output_type": "display_data"
    },
    {
     "name": "stdout",
     "output_type": "stream",
     "text": [
      ">>> Ensemble (reranked) post processed\n",
      "\n",
      "Done !\n"
     ]
    }
   ],
   "source": [
    "scores, valid_predictions = run_all_linkers(pred_ner_valid, ground_truth=X_valid)"
   ]
  },
  {
   "cell_type": "code",
   "execution_count": 52,
   "metadata": {},
   "outputs": [
    {
     "data": {
      "text/html": [
       "<div>\n",
       "<style scoped>\n",
       "    .dataframe tbody tr th:only-of-type {\n",
       "        vertical-align: middle;\n",
       "    }\n",
       "\n",
       "    .dataframe tbody tr th {\n",
       "        vertical-align: top;\n",
       "    }\n",
       "\n",
       "    .dataframe thead th {\n",
       "        text-align: right;\n",
       "    }\n",
       "</style>\n",
       "<table border=\"1\" class=\"dataframe\">\n",
       "  <thead>\n",
       "    <tr style=\"text-align: right;\">\n",
       "      <th></th>\n",
       "      <th>p_loose</th>\n",
       "      <th>r_loose</th>\n",
       "      <th>f1_loose</th>\n",
       "      <th>p_strict</th>\n",
       "      <th>r_strict</th>\n",
       "      <th>f1_strict</th>\n",
       "    </tr>\n",
       "    <tr>\n",
       "      <th>name</th>\n",
       "      <th></th>\n",
       "      <th></th>\n",
       "      <th></th>\n",
       "      <th></th>\n",
       "      <th></th>\n",
       "      <th></th>\n",
       "    </tr>\n",
       "  </thead>\n",
       "  <tbody>\n",
       "    <tr>\n",
       "      <th>n-grams (DisTEMIST)</th>\n",
       "      <td>0.369</td>\n",
       "      <td>0.350</td>\n",
       "      <td>0.359</td>\n",
       "      <td>0.339</td>\n",
       "      <td>0.322</td>\n",
       "      <td>0.330</td>\n",
       "    </tr>\n",
       "    <tr>\n",
       "      <th>sapBERT (DisTEMIST + UMLS)</th>\n",
       "      <td>0.395</td>\n",
       "      <td>0.381</td>\n",
       "      <td>0.388</td>\n",
       "      <td>0.367</td>\n",
       "      <td>0.355</td>\n",
       "      <td>0.361</td>\n",
       "    </tr>\n",
       "    <tr>\n",
       "      <th>Ensemble</th>\n",
       "      <td>0.481</td>\n",
       "      <td>0.398</td>\n",
       "      <td>0.435</td>\n",
       "      <td>0.447</td>\n",
       "      <td>0.374</td>\n",
       "      <td>0.408</td>\n",
       "    </tr>\n",
       "    <tr>\n",
       "      <th>Ensemble + Reranking</th>\n",
       "      <td>0.566</td>\n",
       "      <td>0.470</td>\n",
       "      <td>0.513</td>\n",
       "      <td>0.529</td>\n",
       "      <td>0.443</td>\n",
       "      <td>0.482</td>\n",
       "    </tr>\n",
       "    <tr>\n",
       "      <th>Ensemble + Reranking + Post-Processing</th>\n",
       "      <td>0.653</td>\n",
       "      <td>0.544</td>\n",
       "      <td>0.593</td>\n",
       "      <td>0.617</td>\n",
       "      <td>0.517</td>\n",
       "      <td>0.563</td>\n",
       "    </tr>\n",
       "  </tbody>\n",
       "</table>\n",
       "</div>"
      ],
      "text/plain": [
       "                                        p_loose  r_loose  f1_loose  p_strict  \\\n",
       "name                                                                           \n",
       "n-grams (DisTEMIST)                       0.369    0.350     0.359     0.339   \n",
       "sapBERT (DisTEMIST + UMLS)                0.395    0.381     0.388     0.367   \n",
       "Ensemble                                  0.481    0.398     0.435     0.447   \n",
       "Ensemble + Reranking                      0.566    0.470     0.513     0.529   \n",
       "Ensemble + Reranking + Post-Processing    0.653    0.544     0.593     0.617   \n",
       "\n",
       "                                        r_strict  f1_strict  \n",
       "name                                                         \n",
       "n-grams (DisTEMIST)                        0.322      0.330  \n",
       "sapBERT (DisTEMIST + UMLS)                 0.355      0.361  \n",
       "Ensemble                                   0.374      0.408  \n",
       "Ensemble + Reranking                       0.443      0.482  \n",
       "Ensemble + Reranking + Post-Processing     0.517      0.563  "
      ]
     },
     "execution_count": 52,
     "metadata": {},
     "output_type": "execute_result"
    }
   ],
   "source": [
    "scores"
   ]
  },
  {
   "cell_type": "markdown",
   "metadata": {},
   "source": [
    "## Test Set"
   ]
  },
  {
   "cell_type": "code",
   "execution_count": 56,
   "metadata": {},
   "outputs": [],
   "source": [
    "out_file_base = Path('../submission') / 'subtrack2_linking'"
   ]
  },
  {
   "cell_type": "code",
   "execution_count": 57,
   "metadata": {},
   "outputs": [
    {
     "name": "stderr",
     "output_type": "stream",
     "text": [
      "/home/Florian.Borchert/.cache/pypoetry/virtualenvs/xl-bel-TMSi1vFk-py3.8/lib/python3.8/site-packages/transformers/pipelines/token_classification.py:291: UserWarning: Tokenizer does not support real words, using fallback heuristic\n",
      "  warnings.warn(\"Tokenizer does not support real words, using fallback heuristic\", UserWarning)\n",
      "/mnt/nfs/home/Florian.Borchert/workspace/distemist_bioasq_2022/notebooks/../scripts/distemist_util.py:36: VisibleDeprecationWarning: Creating an ndarray from ragged nested sequences (which is a list-or-tuple of lists-or-tuples-or ndarrays with different lengths or shapes) is deprecated. If you meant to do this, you must specify 'dtype=object' when creating the ndarray.\n",
      "  preds = np.array(pipeline([s.text for s in spacy_sents]))\n"
     ]
    },
    {
     "data": {
      "application/vnd.jupyter.widget-view+json": {
       "model_id": "240295d5356344708f1d3e5a627374cf",
       "version_major": 2,
       "version_minor": 0
      },
      "text/plain": [
       "  0%|          | 0/3000 [00:00<?, ?ex/s]"
      ]
     },
     "metadata": {},
     "output_type": "display_data"
    },
    {
     "name": "stderr",
     "output_type": "stream",
     "text": [
      "/mnt/nfs/home/Florian.Borchert/workspace/distemist_bioasq_2022/notebooks/../scripts/distemist_util.py:40: VisibleDeprecationWarning: Creating an ndarray from ragged nested sequences (which is a list-or-tuple of lists-or-tuples-or ndarrays with different lengths or shapes) is deprecated. If you meant to do this, you must specify 'dtype=object' when creating the ndarray.\n",
      "  sents = np.array(spacy_sents)[np.array(idx) == i].ravel()\n"
     ]
    },
    {
     "data": {
      "application/vnd.jupyter.widget-view+json": {
       "model_id": "02c13c8776c3438dbe62ebb8f0532219",
       "version_major": 2,
       "version_minor": 0
      },
      "text/plain": [
       "  0%|          | 0/3000 [00:00<?, ?ex/s]"
      ]
     },
     "metadata": {},
     "output_type": "display_data"
    }
   ],
   "source": [
    "all_test_texts = distemist_util.load_distemist_texts('../data/distemist/test_background/text_files', sort_keys=True)\n",
    "all_test_pred_ner = distemist_util.run_ner_pipeline(all_test_texts, ner_pipe).map(lambda row: {'entities' : clean_up(row['entities'])})"
   ]
  },
  {
   "cell_type": "code",
   "execution_count": 58,
   "metadata": {},
   "outputs": [
    {
     "data": {
      "application/vnd.jupyter.widget-view+json": {
       "model_id": "49eef79a5e1a413e90dd2d288730a9e3",
       "version_major": 2,
       "version_minor": 0
      },
      "text/plain": [
       "  0%|          | 0/3000 [00:00<?, ?ex/s]"
      ]
     },
     "metadata": {},
     "output_type": "display_data"
    },
    {
     "data": {
      "application/vnd.jupyter.widget-view+json": {
       "model_id": "4866fb24e0d141f5b821bb96114c2fe5",
       "version_major": 2,
       "version_minor": 0
      },
      "text/plain": [
       "  0%|          | 0/3000 [00:00<?, ?ex/s]"
      ]
     },
     "metadata": {},
     "output_type": "display_data"
    },
    {
     "name": "stdout",
     "output_type": "stream",
     "text": [
      "ngrams\n",
      "Loading XL model\n",
      "Loading embeddings\n",
      "Loading dict\n"
     ]
    },
    {
     "data": {
      "application/vnd.jupyter.widget-view+json": {
       "model_id": "6e79abc2228d4e569b737b43421d30a2",
       "version_major": 2,
       "version_minor": 0
      },
      "text/plain": [
       "  0%|          | 0/3000 [00:00<?, ?ex/s]"
      ]
     },
     "metadata": {},
     "output_type": "display_data"
    },
    {
     "data": {
      "application/vnd.jupyter.widget-view+json": {
       "model_id": "c68d62152609413087bc2616a314153e",
       "version_major": 2,
       "version_minor": 0
      },
      "text/plain": [
       "  0%|          | 0/5 [00:00<?, ?ba/s]"
      ]
     },
     "metadata": {},
     "output_type": "display_data"
    },
    {
     "name": "stdout",
     "output_type": "stream",
     "text": [
      "Calculate embeddings for 10853 mentions\n",
      "Calculating score matrix\n",
      "Retrieving 100 candidates on GPU\n",
      "Calculate embeddings for 10054 mentions\n",
      "Calculating score matrix\n",
      "Retrieving 100 candidates on GPU\n",
      "Calculate embeddings for 10432 mentions\n",
      "Calculating score matrix\n",
      "Retrieving 100 candidates on GPU\n",
      "Calculate embeddings for 10459 mentions\n",
      "Calculating score matrix\n",
      "Retrieving 100 candidates on GPU\n",
      "Calculate embeddings for 6946 mentions\n",
      "Calculating score matrix\n",
      "Retrieving 100 candidates on GPU\n",
      "sap_umls\n"
     ]
    },
    {
     "name": "stderr",
     "output_type": "stream",
     "text": [
      "  0%|                                                                                             | 0/2 [00:01<?, ?it/s]\n"
     ]
    },
    {
     "data": {
      "application/vnd.jupyter.widget-view+json": {
       "model_id": "5b9130cf00bf449085aed86ed1a3a797",
       "version_major": 2,
       "version_minor": 0
      },
      "text/plain": [
       "  0%|          | 0/3000 [00:00<?, ?ex/s]"
      ]
     },
     "metadata": {},
     "output_type": "display_data"
    },
    {
     "data": {
      "application/vnd.jupyter.widget-view+json": {
       "model_id": "6cabb43b318b4444b7c4e321b302f7ca",
       "version_major": 2,
       "version_minor": 0
      },
      "text/plain": [
       "  0%|          | 0/3000 [00:00<?, ?ex/s]"
      ]
     },
     "metadata": {},
     "output_type": "display_data"
    },
    {
     "data": {
      "application/vnd.jupyter.widget-view+json": {
       "model_id": "5d4e794e6de44a8190e2bce8a9971bfc",
       "version_major": 2,
       "version_minor": 0
      },
      "text/plain": [
       "  0%|          | 0/3000 [00:00<?, ?ex/s]"
      ]
     },
     "metadata": {},
     "output_type": "display_data"
    },
    {
     "data": {
      "application/vnd.jupyter.widget-view+json": {
       "model_id": "b855f7d9615048ec95e7986f3949c6af",
       "version_major": 2,
       "version_minor": 0
      },
      "text/plain": [
       "  0%|          | 0/3000 [00:00<?, ?ex/s]"
      ]
     },
     "metadata": {},
     "output_type": "display_data"
    },
    {
     "name": "stdout",
     "output_type": "stream",
     "text": [
      ">>> Ensemble\n"
     ]
    },
    {
     "data": {
      "application/vnd.jupyter.widget-view+json": {
       "model_id": "d4aa9c3884744cbe9b34f667b52f288f",
       "version_major": 2,
       "version_minor": 0
      },
      "text/plain": [
       "  0%|          | 0/3000 [00:00<?, ?ex/s]"
      ]
     },
     "metadata": {},
     "output_type": "display_data"
    },
    {
     "data": {
      "application/vnd.jupyter.widget-view+json": {
       "model_id": "1b40075a42df4b7faeed495ea772b686",
       "version_major": 2,
       "version_minor": 0
      },
      "text/plain": [
       "  0%|          | 0/3000 [00:00<?, ?ex/s]"
      ]
     },
     "metadata": {},
     "output_type": "display_data"
    },
    {
     "name": "stdout",
     "output_type": "stream",
     "text": [
      "ngrams\n",
      "Loading XL model\n",
      "Loading embeddings\n",
      "Loading dict\n"
     ]
    },
    {
     "data": {
      "application/vnd.jupyter.widget-view+json": {
       "model_id": "26a040e4bb184468814aee7c3a3e9ed4",
       "version_major": 2,
       "version_minor": 0
      },
      "text/plain": [
       "  0%|          | 0/3000 [00:00<?, ?ex/s]"
      ]
     },
     "metadata": {},
     "output_type": "display_data"
    },
    {
     "data": {
      "application/vnd.jupyter.widget-view+json": {
       "model_id": "7a3ad9b607494bccad4dfb88958fca9a",
       "version_major": 2,
       "version_minor": 0
      },
      "text/plain": [
       "  0%|          | 0/5 [00:00<?, ?ba/s]"
      ]
     },
     "metadata": {},
     "output_type": "display_data"
    },
    {
     "name": "stdout",
     "output_type": "stream",
     "text": [
      "Calculate embeddings for 10853 mentions\n",
      "Calculating score matrix\n",
      "Retrieving 100 candidates on GPU\n",
      "Calculate embeddings for 10054 mentions\n",
      "Calculating score matrix\n",
      "Retrieving 100 candidates on GPU\n",
      "Calculate embeddings for 10432 mentions\n",
      "Calculating score matrix\n",
      "Retrieving 100 candidates on GPU\n",
      "Calculate embeddings for 10459 mentions\n",
      "Calculating score matrix\n",
      "Retrieving 100 candidates on GPU\n",
      "Calculate embeddings for 6946 mentions\n",
      "Calculating score matrix\n",
      "Retrieving 100 candidates on GPU\n",
      "sap_umls\n"
     ]
    },
    {
     "name": "stderr",
     "output_type": "stream",
     "text": [
      "  0%|                                                                                             | 0/2 [00:01<?, ?it/s]\n"
     ]
    },
    {
     "data": {
      "application/vnd.jupyter.widget-view+json": {
       "model_id": "028e36ec647e48bb9d8c419910c5bc2c",
       "version_major": 2,
       "version_minor": 0
      },
      "text/plain": [
       "  0%|          | 0/3000 [00:00<?, ?ex/s]"
      ]
     },
     "metadata": {},
     "output_type": "display_data"
    },
    {
     "data": {
      "application/vnd.jupyter.widget-view+json": {
       "model_id": "671957a466f048baa5b49d0da60477a7",
       "version_major": 2,
       "version_minor": 0
      },
      "text/plain": [
       "  0%|          | 0/3000 [00:00<?, ?ex/s]"
      ]
     },
     "metadata": {},
     "output_type": "display_data"
    },
    {
     "data": {
      "application/vnd.jupyter.widget-view+json": {
       "model_id": "44b4d73cec9c4c53bc6c311478992059",
       "version_major": 2,
       "version_minor": 0
      },
      "text/plain": [
       "  0%|          | 0/3000 [00:00<?, ?ex/s]"
      ]
     },
     "metadata": {},
     "output_type": "display_data"
    },
    {
     "data": {
      "application/vnd.jupyter.widget-view+json": {
       "model_id": "24ba74a166a34b75b71d3531eb98bc50",
       "version_major": 2,
       "version_minor": 0
      },
      "text/plain": [
       "  0%|          | 0/3000 [00:00<?, ?ex/s]"
      ]
     },
     "metadata": {},
     "output_type": "display_data"
    },
    {
     "name": "stdout",
     "output_type": "stream",
     "text": [
      ">>> Ensemble\n"
     ]
    },
    {
     "data": {
      "application/vnd.jupyter.widget-view+json": {
       "model_id": "e5584f548c194ec98651dcc9b933f7ca",
       "version_major": 2,
       "version_minor": 0
      },
      "text/plain": [
       "  0%|          | 0/3000 [00:00<?, ?ex/s]"
      ]
     },
     "metadata": {},
     "output_type": "display_data"
    },
    {
     "name": "stdout",
     "output_type": "stream",
     "text": [
      ">>> Ensemble (reranked)\n",
      "\n",
      "Done !\n"
     ]
    },
    {
     "data": {
      "application/vnd.jupyter.widget-view+json": {
       "model_id": "9aab4c51a62c4e3d9f9d5b2360f1365a",
       "version_major": 2,
       "version_minor": 0
      },
      "text/plain": [
       "  0%|          | 0/3000 [00:00<?, ?ex/s]"
      ]
     },
     "metadata": {},
     "output_type": "display_data"
    },
    {
     "name": "stdout",
     "output_type": "stream",
     "text": [
      ">>> Ensemble (reranked) post processed\n",
      "\n",
      "Done !\n"
     ]
    }
   ],
   "source": [
    "_, test_predictions = run_all_linkers(all_test_pred_ner, ground_truth=X_valid) #Just putting in some dataset, the scores don't matter"
   ]
  },
  {
   "cell_type": "code",
   "execution_count": 59,
   "metadata": {},
   "outputs": [],
   "source": [
    "file_names = {\n",
    "    'ngrams' : '1-tf_idf_ngrams_distemist.tsv',\n",
    "    'sap_umls' : '2-sap_umls_large_distemist.tsv',\n",
    "    'ensemble' : '3-ensemble.tsv',\n",
    "    'ensemble_reranked' : '4-ensemble-reranking.tsv',\n",
    "    'ensemble_reranked_post_process' : '5-ensemble-reranking-postprocess.tsv',\n",
    "}\n",
    "\n",
    "for k, file_name in file_names.items():\n",
    "    distemist_util.write_dataset_to_tsv(test_predictions[k], out_file_base / file_name, concepts=True, write_missing_concepts=True)"
   ]
  },
  {
   "cell_type": "code",
   "execution_count": null,
   "metadata": {},
   "outputs": [],
   "source": []
  }
 ],
 "metadata": {
  "interpreter": {
   "hash": "5c9b93f97a51c9e2763a9204311104500ee929c3a9331fb391b5c973999ae858"
  },
  "kernelspec": {
   "display_name": "Python 3 (ipykernel)",
   "language": "python",
   "name": "python3"
  },
  "language_info": {
   "codemirror_mode": {
    "name": "ipython",
    "version": 3
   },
   "file_extension": ".py",
   "mimetype": "text/x-python",
   "name": "python",
   "nbconvert_exporter": "python",
   "pygments_lexer": "ipython3",
   "version": "3.8.13"
  }
 },
 "nbformat": 4,
 "nbformat_minor": 4
}
