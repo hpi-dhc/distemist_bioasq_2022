{
 "cells": [
  {
   "cell_type": "code",
   "execution_count": 1,
   "metadata": {},
   "outputs": [],
   "source": [
    "import sys\n",
    "sys.path.append('../scripts')\n",
    "\n",
    "import os\n",
    "# Disable weights and biases (if installed)\n",
    "os.environ[\"WANDB_DISABLED\"] = \"true\"\n",
    "os.environ[\"TOKENIZERS_PARALLELISM\"] = \"false\"\n",
    "os.environ[\"CUDA_DEVICE_ORDER\"] = \"PCI_BUS_ID\"\n",
    "os.environ[\"CUDA_VISIBLE_DEVICES\"] = \"2\""
   ]
  },
  {
   "cell_type": "code",
   "execution_count": 2,
   "metadata": {},
   "outputs": [],
   "source": [
    "from pathlib import Path\n",
    "import pandas as pd\n",
    "\n",
    "import transformers\n",
    "import datasets\n",
    "from transformers import AutoModelForTokenClassification, AutoTokenizer, Trainer, TrainingArguments, pipeline, DataCollatorForTokenClassification, EarlyStoppingCallback, trainer_utils"
   ]
  },
  {
   "cell_type": "code",
   "execution_count": 3,
   "metadata": {},
   "outputs": [],
   "source": [
    "import huggingface_utils\n",
    "from run_ner_training import get_train_args\n",
    "\n",
    "from xl_bel.el_datasets import load_distemist_entities\n",
    "from xl_bel.evaluation import evaluate\n",
    "\n",
    "import distemist_util"
   ]
  },
  {
   "cell_type": "code",
   "execution_count": 4,
   "metadata": {},
   "outputs": [
    {
     "name": "stderr",
     "output_type": "stream",
     "text": [
      "Reusing dataset dis_temist (/home/Florian.Borchert/.cache/huggingface/datasets/dis_temist/subtrack1_entities/3.0.1/a1915148dbf2c746ae734644cb098356da71f63ed6fa586d9b24ac3cfb42df01)\n"
     ]
    },
    {
     "data": {
      "application/vnd.jupyter.widget-view+json": {
       "model_id": "43f8d5b4a0c5456588c07c6220e651a8",
       "version_major": 2,
       "version_minor": 0
      },
      "text/plain": [
       "  0%|          | 0/2 [00:00<?, ?it/s]"
      ]
     },
     "metadata": {},
     "output_type": "display_data"
    }
   ],
   "source": [
    "ds_entities_train = load_distemist_entities()[\"train\"]"
   ]
  },
  {
   "cell_type": "markdown",
   "metadata": {},
   "source": [
    "# Run training prediction"
   ]
  },
  {
   "cell_type": "markdown",
   "metadata": {},
   "source": [
    "### Post-processing function (cleaning up entity boundaries)"
   ]
  },
  {
   "cell_type": "code",
   "execution_count": 5,
   "metadata": {},
   "outputs": [],
   "source": [
    "import re\n",
    "\n",
    "def clean_up(entities):\n",
    "    entities = entities.copy()\n",
    "    result = {k: [] for k in entities.keys()}\n",
    "    \n",
    "    def append(i):\n",
    "        for k in result.keys():\n",
    "            result[k].append(entities[k][i])\n",
    "    \n",
    "    for i, t in enumerate(entities['text']):\n",
    "        start = entities['spans_start'][i][0]\n",
    "        end = entities['spans_end'][i][-1]\n",
    "        if len(t) == 1:\n",
    "            continue\n",
    "        append(i)\n",
    "        m = re.match(r'([\\w\\s]*)\\W+$', t)\n",
    "        if m:\n",
    "            result['text'][-1] = m.group(1)\n",
    "            result['spans_end'][-1] = [end - len(t) + len(m.group(1))]\n",
    "            t = m.group(1)\n",
    "            end = entities['spans_end'][i][-1]\n",
    "        m = re.match(r'^([^\\n]+)\\n+.*', t)\n",
    "        if m:\n",
    "            print(m)\n",
    "            result['text'][-1] = m.group(1)\n",
    "            result['spans_end'][-1] = [end - len(t) + len(m.group(1))]\n",
    "            t = m.group(1)\n",
    "            end = entities['spans_end'][i][-1]\n",
    "    return result"
   ]
  },
  {
   "cell_type": "code",
   "execution_count": 6,
   "metadata": {},
   "outputs": [],
   "source": [
    "from transformers.pipelines.token_classification import AggregationStrategy\n",
    "\n",
    "def run_ner_pipeline(checkpoint_path, post_process, predict_train=True, predict_test=True, agg_strategy=AggregationStrategy.FIRST):\n",
    "    metrics = {}\n",
    "    \n",
    "    # Own validation set (20% of distemist linking)\n",
    "    with open('../test_docs.txt', 'r') as fh:\n",
    "        test_ids = [l.strip() for l in fh.readlines()]\n",
    "    \n",
    "    print('Loading NER model checkpoint')\n",
    "    model_checkpoint = Path(checkpoint_path)\n",
    "    model = AutoModelForTokenClassification.from_pretrained(model_checkpoint)\n",
    "    tokenizer = AutoTokenizer.from_pretrained(model_checkpoint, add_prefix_space=True)\n",
    "    assert isinstance(tokenizer, transformers.PreTrainedTokenizerFast)\n",
    "    \n",
    "    pipe = pipeline('ner', model=model, tokenizer=tokenizer, device=0, aggregation_strategy=agg_strategy)\n",
    "    \n",
    "    all_training_texts = distemist_util.load_distemist_texts('../data/distemist/training/text_files', sort_keys=False)\n",
    "           \n",
    "    def add_metrics(key, eval):\n",
    "        _keys = ['precision', 'recall', 'fscore']\n",
    "        metrics[key + '_strict'] = {k:v for k,v in eval['ner_strict'].items() if k in _keys}\n",
    "        metrics[key + '_loose'] = {k:v for k,v in eval['ner_partial'].items() if k in _keys}\n",
    "        \n",
    "    if predict_train:\n",
    "        X = all_training_texts.filter(lambda r: r['document_id'] not in test_ids)\n",
    "\n",
    "        print('Running NER model on training data')\n",
    "        all_training_pred = distemist_util.run_ner_pipeline(X, pipe)\n",
    "\n",
    "        eval_train = evaluate(ds_entities_train.filter(lambda r: r['document_id'] not in test_ids), all_training_pred, ner_only=True)\n",
    "        add_metrics('train', eval_train)\n",
    "    \n",
    "        out_file = Path('../results') / 'x-entities_training.tsv'\n",
    "        distemist_util.write_dataset_to_tsv(all_training_pred, out_file, False)\n",
    "    \n",
    "    X_valid = all_training_texts.filter(lambda r: r['document_id'] in test_ids)\n",
    "\n",
    "    print('Running NER model on validation data')\n",
    "    validation_pred = distemist_util.run_ner_pipeline(X_valid, pipe)\n",
    "\n",
    "    eval_valid = evaluate(ds_entities_train.filter(lambda r: r['document_id'] in test_ids), validation_pred, ner_only=True)\n",
    "    add_metrics('valid', eval_valid)\n",
    "    \n",
    "    out_file = Path('../results') / 'x-entities_valid.tsv'\n",
    "    distemist_util.write_dataset_to_tsv(validation_pred, out_file, False)\n",
    "    \n",
    "    if post_process:\n",
    "        print('Cleaning up')\n",
    "        valid_clean = validation_pred.map(lambda row: {'entities' : clean_up(row['entities'])})\n",
    "        eval_valid_clean = evaluate(ds_entities_train.filter(lambda r: r['document_id'] in test_ids), valid_clean, ner_only=True)\n",
    "        add_metrics('valid_clean', eval_valid_clean)\n",
    "        \n",
    "        out_file = Path('../results') / 'x-entities_valid_clean.tsv'\n",
    "        distemist_util.write_dataset_to_tsv(valid_clean, out_file, False)\n",
    "    \n",
    "    if predict_test:\n",
    "        print('Running NER model on test data')\n",
    "        all_test_texts = distemist_util.load_distemist_texts('../data/distemist/test_background/text_files', sort_keys=True)\n",
    "        all_test_pred = distemist_util.run_ner_pipeline(all_test_texts, pipe)\n",
    "        \n",
    "        if post_process:\n",
    "            all_test_pred = all_test_pred.map(lambda row: {'entities' : clean_up(row['entities'])})\n",
    "    \n",
    "    return metrics, all_test_pred if predict_test else validation_pred"
   ]
  },
  {
   "cell_type": "code",
   "execution_count": 7,
   "metadata": {},
   "outputs": [
    {
     "name": "stdout",
     "output_type": "stream",
     "text": [
      "Loading NER model checkpoint\n"
     ]
    },
    {
     "data": {
      "application/vnd.jupyter.widget-view+json": {
       "model_id": "4ae39c89ca0d44ceaf611a27abab49ed",
       "version_major": 2,
       "version_minor": 0
      },
      "text/plain": [
       "  0%|          | 0/1 [00:00<?, ?ba/s]"
      ]
     },
     "metadata": {},
     "output_type": "display_data"
    },
    {
     "name": "stdout",
     "output_type": "stream",
     "text": [
      "Running NER model on validation data\n"
     ]
    },
    {
     "name": "stderr",
     "output_type": "stream",
     "text": [
      "/home/Florian.Borchert/.cache/pypoetry/virtualenvs/xl-bel-TMSi1vFk-py3.8/lib/python3.8/site-packages/transformers/pipelines/token_classification.py:291: UserWarning: Tokenizer does not support real words, using fallback heuristic\n",
      "  warnings.warn(\"Tokenizer does not support real words, using fallback heuristic\", UserWarning)\n",
      "/mnt/nfs/home/Florian.Borchert/workspace/distemist_bioasq_2022/notebooks/../scripts/distemist_util.py:36: VisibleDeprecationWarning: Creating an ndarray from ragged nested sequences (which is a list-or-tuple of lists-or-tuples-or ndarrays with different lengths or shapes) is deprecated. If you meant to do this, you must specify 'dtype=object' when creating the ndarray.\n",
      "  preds = np.array(pipeline([s.text for s in spacy_sents]))\n",
      "Parameter 'function'=<function run_ner_pipeline.<locals>.get_entities at 0x7fc2512dac10> of the transform datasets.arrow_dataset.Dataset._map_single couldn't be hashed properly, a random hash was used instead. Make sure your transforms and parameters are serializable with pickle or dill for the dataset fingerprinting and caching to work. If you reuse this transform, the caching mechanism will consider it to be different from the previous calls and recompute everything. This warning is only showed once. Subsequent hashing failures won't be showed.\n"
     ]
    },
    {
     "data": {
      "application/vnd.jupyter.widget-view+json": {
       "model_id": "6876d3a7347f493f8b07b936c5136b27",
       "version_major": 2,
       "version_minor": 0
      },
      "text/plain": [
       "  0%|          | 0/117 [00:00<?, ?ex/s]"
      ]
     },
     "metadata": {},
     "output_type": "display_data"
    },
    {
     "name": "stderr",
     "output_type": "stream",
     "text": [
      "/mnt/nfs/home/Florian.Borchert/workspace/distemist_bioasq_2022/notebooks/../scripts/distemist_util.py:40: VisibleDeprecationWarning: Creating an ndarray from ragged nested sequences (which is a list-or-tuple of lists-or-tuples-or ndarrays with different lengths or shapes) is deprecated. If you meant to do this, you must specify 'dtype=object' when creating the ndarray.\n",
      "  sents = np.array(spacy_sents)[np.array(idx) == i].ravel()\n",
      "Loading cached processed dataset at /home/Florian.Borchert/.cache/huggingface/datasets/dis_temist/subtrack1_entities/3.0.1/a1915148dbf2c746ae734644cb098356da71f63ed6fa586d9b24ac3cfb42df01/cache-06f2f21492335cfd.arrow\n"
     ]
    },
    {
     "name": "stdout",
     "output_type": "stream",
     "text": [
      "Cleaning up\n"
     ]
    },
    {
     "data": {
      "application/vnd.jupyter.widget-view+json": {
       "model_id": "62cfcd511aba463993bcda6d3c572838",
       "version_major": 2,
       "version_minor": 0
      },
      "text/plain": [
       "  0%|          | 0/117 [00:00<?, ?ex/s]"
      ]
     },
     "metadata": {},
     "output_type": "display_data"
    },
    {
     "name": "stderr",
     "output_type": "stream",
     "text": [
      "Loading cached processed dataset at /home/Florian.Borchert/.cache/huggingface/datasets/dis_temist/subtrack1_entities/3.0.1/a1915148dbf2c746ae734644cb098356da71f63ed6fa586d9b24ac3cfb42df01/cache-06f2f21492335cfd.arrow\n"
     ]
    },
    {
     "name": "stdout",
     "output_type": "stream",
     "text": [
      "{'valid_strict': {'precision': 0.74435318275154, 'recall': 0.7583682008368201, 'fscore': 0.7512953367875648}, 'valid_loose': {'precision': 0.8618814269814896, 'recall': 0.8775996152323885, 'fscore': 0.8696695052591388}, 'valid_clean_strict': {'precision': 0.7564234326824255, 'recall': 0.7698744769874477, 'fscore': 0.7630896837739761}, 'valid_clean_loose': {'precision': 0.8639885318513207, 'recall': 0.8775996152323885, 'fscore': 0.8707408859983137}}\n",
      "CPU times: user 23.2 s, sys: 1.5 s, total: 24.7 s\n",
      "Wall time: 23.1 s\n"
     ]
    }
   ],
   "source": [
    "%%time\n",
    "m, valid_pred_1 = run_ner_pipeline('../models/model_1/best_cp/', post_process=True, predict_test=False, predict_train=False)\n",
    "print(m)"
   ]
  },
  {
   "cell_type": "code",
   "execution_count": 8,
   "metadata": {},
   "outputs": [
    {
     "name": "stdout",
     "output_type": "stream",
     "text": [
      "Loading NER model checkpoint\n"
     ]
    },
    {
     "data": {
      "application/vnd.jupyter.widget-view+json": {
       "model_id": "f520bff11fd4498aaefcc994f1174cde",
       "version_major": 2,
       "version_minor": 0
      },
      "text/plain": [
       "  0%|          | 0/1 [00:00<?, ?ba/s]"
      ]
     },
     "metadata": {},
     "output_type": "display_data"
    },
    {
     "name": "stdout",
     "output_type": "stream",
     "text": [
      "Running NER model on training data\n"
     ]
    },
    {
     "name": "stderr",
     "output_type": "stream",
     "text": [
      "/home/Florian.Borchert/.cache/pypoetry/virtualenvs/xl-bel-TMSi1vFk-py3.8/lib/python3.8/site-packages/transformers/pipelines/token_classification.py:291: UserWarning: Tokenizer does not support real words, using fallback heuristic\n",
      "  warnings.warn(\"Tokenizer does not support real words, using fallback heuristic\", UserWarning)\n",
      "/mnt/nfs/home/Florian.Borchert/workspace/distemist_bioasq_2022/notebooks/../scripts/distemist_util.py:36: VisibleDeprecationWarning: Creating an ndarray from ragged nested sequences (which is a list-or-tuple of lists-or-tuples-or ndarrays with different lengths or shapes) is deprecated. If you meant to do this, you must specify 'dtype=object' when creating the ndarray.\n",
      "  preds = np.array(pipeline([s.text for s in spacy_sents]))\n"
     ]
    },
    {
     "data": {
      "application/vnd.jupyter.widget-view+json": {
       "model_id": "e9636d42d4f64a4db7c37000b54af7e5",
       "version_major": 2,
       "version_minor": 0
      },
      "text/plain": [
       "  0%|          | 0/633 [00:00<?, ?ex/s]"
      ]
     },
     "metadata": {},
     "output_type": "display_data"
    },
    {
     "name": "stderr",
     "output_type": "stream",
     "text": [
      "/mnt/nfs/home/Florian.Borchert/workspace/distemist_bioasq_2022/notebooks/../scripts/distemist_util.py:40: VisibleDeprecationWarning: Creating an ndarray from ragged nested sequences (which is a list-or-tuple of lists-or-tuples-or ndarrays with different lengths or shapes) is deprecated. If you meant to do this, you must specify 'dtype=object' when creating the ndarray.\n",
      "  sents = np.array(spacy_sents)[np.array(idx) == i].ravel()\n",
      "Loading cached processed dataset at /home/Florian.Borchert/.cache/huggingface/datasets/dis_temist/subtrack1_entities/3.0.1/a1915148dbf2c746ae734644cb098356da71f63ed6fa586d9b24ac3cfb42df01/cache-add7b3366a304a74.arrow\n"
     ]
    },
    {
     "data": {
      "application/vnd.jupyter.widget-view+json": {
       "model_id": "5df47ee7d5e1436fb367e84a6cecd67f",
       "version_major": 2,
       "version_minor": 0
      },
      "text/plain": [
       "  0%|          | 0/1 [00:00<?, ?ba/s]"
      ]
     },
     "metadata": {},
     "output_type": "display_data"
    },
    {
     "name": "stdout",
     "output_type": "stream",
     "text": [
      "Running NER model on validation data\n"
     ]
    },
    {
     "name": "stderr",
     "output_type": "stream",
     "text": [
      "/home/Florian.Borchert/.cache/pypoetry/virtualenvs/xl-bel-TMSi1vFk-py3.8/lib/python3.8/site-packages/transformers/pipelines/token_classification.py:291: UserWarning: Tokenizer does not support real words, using fallback heuristic\n",
      "  warnings.warn(\"Tokenizer does not support real words, using fallback heuristic\", UserWarning)\n",
      "/mnt/nfs/home/Florian.Borchert/workspace/distemist_bioasq_2022/notebooks/../scripts/distemist_util.py:36: VisibleDeprecationWarning: Creating an ndarray from ragged nested sequences (which is a list-or-tuple of lists-or-tuples-or ndarrays with different lengths or shapes) is deprecated. If you meant to do this, you must specify 'dtype=object' when creating the ndarray.\n",
      "  preds = np.array(pipeline([s.text for s in spacy_sents]))\n"
     ]
    },
    {
     "data": {
      "application/vnd.jupyter.widget-view+json": {
       "model_id": "a82dad5f4bd24d359897b96bd2bc31c1",
       "version_major": 2,
       "version_minor": 0
      },
      "text/plain": [
       "  0%|          | 0/117 [00:00<?, ?ex/s]"
      ]
     },
     "metadata": {},
     "output_type": "display_data"
    },
    {
     "name": "stderr",
     "output_type": "stream",
     "text": [
      "/mnt/nfs/home/Florian.Borchert/workspace/distemist_bioasq_2022/notebooks/../scripts/distemist_util.py:40: VisibleDeprecationWarning: Creating an ndarray from ragged nested sequences (which is a list-or-tuple of lists-or-tuples-or ndarrays with different lengths or shapes) is deprecated. If you meant to do this, you must specify 'dtype=object' when creating the ndarray.\n",
      "  sents = np.array(spacy_sents)[np.array(idx) == i].ravel()\n",
      "Loading cached processed dataset at /home/Florian.Borchert/.cache/huggingface/datasets/dis_temist/subtrack1_entities/3.0.1/a1915148dbf2c746ae734644cb098356da71f63ed6fa586d9b24ac3cfb42df01/cache-06f2f21492335cfd.arrow\n"
     ]
    },
    {
     "name": "stdout",
     "output_type": "stream",
     "text": [
      "Running NER model on test data\n"
     ]
    },
    {
     "name": "stderr",
     "output_type": "stream",
     "text": [
      "/home/Florian.Borchert/.cache/pypoetry/virtualenvs/xl-bel-TMSi1vFk-py3.8/lib/python3.8/site-packages/transformers/pipelines/token_classification.py:291: UserWarning: Tokenizer does not support real words, using fallback heuristic\n",
      "  warnings.warn(\"Tokenizer does not support real words, using fallback heuristic\", UserWarning)\n",
      "/mnt/nfs/home/Florian.Borchert/workspace/distemist_bioasq_2022/notebooks/../scripts/distemist_util.py:36: VisibleDeprecationWarning: Creating an ndarray from ragged nested sequences (which is a list-or-tuple of lists-or-tuples-or ndarrays with different lengths or shapes) is deprecated. If you meant to do this, you must specify 'dtype=object' when creating the ndarray.\n",
      "  preds = np.array(pipeline([s.text for s in spacy_sents]))\n"
     ]
    },
    {
     "data": {
      "application/vnd.jupyter.widget-view+json": {
       "model_id": "56f12739dee941b78e48686af623cdd4",
       "version_major": 2,
       "version_minor": 0
      },
      "text/plain": [
       "  0%|          | 0/3000 [00:00<?, ?ex/s]"
      ]
     },
     "metadata": {},
     "output_type": "display_data"
    },
    {
     "name": "stderr",
     "output_type": "stream",
     "text": [
      "/mnt/nfs/home/Florian.Borchert/workspace/distemist_bioasq_2022/notebooks/../scripts/distemist_util.py:40: VisibleDeprecationWarning: Creating an ndarray from ragged nested sequences (which is a list-or-tuple of lists-or-tuples-or ndarrays with different lengths or shapes) is deprecated. If you meant to do this, you must specify 'dtype=object' when creating the ndarray.\n",
      "  sents = np.array(spacy_sents)[np.array(idx) == i].ravel()\n"
     ]
    },
    {
     "data": {
      "text/plain": [
       "{'train_strict': {'precision': 0.9701189440092834,\n",
       "  'recall': 0.9407792938528625,\n",
       "  'fscore': 0.9552238805970149},\n",
       " 'train_loose': {'precision': 0.9974991519333785,\n",
       "  'recall': 0.9855193613522019,\n",
       "  'fscore': 0.9914730705503741},\n",
       " 'valid_strict': {'precision': 0.74435318275154,\n",
       "  'recall': 0.7583682008368201,\n",
       "  'fscore': 0.7512953367875648},\n",
       " 'valid_loose': {'precision': 0.8618814269814896,\n",
       "  'recall': 0.8775996152323885,\n",
       "  'fscore': 0.8696695052591388}}"
      ]
     },
     "execution_count": 8,
     "metadata": {},
     "output_type": "execute_result"
    }
   ],
   "source": [
    "m, test_pred_1 = run_ner_pipeline('../models/model_1/best_cp/', post_process=False)\n",
    "m"
   ]
  },
  {
   "cell_type": "code",
   "execution_count": 9,
   "metadata": {},
   "outputs": [
    {
     "data": {
      "text/html": [
       "<div>\n",
       "<style scoped>\n",
       "    .dataframe tbody tr th:only-of-type {\n",
       "        vertical-align: middle;\n",
       "    }\n",
       "\n",
       "    .dataframe tbody tr th {\n",
       "        vertical-align: top;\n",
       "    }\n",
       "\n",
       "    .dataframe thead th {\n",
       "        text-align: right;\n",
       "    }\n",
       "</style>\n",
       "<table border=\"1\" class=\"dataframe\">\n",
       "  <thead>\n",
       "    <tr style=\"text-align: right;\">\n",
       "      <th></th>\n",
       "      <th>filename</th>\n",
       "      <th>mark</th>\n",
       "      <th>label</th>\n",
       "      <th>off0</th>\n",
       "      <th>off1</th>\n",
       "      <th>span</th>\n",
       "    </tr>\n",
       "  </thead>\n",
       "  <tbody>\n",
       "    <tr>\n",
       "      <th>0</th>\n",
       "      <td>distemist_test_1</td>\n",
       "      <td>T1</td>\n",
       "      <td>ENFERMEDAD</td>\n",
       "      <td>81</td>\n",
       "      <td>86</td>\n",
       "      <td>ángor</td>\n",
       "    </tr>\n",
       "    <tr>\n",
       "      <th>1</th>\n",
       "      <td>distemist_test_1</td>\n",
       "      <td>T2</td>\n",
       "      <td>ENFERMEDAD</td>\n",
       "      <td>316</td>\n",
       "      <td>334</td>\n",
       "      <td>disfunción eréctil</td>\n",
       "    </tr>\n",
       "    <tr>\n",
       "      <th>2</th>\n",
       "      <td>distemist_test_1</td>\n",
       "      <td>T3</td>\n",
       "      <td>ENFERMEDAD</td>\n",
       "      <td>803</td>\n",
       "      <td>829</td>\n",
       "      <td>adenocarcinoma de próstata</td>\n",
       "    </tr>\n",
       "    <tr>\n",
       "      <th>3</th>\n",
       "      <td>distemist_test_1</td>\n",
       "      <td>T4</td>\n",
       "      <td>ENFERMEDAD</td>\n",
       "      <td>1214</td>\n",
       "      <td>1260</td>\n",
       "      <td>arterias pudendas accesorias (APA) bilaterales</td>\n",
       "    </tr>\n",
       "    <tr>\n",
       "      <th>4</th>\n",
       "      <td>distemist_test_2</td>\n",
       "      <td>T1</td>\n",
       "      <td>ENFERMEDAD</td>\n",
       "      <td>117</td>\n",
       "      <td>132</td>\n",
       "      <td>urticaria aguda</td>\n",
       "    </tr>\n",
       "    <tr>\n",
       "      <th>...</th>\n",
       "      <td>...</td>\n",
       "      <td>...</td>\n",
       "      <td>...</td>\n",
       "      <td>...</td>\n",
       "      <td>...</td>\n",
       "      <td>...</td>\n",
       "    </tr>\n",
       "    <tr>\n",
       "      <th>48777</th>\n",
       "      <td>distemist_test_3000</td>\n",
       "      <td>T6</td>\n",
       "      <td>ENFERMEDAD</td>\n",
       "      <td>2312</td>\n",
       "      <td>2352</td>\n",
       "      <td>carcinoma neuroendocrino indiferenciado:</td>\n",
       "    </tr>\n",
       "    <tr>\n",
       "      <th>48778</th>\n",
       "      <td>distemist_test_3000</td>\n",
       "      <td>T7</td>\n",
       "      <td>ENFERMEDAD</td>\n",
       "      <td>2624</td>\n",
       "      <td>2658</td>\n",
       "      <td>feocromocitoma maligno no secretor</td>\n",
       "    </tr>\n",
       "    <tr>\n",
       "      <th>48779</th>\n",
       "      <td>distemist_test_3000</td>\n",
       "      <td>T8</td>\n",
       "      <td>ENFERMEDAD</td>\n",
       "      <td>2842</td>\n",
       "      <td>2913</td>\n",
       "      <td>feocromocitoma maligno no secretor con metásta...</td>\n",
       "    </tr>\n",
       "    <tr>\n",
       "      <th>48780</th>\n",
       "      <td>distemist_test_3000</td>\n",
       "      <td>T9</td>\n",
       "      <td>ENFERMEDAD</td>\n",
       "      <td>3019</td>\n",
       "      <td>3024</td>\n",
       "      <td>tumor</td>\n",
       "    </tr>\n",
       "    <tr>\n",
       "      <th>48781</th>\n",
       "      <td>distemist_test_3000</td>\n",
       "      <td>T10</td>\n",
       "      <td>ENFERMEDAD</td>\n",
       "      <td>3685</td>\n",
       "      <td>3714</td>\n",
       "      <td>tamaño tumoral en suprarrenal</td>\n",
       "    </tr>\n",
       "  </tbody>\n",
       "</table>\n",
       "<p>48782 rows × 6 columns</p>\n",
       "</div>"
      ],
      "text/plain": [
       "                  filename mark       label  off0  off1  \\\n",
       "0         distemist_test_1   T1  ENFERMEDAD    81    86   \n",
       "1         distemist_test_1   T2  ENFERMEDAD   316   334   \n",
       "2         distemist_test_1   T3  ENFERMEDAD   803   829   \n",
       "3         distemist_test_1   T4  ENFERMEDAD  1214  1260   \n",
       "4         distemist_test_2   T1  ENFERMEDAD   117   132   \n",
       "...                    ...  ...         ...   ...   ...   \n",
       "48777  distemist_test_3000   T6  ENFERMEDAD  2312  2352   \n",
       "48778  distemist_test_3000   T7  ENFERMEDAD  2624  2658   \n",
       "48779  distemist_test_3000   T8  ENFERMEDAD  2842  2913   \n",
       "48780  distemist_test_3000   T9  ENFERMEDAD  3019  3024   \n",
       "48781  distemist_test_3000  T10  ENFERMEDAD  3685  3714   \n",
       "\n",
       "                                                    span  \n",
       "0                                                  ángor  \n",
       "1                                     disfunción eréctil  \n",
       "2                             adenocarcinoma de próstata  \n",
       "3         arterias pudendas accesorias (APA) bilaterales  \n",
       "4                                        urticaria aguda  \n",
       "...                                                  ...  \n",
       "48777           carcinoma neuroendocrino indiferenciado:  \n",
       "48778                 feocromocitoma maligno no secretor  \n",
       "48779  feocromocitoma maligno no secretor con metásta...  \n",
       "48780                                              tumor  \n",
       "48781                      tamaño tumoral en suprarrenal  \n",
       "\n",
       "[48782 rows x 6 columns]"
      ]
     },
     "execution_count": 9,
     "metadata": {},
     "output_type": "execute_result"
    }
   ],
   "source": [
    "out_file = Path('../submission') / 'subtrack1_entities' / '1-roberta-clinical-es-linear-lr.tsv'\n",
    "distemist_util.write_dataset_to_tsv(test_pred_1, out_file, False)"
   ]
  },
  {
   "cell_type": "code",
   "execution_count": 10,
   "metadata": {},
   "outputs": [
    {
     "name": "stdout",
     "output_type": "stream",
     "text": [
      "Loading NER model checkpoint\n"
     ]
    },
    {
     "data": {
      "application/vnd.jupyter.widget-view+json": {
       "model_id": "69b7eec478ac41b588f936587a88ff73",
       "version_major": 2,
       "version_minor": 0
      },
      "text/plain": [
       "  0%|          | 0/1 [00:00<?, ?ba/s]"
      ]
     },
     "metadata": {},
     "output_type": "display_data"
    },
    {
     "name": "stdout",
     "output_type": "stream",
     "text": [
      "Running NER model on training data\n"
     ]
    },
    {
     "name": "stderr",
     "output_type": "stream",
     "text": [
      "/home/Florian.Borchert/.cache/pypoetry/virtualenvs/xl-bel-TMSi1vFk-py3.8/lib/python3.8/site-packages/transformers/pipelines/token_classification.py:291: UserWarning: Tokenizer does not support real words, using fallback heuristic\n",
      "  warnings.warn(\"Tokenizer does not support real words, using fallback heuristic\", UserWarning)\n",
      "/mnt/nfs/home/Florian.Borchert/workspace/distemist_bioasq_2022/notebooks/../scripts/distemist_util.py:36: VisibleDeprecationWarning: Creating an ndarray from ragged nested sequences (which is a list-or-tuple of lists-or-tuples-or ndarrays with different lengths or shapes) is deprecated. If you meant to do this, you must specify 'dtype=object' when creating the ndarray.\n",
      "  preds = np.array(pipeline([s.text for s in spacy_sents]))\n"
     ]
    },
    {
     "data": {
      "application/vnd.jupyter.widget-view+json": {
       "model_id": "6ec06febc80442d0b0968cd6c93d6af9",
       "version_major": 2,
       "version_minor": 0
      },
      "text/plain": [
       "  0%|          | 0/633 [00:00<?, ?ex/s]"
      ]
     },
     "metadata": {},
     "output_type": "display_data"
    },
    {
     "name": "stderr",
     "output_type": "stream",
     "text": [
      "/mnt/nfs/home/Florian.Borchert/workspace/distemist_bioasq_2022/notebooks/../scripts/distemist_util.py:40: VisibleDeprecationWarning: Creating an ndarray from ragged nested sequences (which is a list-or-tuple of lists-or-tuples-or ndarrays with different lengths or shapes) is deprecated. If you meant to do this, you must specify 'dtype=object' when creating the ndarray.\n",
      "  sents = np.array(spacy_sents)[np.array(idx) == i].ravel()\n",
      "Loading cached processed dataset at /home/Florian.Borchert/.cache/huggingface/datasets/dis_temist/subtrack1_entities/3.0.1/a1915148dbf2c746ae734644cb098356da71f63ed6fa586d9b24ac3cfb42df01/cache-add7b3366a304a74.arrow\n"
     ]
    },
    {
     "data": {
      "application/vnd.jupyter.widget-view+json": {
       "model_id": "1c87ae217a83400fbb30c7bd5ee46d94",
       "version_major": 2,
       "version_minor": 0
      },
      "text/plain": [
       "  0%|          | 0/1 [00:00<?, ?ba/s]"
      ]
     },
     "metadata": {},
     "output_type": "display_data"
    },
    {
     "name": "stdout",
     "output_type": "stream",
     "text": [
      "Running NER model on validation data\n"
     ]
    },
    {
     "name": "stderr",
     "output_type": "stream",
     "text": [
      "/home/Florian.Borchert/.cache/pypoetry/virtualenvs/xl-bel-TMSi1vFk-py3.8/lib/python3.8/site-packages/transformers/pipelines/token_classification.py:291: UserWarning: Tokenizer does not support real words, using fallback heuristic\n",
      "  warnings.warn(\"Tokenizer does not support real words, using fallback heuristic\", UserWarning)\n",
      "/mnt/nfs/home/Florian.Borchert/workspace/distemist_bioasq_2022/notebooks/../scripts/distemist_util.py:36: VisibleDeprecationWarning: Creating an ndarray from ragged nested sequences (which is a list-or-tuple of lists-or-tuples-or ndarrays with different lengths or shapes) is deprecated. If you meant to do this, you must specify 'dtype=object' when creating the ndarray.\n",
      "  preds = np.array(pipeline([s.text for s in spacy_sents]))\n"
     ]
    },
    {
     "data": {
      "application/vnd.jupyter.widget-view+json": {
       "model_id": "f251238d515141a9a6f3de91918a1b5a",
       "version_major": 2,
       "version_minor": 0
      },
      "text/plain": [
       "  0%|          | 0/117 [00:00<?, ?ex/s]"
      ]
     },
     "metadata": {},
     "output_type": "display_data"
    },
    {
     "name": "stderr",
     "output_type": "stream",
     "text": [
      "/mnt/nfs/home/Florian.Borchert/workspace/distemist_bioasq_2022/notebooks/../scripts/distemist_util.py:40: VisibleDeprecationWarning: Creating an ndarray from ragged nested sequences (which is a list-or-tuple of lists-or-tuples-or ndarrays with different lengths or shapes) is deprecated. If you meant to do this, you must specify 'dtype=object' when creating the ndarray.\n",
      "  sents = np.array(spacy_sents)[np.array(idx) == i].ravel()\n",
      "Loading cached processed dataset at /home/Florian.Borchert/.cache/huggingface/datasets/dis_temist/subtrack1_entities/3.0.1/a1915148dbf2c746ae734644cb098356da71f63ed6fa586d9b24ac3cfb42df01/cache-06f2f21492335cfd.arrow\n"
     ]
    },
    {
     "name": "stdout",
     "output_type": "stream",
     "text": [
      "Running NER model on test data\n"
     ]
    },
    {
     "name": "stderr",
     "output_type": "stream",
     "text": [
      "/home/Florian.Borchert/.cache/pypoetry/virtualenvs/xl-bel-TMSi1vFk-py3.8/lib/python3.8/site-packages/transformers/pipelines/token_classification.py:291: UserWarning: Tokenizer does not support real words, using fallback heuristic\n",
      "  warnings.warn(\"Tokenizer does not support real words, using fallback heuristic\", UserWarning)\n",
      "/mnt/nfs/home/Florian.Borchert/workspace/distemist_bioasq_2022/notebooks/../scripts/distemist_util.py:36: VisibleDeprecationWarning: Creating an ndarray from ragged nested sequences (which is a list-or-tuple of lists-or-tuples-or ndarrays with different lengths or shapes) is deprecated. If you meant to do this, you must specify 'dtype=object' when creating the ndarray.\n",
      "  preds = np.array(pipeline([s.text for s in spacy_sents]))\n"
     ]
    },
    {
     "data": {
      "application/vnd.jupyter.widget-view+json": {
       "model_id": "2d76ea8310c74aeda860adfe41de3811",
       "version_major": 2,
       "version_minor": 0
      },
      "text/plain": [
       "  0%|          | 0/3000 [00:00<?, ?ex/s]"
      ]
     },
     "metadata": {},
     "output_type": "display_data"
    },
    {
     "name": "stderr",
     "output_type": "stream",
     "text": [
      "/mnt/nfs/home/Florian.Borchert/workspace/distemist_bioasq_2022/notebooks/../scripts/distemist_util.py:40: VisibleDeprecationWarning: Creating an ndarray from ragged nested sequences (which is a list-or-tuple of lists-or-tuples-or ndarrays with different lengths or shapes) is deprecated. If you meant to do this, you must specify 'dtype=object' when creating the ndarray.\n",
      "  sents = np.array(spacy_sents)[np.array(idx) == i].ravel()\n"
     ]
    },
    {
     "data": {
      "text/plain": [
       "{'train_strict': {'precision': 0.9695475638051044,\n",
       "  'recall': 0.9404979603319735,\n",
       "  'fscore': 0.9548018564798286},\n",
       " 'train_loose': {'precision': 0.9970064081192465,\n",
       "  'recall': 0.9848118410392517,\n",
       "  'fscore': 0.9908716066417864},\n",
       " 'valid_strict': {'precision': 0.7455497382198953,\n",
       "  'recall': 0.7447698744769874,\n",
       "  'fscore': 0.7451596023024595},\n",
       " 'valid_loose': {'precision': 0.8673886504603883,\n",
       "  'recall': 0.8648043401658576,\n",
       "  'fscore': 0.866094567508388}}"
      ]
     },
     "execution_count": 10,
     "metadata": {},
     "output_type": "execute_result"
    }
   ],
   "source": [
    "m, test_pred_2 = run_ner_pipeline('../models/model_2/best_cp', post_process=False)\n",
    "m"
   ]
  },
  {
   "cell_type": "code",
   "execution_count": 11,
   "metadata": {},
   "outputs": [
    {
     "data": {
      "text/html": [
       "<div>\n",
       "<style scoped>\n",
       "    .dataframe tbody tr th:only-of-type {\n",
       "        vertical-align: middle;\n",
       "    }\n",
       "\n",
       "    .dataframe tbody tr th {\n",
       "        vertical-align: top;\n",
       "    }\n",
       "\n",
       "    .dataframe thead th {\n",
       "        text-align: right;\n",
       "    }\n",
       "</style>\n",
       "<table border=\"1\" class=\"dataframe\">\n",
       "  <thead>\n",
       "    <tr style=\"text-align: right;\">\n",
       "      <th></th>\n",
       "      <th>filename</th>\n",
       "      <th>mark</th>\n",
       "      <th>label</th>\n",
       "      <th>off0</th>\n",
       "      <th>off1</th>\n",
       "      <th>span</th>\n",
       "    </tr>\n",
       "  </thead>\n",
       "  <tbody>\n",
       "    <tr>\n",
       "      <th>0</th>\n",
       "      <td>distemist_test_1</td>\n",
       "      <td>T1</td>\n",
       "      <td>ENFERMEDAD</td>\n",
       "      <td>81</td>\n",
       "      <td>94</td>\n",
       "      <td>ángor estable</td>\n",
       "    </tr>\n",
       "    <tr>\n",
       "      <th>1</th>\n",
       "      <td>distemist_test_1</td>\n",
       "      <td>T2</td>\n",
       "      <td>ENFERMEDAD</td>\n",
       "      <td>316</td>\n",
       "      <td>334</td>\n",
       "      <td>disfunción eréctil</td>\n",
       "    </tr>\n",
       "    <tr>\n",
       "      <th>2</th>\n",
       "      <td>distemist_test_1</td>\n",
       "      <td>T3</td>\n",
       "      <td>ENFERMEDAD</td>\n",
       "      <td>803</td>\n",
       "      <td>829</td>\n",
       "      <td>adenocarcinoma de próstata</td>\n",
       "    </tr>\n",
       "    <tr>\n",
       "      <th>3</th>\n",
       "      <td>distemist_test_1</td>\n",
       "      <td>T4</td>\n",
       "      <td>ENFERMEDAD</td>\n",
       "      <td>1214</td>\n",
       "      <td>1260</td>\n",
       "      <td>arterias pudendas accesorias (APA) bilaterales</td>\n",
       "    </tr>\n",
       "    <tr>\n",
       "      <th>4</th>\n",
       "      <td>distemist_test_2</td>\n",
       "      <td>T1</td>\n",
       "      <td>ENFERMEDAD</td>\n",
       "      <td>117</td>\n",
       "      <td>132</td>\n",
       "      <td>urticaria aguda</td>\n",
       "    </tr>\n",
       "    <tr>\n",
       "      <th>...</th>\n",
       "      <td>...</td>\n",
       "      <td>...</td>\n",
       "      <td>...</td>\n",
       "      <td>...</td>\n",
       "      <td>...</td>\n",
       "      <td>...</td>\n",
       "    </tr>\n",
       "    <tr>\n",
       "      <th>48463</th>\n",
       "      <td>distemist_test_3000</td>\n",
       "      <td>T5</td>\n",
       "      <td>ENFERMEDAD</td>\n",
       "      <td>2312</td>\n",
       "      <td>2352</td>\n",
       "      <td>carcinoma neuroendocrino indiferenciado:</td>\n",
       "    </tr>\n",
       "    <tr>\n",
       "      <th>48464</th>\n",
       "      <td>distemist_test_3000</td>\n",
       "      <td>T6</td>\n",
       "      <td>ENFERMEDAD</td>\n",
       "      <td>2624</td>\n",
       "      <td>2658</td>\n",
       "      <td>feocromocitoma maligno no secretor</td>\n",
       "    </tr>\n",
       "    <tr>\n",
       "      <th>48465</th>\n",
       "      <td>distemist_test_3000</td>\n",
       "      <td>T7</td>\n",
       "      <td>ENFERMEDAD</td>\n",
       "      <td>2842</td>\n",
       "      <td>2913</td>\n",
       "      <td>feocromocitoma maligno no secretor con metásta...</td>\n",
       "    </tr>\n",
       "    <tr>\n",
       "      <th>48466</th>\n",
       "      <td>distemist_test_3000</td>\n",
       "      <td>T8</td>\n",
       "      <td>ENFERMEDAD</td>\n",
       "      <td>3019</td>\n",
       "      <td>3024</td>\n",
       "      <td>tumor</td>\n",
       "    </tr>\n",
       "    <tr>\n",
       "      <th>48467</th>\n",
       "      <td>distemist_test_3000</td>\n",
       "      <td>T9</td>\n",
       "      <td>ENFERMEDAD</td>\n",
       "      <td>3685</td>\n",
       "      <td>3714</td>\n",
       "      <td>tamaño tumoral en suprarrenal</td>\n",
       "    </tr>\n",
       "  </tbody>\n",
       "</table>\n",
       "<p>48468 rows × 6 columns</p>\n",
       "</div>"
      ],
      "text/plain": [
       "                  filename mark       label  off0  off1  \\\n",
       "0         distemist_test_1   T1  ENFERMEDAD    81    94   \n",
       "1         distemist_test_1   T2  ENFERMEDAD   316   334   \n",
       "2         distemist_test_1   T3  ENFERMEDAD   803   829   \n",
       "3         distemist_test_1   T4  ENFERMEDAD  1214  1260   \n",
       "4         distemist_test_2   T1  ENFERMEDAD   117   132   \n",
       "...                    ...  ...         ...   ...   ...   \n",
       "48463  distemist_test_3000   T5  ENFERMEDAD  2312  2352   \n",
       "48464  distemist_test_3000   T6  ENFERMEDAD  2624  2658   \n",
       "48465  distemist_test_3000   T7  ENFERMEDAD  2842  2913   \n",
       "48466  distemist_test_3000   T8  ENFERMEDAD  3019  3024   \n",
       "48467  distemist_test_3000   T9  ENFERMEDAD  3685  3714   \n",
       "\n",
       "                                                    span  \n",
       "0                                          ángor estable  \n",
       "1                                     disfunción eréctil  \n",
       "2                             adenocarcinoma de próstata  \n",
       "3         arterias pudendas accesorias (APA) bilaterales  \n",
       "4                                        urticaria aguda  \n",
       "...                                                  ...  \n",
       "48463           carcinoma neuroendocrino indiferenciado:  \n",
       "48464                 feocromocitoma maligno no secretor  \n",
       "48465  feocromocitoma maligno no secretor con metásta...  \n",
       "48466                                              tumor  \n",
       "48467                      tamaño tumoral en suprarrenal  \n",
       "\n",
       "[48468 rows x 6 columns]"
      ]
     },
     "execution_count": 11,
     "metadata": {},
     "output_type": "execute_result"
    }
   ],
   "source": [
    "out_file = Path('../submission') / 'subtrack1_entities' / '2-roberta-clinical-es-constant-lr.tsv'\n",
    "distemist_util.write_dataset_to_tsv(test_pred_2, out_file, False)"
   ]
  },
  {
   "cell_type": "code",
   "execution_count": 12,
   "metadata": {},
   "outputs": [
    {
     "name": "stdout",
     "output_type": "stream",
     "text": [
      "Loading NER model checkpoint\n"
     ]
    },
    {
     "data": {
      "application/vnd.jupyter.widget-view+json": {
       "model_id": "616a7730035c46c0bb19d9b6dfdffa9c",
       "version_major": 2,
       "version_minor": 0
      },
      "text/plain": [
       "  0%|          | 0/1 [00:00<?, ?ba/s]"
      ]
     },
     "metadata": {},
     "output_type": "display_data"
    },
    {
     "name": "stdout",
     "output_type": "stream",
     "text": [
      "Running NER model on training data\n"
     ]
    },
    {
     "name": "stderr",
     "output_type": "stream",
     "text": [
      "/home/Florian.Borchert/.cache/pypoetry/virtualenvs/xl-bel-TMSi1vFk-py3.8/lib/python3.8/site-packages/transformers/pipelines/token_classification.py:291: UserWarning: Tokenizer does not support real words, using fallback heuristic\n",
      "  warnings.warn(\"Tokenizer does not support real words, using fallback heuristic\", UserWarning)\n",
      "/mnt/nfs/home/Florian.Borchert/workspace/distemist_bioasq_2022/notebooks/../scripts/distemist_util.py:36: VisibleDeprecationWarning: Creating an ndarray from ragged nested sequences (which is a list-or-tuple of lists-or-tuples-or ndarrays with different lengths or shapes) is deprecated. If you meant to do this, you must specify 'dtype=object' when creating the ndarray.\n",
      "  preds = np.array(pipeline([s.text for s in spacy_sents]))\n"
     ]
    },
    {
     "data": {
      "application/vnd.jupyter.widget-view+json": {
       "model_id": "0c7da4def5304462bc1a16fe7823ab97",
       "version_major": 2,
       "version_minor": 0
      },
      "text/plain": [
       "  0%|          | 0/633 [00:00<?, ?ex/s]"
      ]
     },
     "metadata": {},
     "output_type": "display_data"
    },
    {
     "name": "stderr",
     "output_type": "stream",
     "text": [
      "/mnt/nfs/home/Florian.Borchert/workspace/distemist_bioasq_2022/notebooks/../scripts/distemist_util.py:40: VisibleDeprecationWarning: Creating an ndarray from ragged nested sequences (which is a list-or-tuple of lists-or-tuples-or ndarrays with different lengths or shapes) is deprecated. If you meant to do this, you must specify 'dtype=object' when creating the ndarray.\n",
      "  sents = np.array(spacy_sents)[np.array(idx) == i].ravel()\n",
      "Loading cached processed dataset at /home/Florian.Borchert/.cache/huggingface/datasets/dis_temist/subtrack1_entities/3.0.1/a1915148dbf2c746ae734644cb098356da71f63ed6fa586d9b24ac3cfb42df01/cache-add7b3366a304a74.arrow\n"
     ]
    },
    {
     "data": {
      "application/vnd.jupyter.widget-view+json": {
       "model_id": "d02682def4ef4c9b8c93d821241e6e4d",
       "version_major": 2,
       "version_minor": 0
      },
      "text/plain": [
       "  0%|          | 0/1 [00:00<?, ?ba/s]"
      ]
     },
     "metadata": {},
     "output_type": "display_data"
    },
    {
     "name": "stdout",
     "output_type": "stream",
     "text": [
      "Running NER model on validation data\n"
     ]
    },
    {
     "name": "stderr",
     "output_type": "stream",
     "text": [
      "/home/Florian.Borchert/.cache/pypoetry/virtualenvs/xl-bel-TMSi1vFk-py3.8/lib/python3.8/site-packages/transformers/pipelines/token_classification.py:291: UserWarning: Tokenizer does not support real words, using fallback heuristic\n",
      "  warnings.warn(\"Tokenizer does not support real words, using fallback heuristic\", UserWarning)\n",
      "/mnt/nfs/home/Florian.Borchert/workspace/distemist_bioasq_2022/notebooks/../scripts/distemist_util.py:36: VisibleDeprecationWarning: Creating an ndarray from ragged nested sequences (which is a list-or-tuple of lists-or-tuples-or ndarrays with different lengths or shapes) is deprecated. If you meant to do this, you must specify 'dtype=object' when creating the ndarray.\n",
      "  preds = np.array(pipeline([s.text for s in spacy_sents]))\n"
     ]
    },
    {
     "data": {
      "application/vnd.jupyter.widget-view+json": {
       "model_id": "39076f41fc2d488892dd88e4ac79db71",
       "version_major": 2,
       "version_minor": 0
      },
      "text/plain": [
       "  0%|          | 0/117 [00:00<?, ?ex/s]"
      ]
     },
     "metadata": {},
     "output_type": "display_data"
    },
    {
     "name": "stderr",
     "output_type": "stream",
     "text": [
      "/mnt/nfs/home/Florian.Borchert/workspace/distemist_bioasq_2022/notebooks/../scripts/distemist_util.py:40: VisibleDeprecationWarning: Creating an ndarray from ragged nested sequences (which is a list-or-tuple of lists-or-tuples-or ndarrays with different lengths or shapes) is deprecated. If you meant to do this, you must specify 'dtype=object' when creating the ndarray.\n",
      "  sents = np.array(spacy_sents)[np.array(idx) == i].ravel()\n",
      "Loading cached processed dataset at /home/Florian.Borchert/.cache/huggingface/datasets/dis_temist/subtrack1_entities/3.0.1/a1915148dbf2c746ae734644cb098356da71f63ed6fa586d9b24ac3cfb42df01/cache-06f2f21492335cfd.arrow\n"
     ]
    },
    {
     "name": "stdout",
     "output_type": "stream",
     "text": [
      "Cleaning up\n"
     ]
    },
    {
     "data": {
      "application/vnd.jupyter.widget-view+json": {
       "model_id": "c6941b72750a43fa8d45045d85ea77d8",
       "version_major": 2,
       "version_minor": 0
      },
      "text/plain": [
       "  0%|          | 0/117 [00:00<?, ?ex/s]"
      ]
     },
     "metadata": {},
     "output_type": "display_data"
    },
    {
     "name": "stderr",
     "output_type": "stream",
     "text": [
      "Loading cached processed dataset at /home/Florian.Borchert/.cache/huggingface/datasets/dis_temist/subtrack1_entities/3.0.1/a1915148dbf2c746ae734644cb098356da71f63ed6fa586d9b24ac3cfb42df01/cache-06f2f21492335cfd.arrow\n"
     ]
    },
    {
     "name": "stdout",
     "output_type": "stream",
     "text": [
      "Running NER model on test data\n"
     ]
    },
    {
     "name": "stderr",
     "output_type": "stream",
     "text": [
      "/home/Florian.Borchert/.cache/pypoetry/virtualenvs/xl-bel-TMSi1vFk-py3.8/lib/python3.8/site-packages/transformers/pipelines/token_classification.py:291: UserWarning: Tokenizer does not support real words, using fallback heuristic\n",
      "  warnings.warn(\"Tokenizer does not support real words, using fallback heuristic\", UserWarning)\n",
      "/mnt/nfs/home/Florian.Borchert/workspace/distemist_bioasq_2022/notebooks/../scripts/distemist_util.py:36: VisibleDeprecationWarning: Creating an ndarray from ragged nested sequences (which is a list-or-tuple of lists-or-tuples-or ndarrays with different lengths or shapes) is deprecated. If you meant to do this, you must specify 'dtype=object' when creating the ndarray.\n",
      "  preds = np.array(pipeline([s.text for s in spacy_sents]))\n"
     ]
    },
    {
     "data": {
      "application/vnd.jupyter.widget-view+json": {
       "model_id": "f1b2af0a048047409361a56819a3b550",
       "version_major": 2,
       "version_minor": 0
      },
      "text/plain": [
       "  0%|          | 0/3000 [00:00<?, ?ex/s]"
      ]
     },
     "metadata": {},
     "output_type": "display_data"
    },
    {
     "name": "stderr",
     "output_type": "stream",
     "text": [
      "/mnt/nfs/home/Florian.Borchert/workspace/distemist_bioasq_2022/notebooks/../scripts/distemist_util.py:40: VisibleDeprecationWarning: Creating an ndarray from ragged nested sequences (which is a list-or-tuple of lists-or-tuples-or ndarrays with different lengths or shapes) is deprecated. If you meant to do this, you must specify 'dtype=object' when creating the ndarray.\n",
      "  sents = np.array(spacy_sents)[np.array(idx) == i].ravel()\n"
     ]
    },
    {
     "data": {
      "application/vnd.jupyter.widget-view+json": {
       "model_id": "e1647935f9a8473a8971563ff2ef0294",
       "version_major": 2,
       "version_minor": 0
      },
      "text/plain": [
       "  0%|          | 0/3000 [00:00<?, ?ex/s]"
      ]
     },
     "metadata": {},
     "output_type": "display_data"
    },
    {
     "name": "stdout",
     "output_type": "stream",
     "text": [
      "<re.Match object; span=(0, 34), match='enfermedad de Rendu-Osler-Weber:\\n1'>\n",
      "<re.Match object; span=(0, 34), match='granulocítico ovárico\\n\\nTratamiento'>\n",
      "<re.Match object; span=(0, 43), match='neumonías extrahospitalarias de repetición\\n'>\n",
      "<re.Match object; span=(0, 46), match='lesiones cerebrales por toxoplasmosis y/o TB\\n-'>\n",
      "<re.Match object; span=(0, 9), match='verrugas\\n'>\n",
      "<re.Match object; span=(0, 28), match='hiperglucémica\\nPielonefritis'>\n",
      "<re.Match object; span=(0, 36), match='urticaria generalizada\\n\\nAntecedentes'>\n",
      "<re.Match object; span=(0, 31), match='dermatitis atópica\\n\\nExploración'>\n",
      "<re.Match object; span=(0, 36), match='Urticaria inducida por infecciones\\nb'>\n",
      "<re.Match object; span=(0, 57), match='Alergia a las proteínas de la leche de vaca IgE m>\n",
      "<re.Match object; span=(0, 42), match='Urticaria por picadura de insectos\\n\\nAunque'>\n",
      "<re.Match object; span=(0, 27), match='infiltración por LAL-T.\\n\\nEl'>\n",
      "<re.Match object; span=(0, 30), match='infiltración masiva LAL-T.\\n\\nEl'>\n",
      "<re.Match object; span=(0, 9), match='LAL-T.\\n\\nA'>\n",
      "<re.Match object; span=(0, 21), match='hemoglobinopatía);\\n3)'>\n",
      "<re.Match object; span=(0, 22), match='Exantema intermitente\\n'>\n",
      "<re.Match object; span=(0, 12), match='Bradicardia\\n'>\n",
      "<re.Match object; span=(0, 32), match='Hepato-esplenomegalia moderada\\n–'>\n",
      "<re.Match object; span=(0, 6), match='ADVP\\n3'>\n",
      "<re.Match object; span=(0, 17), match='hábitos tóxicos\\n6'>\n",
      "<re.Match object; span=(0, 21), match='CI precoz\\n\\nENFERMEDAD'>\n",
      "<re.Match object; span=(0, 52), match='Neoplasias\\n• Primarias o del SNC (supratentorial>\n",
      "<re.Match object; span=(0, 12), match='Infecciones\\n'>\n",
      "<re.Match object; span=(0, 28), match='inmunodeprimidos)\\n\\nEvolución'>\n",
      "<re.Match object; span=(0, 23), match='patología tumoral\"\\nTras'>\n",
      "<re.Match object; span=(0, 6), match='Obeso\\n'>\n",
      "<re.Match object; span=(0, 41), match='SINDROME DE EATON LAMBERT\\nPARANEOPLÁSICOS'>\n",
      "<re.Match object; span=(0, 54), match='linfoma testicular difuso de célula grande tipo B>\n",
      "<re.Match object; span=(0, 20), match='suicida,\\n-importante'>\n",
      "<re.Match object; span=(0, 28), match='Conflictos intrapsíquicos:\\n1'>\n",
      "<re.Match object; span=(0, 11), match='Autarquía\\n4'>\n",
      "<re.Match object; span=(0, 20), match='Conflicto de Culpa\\n6'>\n",
      "<re.Match object; span=(0, 19), match='TEP cardioembólico\\n'>\n",
      "<re.Match object; span=(0, 34), match='Neumonia de repetición\\n\\nHALLAZGOS:'>\n",
      "<re.Match object; span=(0, 63), match='adenocarcinoma de páncreas con metástasis hepátic>\n",
      "<re.Match object; span=(0, 24), match='tumor abdominal...\\n\\nPlan'>\n",
      "<re.Match object; span=(0, 11), match='Celulitis\\n\\n'>\n",
      "<re.Match object; span=(0, 40), match='enfermedad relacionada con IgG4\\n\\nPRUEBAS'>\n",
      "<re.Match object; span=(0, 42), match='Arteritis de células gigantes\\n\\nTRATAMIENTO'>\n",
      "<re.Match object; span=(0, 34), match='trombosis venosa profunda\\n\\nPruebas'>\n",
      "<re.Match object; span=(0, 40), match='lámina cribosa de la cóclea\\n\\nDiagnóstico'>\n",
      "<re.Match object; span=(0, 28), match='ferropénica\\n-Nódulo tiroideo'>\n",
      "<re.Match object; span=(0, 27), match='mordedura de perro\\n\\nPRUEBAS'>\n",
      "<re.Match object; span=(0, 40), match='adenopatías\\nLesión costrosa en ala nasal'>\n",
      "<re.Match object; span=(0, 13), match='embolismos\\nNo'>\n",
      "<re.Match object; span=(0, 12), match='condritis\\nSe'>\n",
      "<re.Match object; span=(0, 20), match='CIV amplia\\nEcografía'>\n",
      "<re.Match object; span=(0, 22), match='desnutrición crónica\\n2'>\n",
      "<re.Match object; span=(0, 9), match='emético\\n4'>\n",
      "<re.Match object; span=(0, 10), match='HRC\\nLlanto'>\n",
      "<re.Match object; span=(0, 19), match='Desnutrición\\nEstado'>\n",
      "<re.Match object; span=(0, 19), match='Anorexia nerviosa\\n2'>\n",
      "<re.Match object; span=(0, 18), match='Psicosis\\n\\nEXAMENES'>\n",
      "<re.Match object; span=(0, 6), match='grado\\n'>\n",
      "<re.Match object; span=(0, 23), match='Infartos esplénicos\\nECG'>\n",
      "<re.Match object; span=(0, 44), match='preseptal\\nInfeccion por virus : Epstein-barr'>\n",
      "<re.Match object; span=(0, 42), match='Infección por Virus Epstein-Barr\\n\\n\\nControl'>\n",
      "<re.Match object; span=(0, 43), match='Adenopatías submandibulares(2x1,5)\\nPersiste'>\n",
      "<re.Match object; span=(0, 30), match='adenopatías submandibulares:\\no'>\n",
      "<re.Match object; span=(0, 60), match='histiocitosis de células de Langerhans cutánea?\\n>\n",
      "<re.Match object; span=(0, 38), match='trombosis venosa cerebral\\n\\nDiagnóstico'>\n",
      "<re.Match object; span=(0, 29), match='asma extrínseca\\n\\nAntecedentes'>\n",
      "<re.Match object; span=(0, 35), match='Derrame pericárdico\\nElectromiograma'>\n",
      "<re.Match object; span=(0, 66), match='Miopatía difusa moderada musculatura proximal de >\n",
      "<re.Match object; span=(0, 61), match='Vasculitis leucocitoclástica de vaso mediano prof>\n",
      "<re.Match object; span=(0, 64), match='arteritis necrotizante de vaso de pequeño y media>\n",
      "<re.Match object; span=(0, 34), match='extremidades superiores cortas\\n\\nEn'>\n",
      "<re.Match object; span=(0, 43), match='infección por Leishmania braziliensis\\n\\nPara'>\n",
      "<re.Match object; span=(0, 18), match='deshidratación\\nSus'>\n",
      "<re.Match object; span=(0, 30), match='Angiosarcoma aurícula derecha\\n'>\n",
      "<re.Match object; span=(0, 49), match='síndrome del QT largo secundaria a moxifloxacino\\>\n",
      "<re.Match object; span=(0, 12), match='lesión\\n\\nTras'>\n",
      "<re.Match object; span=(0, 22), match='hipertensión arterial\\n'>\n",
      "<re.Match object; span=(0, 9), match='diabetes\\n'>\n",
      "<re.Match object; span=(0, 20), match='Hipercolesterolemia\\n'>\n",
      "<re.Match object; span=(0, 15), match='Hipotiroidismo\\n'>\n",
      "<re.Match object; span=(0, 29), match='Insuficiencia venosa crónica\\n'>\n",
      "<re.Match object; span=(0, 32), match='Escoliosis dorso-lumbar severa\\n•'>\n",
      "<re.Match object; span=(0, 14), match='Shock séptico\\n'>\n",
      "<re.Match object; span=(0, 48), match='Perforación de velo posterior de válvula mitral\\n>\n",
      "<re.Match object; span=(0, 84), match='Insuficiencia renal de etiología mixta (nefrotóxi>\n",
      "<re.Match object; span=(0, 34), match='Insuficiencia cardiaca congestiva\\n'>\n",
      "<re.Match object; span=(0, 29), match='ENDOCARDITIS BACTERIANA\\n\\nPLAN'>\n",
      "<re.Match object; span=(0, 44), match='Trombosis de la fístula sistémico pulmonar\\n2'>\n",
      "<re.Match object; span=(0, 30), match='Espondilosis dorsal\\nTomografía'>\n",
      "<re.Match object; span=(0, 10), match='bebedor\\nNo'>\n",
      "<re.Match object; span=(0, 5), match='DL\\nNo'>\n",
      "<re.Match object; span=(0, 31), match='depresión reactiva\\nTratamientos'>\n",
      "<re.Match object; span=(0, 29), match='visceromegalias,\\nExtremidades'>\n",
      "<re.Match object; span=(0, 28), match='Esquistosomiasis intestinal\\n'>\n",
      "<re.Match object; span=(0, 24), match='Lesión cutánea perianal\\n'>\n",
      "<re.Match object; span=(0, 12), match='Eritematosa\\n'>\n",
      "<re.Match object; span=(0, 27), match='perianal estreptocócica\\n\\nEl'>\n",
      "<re.Match object; span=(0, 11), match='dermatitis\\n'>\n",
      "<re.Match object; span=(0, 46), match='distales en ambos miembros inferiores\\n\\nEnfoque'>\n",
      "<re.Match object; span=(0, 31), match='dermatitis atópica\\n\\nEXPLORACIÓN'>\n",
      "<re.Match object; span=(0, 18), match='palpebral\\n\\nEnfoque'>\n",
      "<re.Match object; span=(0, 10), match='Urticaria\\n'>\n",
      "<re.Match object; span=(0, 29), match='Necrólisis epidérmica tóxica\\n'>\n",
      "<re.Match object; span=(0, 22), match='Sd de Stevens Johnson\\n'>\n",
      "<re.Match object; span=(0, 30), match='Eritema pigmentario fijo\\n\\nPlan'>\n",
      "<re.Match object; span=(0, 39), match='hipercalciuria familiar\\n\\nIdentificación'>\n",
      "<re.Match object; span=(0, 84), match='de aorta en AO torácica descendente\\nAneurisma in>\n",
      "<re.Match object; span=(0, 26), match='Hepatitis C\\nAntecedentesde'>\n",
      "<re.Match object; span=(0, 13), match='oncológica\\nSe'>\n",
      "<re.Match object; span=(0, 29), match='disección aórtica tipo A.\\nCon'>\n",
      "<re.Match object; span=(0, 21), match='hipovitaminosis D.\\nNo'>\n",
      "<re.Match object; span=(0, 15), match='AVE-HUEVO\\n\\nPara'>\n",
      "<re.Match object; span=(0, 21), match='alergias\\nANTECEDENTES'>\n",
      "<re.Match object; span=(0, 45), match='infección del tracto urinario...\\nTratamiento:'>\n",
      "<re.Match object; span=(0, 33), match='hipertensión secundaria\\nAparición'>\n",
      "<re.Match object; span=(0, 26), match='Sedentarismo)\\nTratamientos'>\n",
      "<re.Match object; span=(0, 24), match='inoculación\\n\\nDIAGNOSTICO'>\n",
      "<re.Match object; span=(0, 41), match='INFECCIÓN AGUDA POR T. CRUZI\\n\\nTRATAMIENTO'>\n",
      "<re.Match object; span=(0, 87), match='enfermedad arterial coronaria de 2 vasos:\\nDescen>\n",
      "<re.Match object; span=(0, 27), match='estreñimiento\\n\\nANTECEDENTES'>\n",
      "<re.Match object; span=(0, 15), match='asma bronquial\\n'>\n",
      "<re.Match object; span=(0, 62), match='Hipotrofia de los músculos peroneos e intrínsecos>\n",
      "<re.Match object; span=(0, 23), match='Hiperlaxitud articular\\n'>\n",
      "<re.Match object; span=(0, 46), match='Estenosis aórtica severa en válvula bicúspide\\n'>\n",
      "<re.Match object; span=(0, 19), match='Orofaringea:\\nCausas'>\n",
      "<re.Match object; span=(0, 17), match='Esofágica:\\nCausas'>\n",
      "<re.Match object; span=(0, 27), match='hábitos tóxicos\\n-RGE severo'>\n",
      "<re.Match object; span=(0, 45), match='fibrosis intersticial en bases pulmonares\\nTAC'>\n",
      "<re.Match object; span=(0, 43), match='infección (urinaria, respiratoria...)\\n\\nPlan'>\n",
      "<re.Match object; span=(0, 14), match='OMA bilateral\\n'>\n",
      "<re.Match object; span=(0, 16), match='miopatías...\\n\\nSe'>\n",
      "<re.Match object; span=(0, 60), match='Rasgos obsesivo-compulsivos de la personalidad\\n\\>\n",
      "<re.Match object; span=(0, 57), match='Úlcera necrótica en porción posterior de paladar >\n",
      "<re.Match object; span=(0, 25), match='alergia a pirazolonas\\nAIT'>\n",
      "<re.Match object; span=(0, 182), match='infarto precoz en territorio periférico y ramas l>\n",
      "<re.Match object; span=(0, 90), match='agudo en opérculo frontal, ínsula anterior y cabe>\n",
      "<re.Match object; span=(0, 47), match='estenosis intrastent de la subclavia izquierda\\n'>\n",
      "<re.Match object; span=(0, 13), match='depresivo\\n-No'>\n",
      "<re.Match object; span=(0, 27), match='lesiones cutáneas\\n\\nEXÁMENES'>\n",
      "<re.Match object; span=(0, 60), match='lesiones de aspecto inflamatorio en ambos campos >\n",
      "<re.Match object; span=(0, 56), match='daño mielínico en fibras nerviosas sensitivas y m>\n",
      "<re.Match object; span=(0, 54), match='lesiones inflamatorias en ambas bases de los pulm>\n",
      "<re.Match object; span=(0, 20), match='dermatopolimiositis\\n'>\n",
      "<re.Match object; span=(0, 19), match='pulmonar)\\n\\nExámenes'>\n",
      "<re.Match object; span=(0, 30), match='Foco endovascular persistente\\n'>\n",
      "<re.Match object; span=(0, 53), match='Reinfección recurrente en paciente portadora de S>\n",
      "<re.Match object; span=(0, 28), match='insuficiencia renal...\\n\\nPlan'>\n",
      "<re.Match object; span=(0, 85), match='neuralgia en el territorio de la primera rama del>\n",
      "<re.Match object; span=(0, 32), match='picadura de insecto\\n\\nExploración'>\n",
      "<re.Match object; span=(0, 37), match='adenopatías inguinales\\n\\nExploraciones'>\n",
      "<re.Match object; span=(0, 4), match='HTA\\n'>\n",
      "<re.Match object; span=(0, 11), match='Dislipemia\\n'>\n",
      "<re.Match object; span=(0, 15), match='Hipotiroidismo\\n'>\n",
      "<re.Match object; span=(0, 10), match='Depresión\\n'>\n",
      "<re.Match object; span=(0, 24), match='escleredema\\n\\nDiagnóstico'>\n",
      "<re.Match object; span=(0, 28), match='cáncer de pene...\\n\\nEvolución'>\n",
      "<re.Match object; span=(0, 34), match='anemia macrocítica\\nSangrado activo'>\n",
      "<re.Match object; span=(0, 51), match='Macrocefalia cutis marmorata telangiectásica\\n(OM>\n",
      "<re.Match object; span=(0, 16), match='Neumonía LII\\nTto'>\n",
      "<re.Match object; span=(0, 19), match='lesión lítica\\nL4-L5'>\n",
      "<re.Match object; span=(0, 19), match='APLV-IgE.\\nIniciamos'>\n",
      "<re.Match object; span=(0, 10), match='cáncer\\n\\nNo'>\n",
      "<re.Match object; span=(0, 30), match='derrame pericárdico\\nResonancia'>\n",
      "<re.Match object; span=(0, 24), match='abuso sustancias:\\nInicio'>\n",
      "<re.Match object; span=(0, 25), match='Síndrome de Cushing:\\nPara'>\n",
      "<re.Match object; span=(0, 15), match='con cavitación\\n'>\n",
      "<re.Match object; span=(0, 38), match='Absceso pulmonar de origen bacteriano\\n'>\n",
      "<re.Match object; span=(0, 21), match='Infección por hongos\\n'>\n",
      "<re.Match object; span=(0, 16), match='cavitación\\n\\nTras'>\n",
      "<re.Match object; span=(0, 33), match='comunicación interventricular\\nSin'>\n",
      "<re.Match object; span=(0, 44), match='triatriatum\\nDefecto parcial atrioventricular'>\n",
      "<re.Match object; span=(0, 16), match='lesión ósea\\n\\nRMI'>\n",
      "<re.Match object; span=(0, 108), match='Lesiones petequiales en glúteos y miembros inferi>\n",
      "<re.Match object; span=(0, 22), match='hipoplasia pulmonar\\n\\nA'>\n",
      "<re.Match object; span=(0, 28), match='GASTRODUODENAL\\nMICOBACTERIAS'>\n",
      "<re.Match object; span=(0, 10), match='y espalda\\n'>\n",
      "<re.Match object; span=(0, 13), match='Hipohidrosis\\n'>\n",
      "<re.Match object; span=(0, 45), match='Trombofilia (Deficiencia de Proteína S):\\n2011'>\n",
      "<re.Match object; span=(0, 52), match='Trombosis de vena cava inferior y arteria renal\\n>\n",
      "<re.Match object; span=(0, 16), match='ERGE\\n\\nHALLAZGOS:'>\n",
      "<re.Match object; span=(0, 46), match='Cistinuria heterocigoto no tipo A.\\n\\nSeaconseja'>\n",
      "<re.Match object; span=(0, 24), match='síndrome de Cushing\\n\\nLos'>\n",
      "<re.Match object; span=(0, 15), match='Hepatitis B.\\nLa'>\n",
      "<re.Match object; span=(0, 36), match='cardiopatía isquémica crónica:\\n2004:'>\n",
      "<re.Match object; span=(0, 36), match='enfermedad coronaria de 2 vasos:\\nCD:'>\n",
      "<re.Match object; span=(0, 37), match='con metástasis hepáticas\\n\\nTratamiento'>\n",
      "<re.Match object; span=(0, 19), match='dislipemia.\\nHábitos'>\n",
      "<re.Match object; span=(0, 29), match='Adneoma hepatoceluular\\n\\n\\nPlan'>\n",
      "<re.Match object; span=(0, 23), match='peritonitis\\nHepatitis B'>\n",
      "<re.Match object; span=(0, 40), match='Trastorno del desarrollo\\n\\nSOCIOLABORALES'>\n",
      "<re.Match object; span=(0, 29), match='Enfermedades Mentales,\\nCentro'>\n",
      "<re.Match object; span=(0, 22), match='congestión cardíaca\\nRx'>\n",
      "<re.Match object; span=(0, 81), match='granuloma por proceso inflamatorio crónico con de>\n",
      "<re.Match object; span=(0, 59), match='de paratiroides de localización mediastínica\\nLes>\n",
      "<re.Match object; span=(0, 12), match='TVP\\n\\nPruebas'>\n",
      "<re.Match object; span=(0, 23), match='Retraso Mental Leve\\nEje'>\n",
      "<re.Match object; span=(0, 34), match='Síndrome de ojo seco\\n\\nAntecedentes'>\n",
      "<re.Match object; span=(0, 114), match='discopatía degenerativa multinivel con protusione>\n",
      "<re.Match object; span=(0, 25), match='Hemorragia subaracnoidea\\n'>\n",
      "<re.Match object; span=(0, 38), match='Iatrogenia por ciprofloxacino\\n\\nEstudio'>\n",
      "<re.Match object; span=(0, 40), match='Disfunción ventricular sistólica severa\\n'>\n",
      "<re.Match object; span=(0, 14), match='situs sólitus\\n'>\n",
      "<re.Match object; span=(0, 29), match='anomalías del drenaje venoso\\n'>\n",
      "<re.Match object; span=(0, 21), match='Trastornos afectivos\\n'>\n",
      "<re.Match object; span=(0, 14), match='Esquizofrenia\\n'>\n",
      "<re.Match object; span=(0, 19), match='Neurosis histérica\\n'>\n",
      "<re.Match object; span=(0, 16), match='Neurosis fóbica\\n'>\n",
      "<re.Match object; span=(0, 30), match='Neurosis obsesiva\\n\\nORIENTACIÓN'>\n",
      "<re.Match object; span=(0, 26), match='Trastorno depresivo mayor\\n'>\n",
      "<re.Match object; span=(0, 18), match='parada cardiaca:\\n1'>\n",
      "<re.Match object; span=(0, 39), match='Fibrilación ventricular idiopática:\\nRed'>\n",
      "<re.Match object; span=(0, 20), match='macrocefalia\\n\\nEXAMEN'>\n",
      "<re.Match object; span=(0, 5), match='C.\\nEn'>\n",
      "<re.Match object; span=(0, 18), match='lesiones cutáneas\\n'>\n",
      "<re.Match object; span=(0, 31), match='infección por parvovirus B 19\\n\\n'>\n",
      "<re.Match object; span=(0, 16), match='infección fetal\\n'>\n",
      "<re.Match object; span=(0, 33), match='celulitis secundaria a picadura\\n\\n'>\n",
      "<re.Match object; span=(0, 12), match='Infecciones\\n'>\n",
      "<re.Match object; span=(0, 24), match='Meningitis bacterianas\\n1'>\n",
      "<re.Match object; span=(0, 12), match='zoonosis:\\n1-'>\n",
      "<re.Match object; span=(0, 85), match='Miocardiopatía no compactada con disfunción sistó>\n",
      "<re.Match object; span=(0, 21), match='isquémica crónica:\\nEn'>\n",
      "<re.Match object; span=(0, 93), match='auricular con respuesta ventricular controlada\\nF>\n",
      "<re.Match object; span=(0, 23), match='linfangitis infecciosa\\n'>\n",
      "<re.Match object; span=(0, 16), match='de Chagas\\nEstado'>\n",
      "<re.Match object; span=(0, 14), match='síncopes:\\n1999'>\n",
      "<re.Match object; span=(0, 22), match='Vasoespasmo coronario\\n'>\n",
      "<re.Match object; span=(0, 12), match='alergia:\\n-Es'>\n",
      "<re.Match object; span=(0, 26), match='fibrosis quística\\n\\nNuestro'>\n",
      "<re.Match object; span=(0, 55), match='bronquiectasias en ambas bases pulmonares\\n\\nTrat>\n",
      "<re.Match object; span=(0, 78), match='codo izquierdo pápulo-vesículas agrupadas sobre u>\n",
      "<re.Match object; span=(0, 18), match='SEE de bajo grado\\n'>\n",
      "<re.Match object; span=(0, 8), match='distres\\n'>\n",
      "<re.Match object; span=(0, 17), match='Neumonía\\n\\nMejoría'>\n",
      "<re.Match object; span=(0, 9), match='Neumonía\\n'>\n",
      "<re.Match object; span=(0, 8), match='distres\\n'>\n",
      "<re.Match object; span=(0, 21), match='vitíligo\\n\\nExploración'>\n",
      "<re.Match object; span=(0, 77), match='nasal ancha, con punta deprimida\\nPabellones auri>\n",
      "<re.Match object; span=(0, 31), match='mental leve o moderado\\n\\nRETRASO'>\n",
      "<re.Match object; span=(0, 73), match='ESQUELETICAS:\\nAnomalías vertebrales: hemivértebr>\n",
      "<re.Match object; span=(0, 27), match='del quinto dedo\\nOcasionales'>\n",
      "<re.Match object; span=(0, 91), match='DERMATOGLIFICAS:\\nAlmohadillas fetales en el pulp>\n",
      "<re.Match object; span=(0, 36), match='congénita\\nAnomalías renourogenitales'>\n",
      "<re.Match object; span=(0, 23), match='conjuntivitis alérgica\\n'>\n",
      "<re.Match object; span=(0, 19), match='Caspa de gato\\n\\nTest'>\n",
      "<re.Match object; span=(0, 16), match='Dengue\\n\\nConsulta'>\n",
      "<re.Match object; span=(0, 35), match='picadas por artrópodos\\n\\nExploración'>\n",
      "<re.Match object; span=(0, 23), match='adenopatías cervicales\\n'>\n",
      "<re.Match object; span=(0, 7), match='anemia\\n'>\n",
      "<re.Match object; span=(0, 46), match='Picadura mosca \"tse-tse\" (género Glossina)\\n\\nLa'>\n",
      "<re.Match object; span=(0, 31), match='infección urinaria\\n\\nDIAGNÓSTICO'>\n",
      "<re.Match object; span=(0, 68), match='miocarditis fulminante por gripe A.\\nDisfunción s>\n",
      "<re.Match object; span=(0, 92), match='viral de vías respiratorias superiores por gripe >\n",
      "<re.Match object; span=(0, 58), match='síndrome hiperesosinofílico\\nHipertensión arteria>\n",
      "<re.Match object; span=(0, 16), match='fiebre Q.\\n\\nOtras'>\n",
      "<re.Match object; span=(0, 16), match='IgA\\n\\nTratamiento'>\n",
      "<re.Match object; span=(0, 16), match='hábitos tóxicos\\n'>\n",
      "<re.Match object; span=(0, 11), match='dislipemia\\n'>\n",
      "<re.Match object; span=(0, 15), match='Hipotiroidismo\\n'>\n",
      "<re.Match object; span=(0, 28), match='Fibrilación auricular lenta\\n'>\n",
      "<re.Match object; span=(0, 30), match='adicción a sustancias,...\\nTras'>\n",
      "<re.Match object; span=(0, 55), match='patología neurológica residual Guillain Barré,...>\n",
      "<re.Match object; span=(0, 24), match='Múltiple IgG-kappa\\n\\nPlan'>\n",
      "<re.Match object; span=(0, 12), match='de tóxicos\\nA'>\n",
      "<re.Match object; span=(0, 63), match='reactivo de la vinculación\\nTrastorno somatomorfo>\n",
      "<re.Match object; span=(0, 21), match='Fenómeno de Raynaud\\n3'>\n",
      "<re.Match object; span=(0, 17), match='esclerodactilia\\n4'>\n",
      "<re.Match object; span=(0, 23), match='Hipertensión arterial\\n5'>\n",
      "<re.Match object; span=(0, 19), match='ánimo depresivo\\nNos'>\n",
      "<re.Match object; span=(0, 36), match='Miopatía inflamatoria idiopática\\n\\nLa'>\n",
      "<re.Match object; span=(0, 17), match='Coletiasis:\\nDolor'>\n",
      "<re.Match object; span=(0, 19), match='Abdômen agudo\\nDolor'>\n",
      "<re.Match object; span=(0, 22), match='Pancreatitis Aguda:\\n2-'>\n",
      "<re.Match object; span=(0, 12), match='Coletiasis\\n3'>\n",
      "<re.Match object; span=(0, 39), match='Pancreatitis Aguda:\\n• Intra abdominales'>\n",
      "<re.Match object; span=(0, 11), match='Colangitis\\n'>\n",
      "<re.Match object; span=(0, 20), match='Infarto mesentérico\\n'>\n",
      "<re.Match object; span=(0, 23), match='Obstrucción Intestinal\\n'>\n",
      "<re.Match object; span=(0, 33), match='Perforación de una víscera hueca\\n'>\n",
      "<re.Match object; span=(0, 12), match='Apendicitis\\n'>\n",
      "<re.Match object; span=(0, 15), match='Diverticulitis\\n'>\n",
      "<re.Match object; span=(0, 25), match='Rotura de quiste ovárico\\n'>\n",
      "<re.Match object; span=(0, 18), match='Extra abdominales\\n'>\n",
      "<re.Match object; span=(0, 4), match='IAM\\n'>\n",
      "<re.Match object; span=(0, 21), match='Neumonía con derrame\\n'>\n",
      "<re.Match object; span=(0, 11), match='Saturnismo\\n'>\n",
      "<re.Match object; span=(0, 31), match='Púrpura de Henoch-Schonlein\\n\\n2-'>\n",
      "<re.Match object; span=(0, 23), match='Coletitiasis:\\nPATOLOGÍA'>\n",
      "<re.Match object; span=(0, 40), match='benigno de vía biliar\\nQuiste de colédoco'>\n",
      "<re.Match object; span=(0, 26), match='aguda\\nÚlcera péptica aguda'>\n",
      "<re.Match object; span=(0, 26), match='hepato/esplenomegalia\\nORL:'>\n",
      "<re.Match object; span=(0, 21), match='urticaria\\nTratamiento'>\n",
      "<re.Match object; span=(0, 24), match='Escarlatina\\n\\nTratamiento'>\n",
      "<re.Match object; span=(0, 27), match='MONONUCLEOSIS INFECCIOSA\\nSe'>\n",
      "<re.Match object; span=(0, 53), match='eosinofílica\\nInfartos isquémicos cerebrales múlt>\n",
      "<re.Match object; span=(0, 29), match='Insuficiencia aórtica severa\\n'>\n",
      "<re.Match object; span=(0, 71), match='Insuficiencia mitral por perforación de la valva >\n",
      "<re.Match object; span=(0, 20), match='Absceso periaórtico\\n'>\n",
      "<re.Match object; span=(0, 59), match='Bloqueo aurículo ventricular completo secundario >\n",
      "<re.Match object; span=(0, 11), match='disfonía\\nSe'>\n",
      "<re.Match object; span=(0, 17), match='Angina inestable\\n'>\n",
      "<re.Match object; span=(0, 37), match='Taquicardia ventricular no sostenida\\n'>\n",
      "<re.Match object; span=(0, 22), match='hipertensión arterial\\n'>\n",
      "<re.Match object; span=(0, 28), match='asma bronquial\\n\\nEnfermedades'>\n",
      "<re.Match object; span=(0, 22), match='hipertensión arterial\\n'>\n",
      "<re.Match object; span=(0, 15), match='asma bronquial\\n'>\n",
      "<re.Match object; span=(0, 25), match='nefropatías\\n\\nEnfermedades'>\n",
      "<re.Match object; span=(0, 25), match='trastornos psiquiátricos\\n'>\n",
      "<re.Match object; span=(0, 9), match='jaquecas\\n'>\n",
      "<re.Match object; span=(0, 15), match='retraso mental\\n'>\n",
      "<re.Match object; span=(0, 11), match='paraplejía\\n'>\n",
      "<re.Match object; span=(0, 26), match='malformaciones congénitas\\n'>\n",
      "<re.Match object; span=(0, 22), match='úlcera gsatroduodenal\\n'>\n",
      "<re.Match object; span=(0, 18), match='cirrosis hepática\\n'>\n",
      "<re.Match object; span=(0, 18), match='apendicitis aguda\\n'>\n",
      "<re.Match object; span=(0, 9), match='alergia\\n\\n'>\n",
      "<re.Match object; span=(0, 38), match='por Salmonella enteriditis\\n\\nPRONÓSTICO'>\n",
      "<re.Match object; span=(0, 26), match='Disección de aorta tipo A\\n'>\n",
      "<re.Match object; span=(0, 35), match='Tromboembolismo pulmonar bilateral\\n'>\n",
      "<re.Match object; span=(0, 32), match='Disfunción biventricular severa\\n'>\n",
      "<re.Match object; span=(0, 29), match='Diabetes Tipo 1b\\n\\nTratamiento'>\n",
      "<re.Match object; span=(0, 28), match='daño urológico...\\n\\nEvolución'>\n",
      "<re.Match object; span=(0, 19), match='pneumoniae\\n\\nSegunda'>\n",
      "<re.Match object; span=(0, 43), match='linfoma no hodgkin de células grandes B.\\nEl'>\n",
      "<re.Match object; span=(0, 39), match='nefropatía mesangial IgA.\\n\\nDiagnostico:'>\n",
      "<re.Match object; span=(0, 59), match='Nefropatia intersticial por intolearncia a AINES\\>\n",
      "<re.Match object; span=(0, 52), match='Endocarditis aguda mitral por Staphylococcus aure>\n",
      "<re.Match object; span=(0, 20), match='metástasis\\nAnalítica'>\n",
      "<re.Match object; span=(0, 18), match='Fumadora habitual\\n'>\n",
      "<re.Match object; span=(0, 28), match='Neumonía eosinoflica\\n\\nCuadro'>\n",
      "<re.Match object; span=(0, 28), match='Coccidioidomicosis pulmonar\\n'>\n",
      "<re.Match object; span=(0, 25), match='Alergia a polen y ácaros\\n'>\n",
      "<re.Match object; span=(0, 8), match='Fumador\\n'>\n",
      "<re.Match object; span=(0, 18), match='Miocarditis aguda\\n'>\n",
      "<re.Match object; span=(0, 20), match='Neoplasia vesical\\nEl'>\n",
      "<re.Match object; span=(0, 32), match='disfunción renal y respiratoria\\n'>\n",
      "<re.Match object; span=(0, 58), match='Alergia a proteínas leche de vaca, frutos secos, >\n",
      "<re.Match object; span=(0, 68), match='lupus eritematoso sistémico:\\nEndocarditis de Lib>\n",
      "<re.Match object; span=(0, 29), match='diabetes tipo 1A.\\nActualmente'>\n",
      "<re.Match object; span=(0, 35), match='infección crónica por fiebre Q.\\n\\nSe'>\n",
      "<re.Match object; span=(0, 37), match='Anemia hemolítica autoinmune (AHAI)\\n—'>\n",
      "<re.Match object; span=(0, 65), match='Lupus Eritematoso Sistémico (LES) con nefropatía >\n",
      "<re.Match object; span=(0, 31), match='Enfermedad celíaca\\n\\nFinalizamos'>\n",
      "<re.Match object; span=(0, 25), match='suboclusivo?\\n\\nDiagnóstico'>\n",
      "<re.Match object; span=(0, 12), match='granulomas\\n3'>\n",
      "<re.Match object; span=(0, 41), match='embolismos pulmonares sépticos\\n\\nEvolución'>\n",
      "<re.Match object; span=(0, 23), match='heridas bordes glúteos\\n'>\n",
      "<re.Match object; span=(0, 35), match='dermatitis perianal estreptocócica\\n'>\n",
      "<re.Match object; span=(0, 50), match='recurrencia de dermatitis perianal estreptocócica>\n",
      "<re.Match object; span=(0, 47), match='Estenosis aórtica severa con válvula bicúspide\\n'>\n",
      "<re.Match object; span=(0, 20), match='rotatoria C1- C2\\n\\nLa'>\n",
      "<re.Match object; span=(0, 42), match='linfoma difuso de células grandes B.\\n\\nTras'>\n",
      "<re.Match object; span=(0, 63), match='Antebrazo derecho, cara posterior, con pápulas er>\n",
      "<re.Match object; span=(0, 33), match='Inmunodeficiencia común variable\\n'>\n",
      "<re.Match object; span=(0, 41), match='Agammaglobulinemia ligada al cromosoma X\\n'>\n",
      "<re.Match object; span=(0, 23), match='Síndrome de hiper-IgM\\n•'>\n",
      "<re.Match object; span=(0, 37), match='Deficiencia selectiva de anticuerpos\\n'>\n",
      "<re.Match object; span=(0, 9), match='Asplenia\\n'>\n",
      "<re.Match object; span=(0, 28), match='Déficit de subclases de IgG\\n'>\n",
      "<re.Match object; span=(0, 46), match='Déficit de factores del complemento\\n\\nEvolución'>\n",
      "<re.Match object; span=(0, 13), match='MONOARTRITIS\\n'>\n",
      "<re.Match object; span=(0, 13), match='TUBERCULOSA\\n\\n'>\n",
      "<re.Match object; span=(0, 22), match='Miopericarditis aguda\\n'>\n",
      "<re.Match object; span=(0, 100), match='trombosis incompleta del seno longitudinal superi>\n",
      "<re.Match object; span=(0, 24), match='lesiones costrosas..\\n\\nSe'>\n",
      "<re.Match object; span=(0, 35), match='déficit de proteína C.\\n\\nExploración'>\n",
      "<re.Match object; span=(0, 42), match='Trastorno esquizoafectivo tipo bipolar\\nEje'>\n",
      "<re.Match object; span=(0, 14), match='Esquizofrenia\\n'>\n",
      "<re.Match object; span=(0, 30), match='Trastorno del estado de ánimo\\n'>\n",
      "<re.Match object; span=(0, 25), match='bradicardia\\n\\nANTECEDENTES'>\n",
      "<re.Match object; span=(0, 18), match='artrosis\\nHemograma'>\n",
      "<re.Match object; span=(0, 12), match='dependiente\\n'>\n",
      "<re.Match object; span=(0, 12), match='alcoholismo\\n'>\n",
      "<re.Match object; span=(0, 20), match='Déficit de cortisol\\n'>\n",
      "<re.Match object; span=(0, 26), match='Hiperinsulinismo endógeno\\n'>\n",
      "<re.Match object; span=(0, 26), match='hepatitis C.\\nHospitalizado'>\n",
      "<re.Match object; span=(0, 31), match='enfermedad Charcot-Marie-Toot\\n•'>\n",
      "<re.Match object; span=(0, 10), match='picaduras\\n'>\n",
      "<re.Match object; span=(0, 12), match='adenopatías\\n'>\n",
      "<re.Match object; span=(0, 21), match='hepatoesplenomegalia\\n'>\n",
      "<re.Match object; span=(0, 21), match='Adenopatía\\n\\nEtiología'>\n",
      "<re.Match object; span=(0, 7), match='dengue\\n'>\n",
      "<re.Match object; span=(0, 24), match='hipotiroidismo\\nEndocrina'>\n",
      "<re.Match object; span=(0, 21), match='adenopatía cervical\\n\\n'>\n",
      "<re.Match object; span=(0, 20), match='Adenopatía subaguda\\n'>\n",
      "<re.Match object; span=(0, 13), match='tuberculosa\\n\\n'>\n",
      "<re.Match object; span=(0, 20), match='migraña\\n\\nEXPLORACIÓN'>\n",
      "<re.Match object; span=(0, 18), match='quistes renales\\nSe'>\n",
      "<re.Match object; span=(0, 65), match='tumor neuroendocrino pancreático no secretor, bie>\n",
      "<re.Match object; span=(0, 22), match='hemangiomas hepáticos\\n'>\n"
     ]
    },
    {
     "data": {
      "text/plain": [
       "{'train_strict': {'precision': 0.9701189440092834,\n",
       "  'recall': 0.9407792938528625,\n",
       "  'fscore': 0.9552238805970149},\n",
       " 'train_loose': {'precision': 0.9974991519333785,\n",
       "  'recall': 0.9855193613522019,\n",
       "  'fscore': 0.9914730705503741},\n",
       " 'valid_strict': {'precision': 0.74435318275154,\n",
       "  'recall': 0.7583682008368201,\n",
       "  'fscore': 0.7512953367875648},\n",
       " 'valid_loose': {'precision': 0.8618814269814896,\n",
       "  'recall': 0.8775996152323885,\n",
       "  'fscore': 0.8696695052591388},\n",
       " 'valid_clean_strict': {'precision': 0.7564234326824255,\n",
       "  'recall': 0.7698744769874477,\n",
       "  'fscore': 0.7630896837739761},\n",
       " 'valid_clean_loose': {'precision': 0.8639885318513207,\n",
       "  'recall': 0.8775996152323885,\n",
       "  'fscore': 0.8707408859983137}}"
      ]
     },
     "execution_count": 12,
     "metadata": {},
     "output_type": "execute_result"
    }
   ],
   "source": [
    "m, test_pred_3 = run_ner_pipeline('../models/model_1/best_cp', post_process=True)\n",
    "m"
   ]
  },
  {
   "cell_type": "code",
   "execution_count": 13,
   "metadata": {},
   "outputs": [
    {
     "data": {
      "text/html": [
       "<div>\n",
       "<style scoped>\n",
       "    .dataframe tbody tr th:only-of-type {\n",
       "        vertical-align: middle;\n",
       "    }\n",
       "\n",
       "    .dataframe tbody tr th {\n",
       "        vertical-align: top;\n",
       "    }\n",
       "\n",
       "    .dataframe thead th {\n",
       "        text-align: right;\n",
       "    }\n",
       "</style>\n",
       "<table border=\"1\" class=\"dataframe\">\n",
       "  <thead>\n",
       "    <tr style=\"text-align: right;\">\n",
       "      <th></th>\n",
       "      <th>filename</th>\n",
       "      <th>mark</th>\n",
       "      <th>label</th>\n",
       "      <th>off0</th>\n",
       "      <th>off1</th>\n",
       "      <th>span</th>\n",
       "    </tr>\n",
       "  </thead>\n",
       "  <tbody>\n",
       "    <tr>\n",
       "      <th>0</th>\n",
       "      <td>distemist_test_1</td>\n",
       "      <td>T1</td>\n",
       "      <td>ENFERMEDAD</td>\n",
       "      <td>81</td>\n",
       "      <td>86</td>\n",
       "      <td>ángor</td>\n",
       "    </tr>\n",
       "    <tr>\n",
       "      <th>1</th>\n",
       "      <td>distemist_test_1</td>\n",
       "      <td>T2</td>\n",
       "      <td>ENFERMEDAD</td>\n",
       "      <td>316</td>\n",
       "      <td>334</td>\n",
       "      <td>disfunción eréctil</td>\n",
       "    </tr>\n",
       "    <tr>\n",
       "      <th>2</th>\n",
       "      <td>distemist_test_1</td>\n",
       "      <td>T3</td>\n",
       "      <td>ENFERMEDAD</td>\n",
       "      <td>803</td>\n",
       "      <td>829</td>\n",
       "      <td>adenocarcinoma de próstata</td>\n",
       "    </tr>\n",
       "    <tr>\n",
       "      <th>3</th>\n",
       "      <td>distemist_test_1</td>\n",
       "      <td>T4</td>\n",
       "      <td>ENFERMEDAD</td>\n",
       "      <td>1214</td>\n",
       "      <td>1260</td>\n",
       "      <td>arterias pudendas accesorias (APA) bilaterales</td>\n",
       "    </tr>\n",
       "    <tr>\n",
       "      <th>4</th>\n",
       "      <td>distemist_test_2</td>\n",
       "      <td>T1</td>\n",
       "      <td>ENFERMEDAD</td>\n",
       "      <td>117</td>\n",
       "      <td>132</td>\n",
       "      <td>urticaria aguda</td>\n",
       "    </tr>\n",
       "    <tr>\n",
       "      <th>...</th>\n",
       "      <td>...</td>\n",
       "      <td>...</td>\n",
       "      <td>...</td>\n",
       "      <td>...</td>\n",
       "      <td>...</td>\n",
       "      <td>...</td>\n",
       "    </tr>\n",
       "    <tr>\n",
       "      <th>48739</th>\n",
       "      <td>distemist_test_3000</td>\n",
       "      <td>T6</td>\n",
       "      <td>ENFERMEDAD</td>\n",
       "      <td>2312</td>\n",
       "      <td>2351</td>\n",
       "      <td>carcinoma neuroendocrino indiferenciado</td>\n",
       "    </tr>\n",
       "    <tr>\n",
       "      <th>48740</th>\n",
       "      <td>distemist_test_3000</td>\n",
       "      <td>T7</td>\n",
       "      <td>ENFERMEDAD</td>\n",
       "      <td>2624</td>\n",
       "      <td>2658</td>\n",
       "      <td>feocromocitoma maligno no secretor</td>\n",
       "    </tr>\n",
       "    <tr>\n",
       "      <th>48741</th>\n",
       "      <td>distemist_test_3000</td>\n",
       "      <td>T8</td>\n",
       "      <td>ENFERMEDAD</td>\n",
       "      <td>2842</td>\n",
       "      <td>2913</td>\n",
       "      <td>feocromocitoma maligno no secretor con metásta...</td>\n",
       "    </tr>\n",
       "    <tr>\n",
       "      <th>48742</th>\n",
       "      <td>distemist_test_3000</td>\n",
       "      <td>T9</td>\n",
       "      <td>ENFERMEDAD</td>\n",
       "      <td>3019</td>\n",
       "      <td>3024</td>\n",
       "      <td>tumor</td>\n",
       "    </tr>\n",
       "    <tr>\n",
       "      <th>48743</th>\n",
       "      <td>distemist_test_3000</td>\n",
       "      <td>T10</td>\n",
       "      <td>ENFERMEDAD</td>\n",
       "      <td>3685</td>\n",
       "      <td>3714</td>\n",
       "      <td>tamaño tumoral en suprarrenal</td>\n",
       "    </tr>\n",
       "  </tbody>\n",
       "</table>\n",
       "<p>48744 rows × 6 columns</p>\n",
       "</div>"
      ],
      "text/plain": [
       "                  filename mark       label  off0  off1  \\\n",
       "0         distemist_test_1   T1  ENFERMEDAD    81    86   \n",
       "1         distemist_test_1   T2  ENFERMEDAD   316   334   \n",
       "2         distemist_test_1   T3  ENFERMEDAD   803   829   \n",
       "3         distemist_test_1   T4  ENFERMEDAD  1214  1260   \n",
       "4         distemist_test_2   T1  ENFERMEDAD   117   132   \n",
       "...                    ...  ...         ...   ...   ...   \n",
       "48739  distemist_test_3000   T6  ENFERMEDAD  2312  2351   \n",
       "48740  distemist_test_3000   T7  ENFERMEDAD  2624  2658   \n",
       "48741  distemist_test_3000   T8  ENFERMEDAD  2842  2913   \n",
       "48742  distemist_test_3000   T9  ENFERMEDAD  3019  3024   \n",
       "48743  distemist_test_3000  T10  ENFERMEDAD  3685  3714   \n",
       "\n",
       "                                                    span  \n",
       "0                                                  ángor  \n",
       "1                                     disfunción eréctil  \n",
       "2                             adenocarcinoma de próstata  \n",
       "3         arterias pudendas accesorias (APA) bilaterales  \n",
       "4                                        urticaria aguda  \n",
       "...                                                  ...  \n",
       "48739            carcinoma neuroendocrino indiferenciado  \n",
       "48740                 feocromocitoma maligno no secretor  \n",
       "48741  feocromocitoma maligno no secretor con metásta...  \n",
       "48742                                              tumor  \n",
       "48743                      tamaño tumoral en suprarrenal  \n",
       "\n",
       "[48744 rows x 6 columns]"
      ]
     },
     "execution_count": 13,
     "metadata": {},
     "output_type": "execute_result"
    }
   ],
   "source": [
    "out_file = Path('../submission') / 'subtrack1_entities' / '3-roberta-clinical-es-linear-lr-post-process.tsv'\n",
    "distemist_util.write_dataset_to_tsv(test_pred_3, out_file, False)"
   ]
  },
  {
   "cell_type": "code",
   "execution_count": 14,
   "metadata": {},
   "outputs": [
    {
     "name": "stdout",
     "output_type": "stream",
     "text": [
      "Loading NER model checkpoint\n"
     ]
    },
    {
     "data": {
      "application/vnd.jupyter.widget-view+json": {
       "model_id": "e165812889ef41a59e7ec9fbbd461367",
       "version_major": 2,
       "version_minor": 0
      },
      "text/plain": [
       "  0%|          | 0/1 [00:00<?, ?ba/s]"
      ]
     },
     "metadata": {},
     "output_type": "display_data"
    },
    {
     "name": "stdout",
     "output_type": "stream",
     "text": [
      "Running NER model on training data\n"
     ]
    },
    {
     "name": "stderr",
     "output_type": "stream",
     "text": [
      "/home/Florian.Borchert/.cache/pypoetry/virtualenvs/xl-bel-TMSi1vFk-py3.8/lib/python3.8/site-packages/transformers/pipelines/token_classification.py:291: UserWarning: Tokenizer does not support real words, using fallback heuristic\n",
      "  warnings.warn(\"Tokenizer does not support real words, using fallback heuristic\", UserWarning)\n",
      "/mnt/nfs/home/Florian.Borchert/workspace/distemist_bioasq_2022/notebooks/../scripts/distemist_util.py:36: VisibleDeprecationWarning: Creating an ndarray from ragged nested sequences (which is a list-or-tuple of lists-or-tuples-or ndarrays with different lengths or shapes) is deprecated. If you meant to do this, you must specify 'dtype=object' when creating the ndarray.\n",
      "  preds = np.array(pipeline([s.text for s in spacy_sents]))\n"
     ]
    },
    {
     "data": {
      "application/vnd.jupyter.widget-view+json": {
       "model_id": "4e5bf751bc1b4464b6faba1945861dfc",
       "version_major": 2,
       "version_minor": 0
      },
      "text/plain": [
       "  0%|          | 0/633 [00:00<?, ?ex/s]"
      ]
     },
     "metadata": {},
     "output_type": "display_data"
    },
    {
     "name": "stderr",
     "output_type": "stream",
     "text": [
      "/mnt/nfs/home/Florian.Borchert/workspace/distemist_bioasq_2022/notebooks/../scripts/distemist_util.py:40: VisibleDeprecationWarning: Creating an ndarray from ragged nested sequences (which is a list-or-tuple of lists-or-tuples-or ndarrays with different lengths or shapes) is deprecated. If you meant to do this, you must specify 'dtype=object' when creating the ndarray.\n",
      "  sents = np.array(spacy_sents)[np.array(idx) == i].ravel()\n",
      "Loading cached processed dataset at /home/Florian.Borchert/.cache/huggingface/datasets/dis_temist/subtrack1_entities/3.0.1/a1915148dbf2c746ae734644cb098356da71f63ed6fa586d9b24ac3cfb42df01/cache-add7b3366a304a74.arrow\n"
     ]
    },
    {
     "data": {
      "application/vnd.jupyter.widget-view+json": {
       "model_id": "84c324df08b2418fb720c65905eadeb7",
       "version_major": 2,
       "version_minor": 0
      },
      "text/plain": [
       "  0%|          | 0/1 [00:00<?, ?ba/s]"
      ]
     },
     "metadata": {},
     "output_type": "display_data"
    },
    {
     "name": "stdout",
     "output_type": "stream",
     "text": [
      "Running NER model on validation data\n"
     ]
    },
    {
     "name": "stderr",
     "output_type": "stream",
     "text": [
      "/home/Florian.Borchert/.cache/pypoetry/virtualenvs/xl-bel-TMSi1vFk-py3.8/lib/python3.8/site-packages/transformers/pipelines/token_classification.py:291: UserWarning: Tokenizer does not support real words, using fallback heuristic\n",
      "  warnings.warn(\"Tokenizer does not support real words, using fallback heuristic\", UserWarning)\n",
      "/mnt/nfs/home/Florian.Borchert/workspace/distemist_bioasq_2022/notebooks/../scripts/distemist_util.py:36: VisibleDeprecationWarning: Creating an ndarray from ragged nested sequences (which is a list-or-tuple of lists-or-tuples-or ndarrays with different lengths or shapes) is deprecated. If you meant to do this, you must specify 'dtype=object' when creating the ndarray.\n",
      "  preds = np.array(pipeline([s.text for s in spacy_sents]))\n"
     ]
    },
    {
     "data": {
      "application/vnd.jupyter.widget-view+json": {
       "model_id": "fa34f12707a441c39b0bb09902eb0be3",
       "version_major": 2,
       "version_minor": 0
      },
      "text/plain": [
       "  0%|          | 0/117 [00:00<?, ?ex/s]"
      ]
     },
     "metadata": {},
     "output_type": "display_data"
    },
    {
     "name": "stderr",
     "output_type": "stream",
     "text": [
      "/mnt/nfs/home/Florian.Borchert/workspace/distemist_bioasq_2022/notebooks/../scripts/distemist_util.py:40: VisibleDeprecationWarning: Creating an ndarray from ragged nested sequences (which is a list-or-tuple of lists-or-tuples-or ndarrays with different lengths or shapes) is deprecated. If you meant to do this, you must specify 'dtype=object' when creating the ndarray.\n",
      "  sents = np.array(spacy_sents)[np.array(idx) == i].ravel()\n",
      "Loading cached processed dataset at /home/Florian.Borchert/.cache/huggingface/datasets/dis_temist/subtrack1_entities/3.0.1/a1915148dbf2c746ae734644cb098356da71f63ed6fa586d9b24ac3cfb42df01/cache-06f2f21492335cfd.arrow\n"
     ]
    },
    {
     "name": "stdout",
     "output_type": "stream",
     "text": [
      "Cleaning up\n"
     ]
    },
    {
     "data": {
      "application/vnd.jupyter.widget-view+json": {
       "model_id": "c914cb0d9c154d94bcd1beaba47a65b1",
       "version_major": 2,
       "version_minor": 0
      },
      "text/plain": [
       "  0%|          | 0/117 [00:00<?, ?ex/s]"
      ]
     },
     "metadata": {},
     "output_type": "display_data"
    },
    {
     "name": "stderr",
     "output_type": "stream",
     "text": [
      "Loading cached processed dataset at /home/Florian.Borchert/.cache/huggingface/datasets/dis_temist/subtrack1_entities/3.0.1/a1915148dbf2c746ae734644cb098356da71f63ed6fa586d9b24ac3cfb42df01/cache-06f2f21492335cfd.arrow\n"
     ]
    },
    {
     "name": "stdout",
     "output_type": "stream",
     "text": [
      "Running NER model on test data\n"
     ]
    },
    {
     "name": "stderr",
     "output_type": "stream",
     "text": [
      "/home/Florian.Borchert/.cache/pypoetry/virtualenvs/xl-bel-TMSi1vFk-py3.8/lib/python3.8/site-packages/transformers/pipelines/token_classification.py:291: UserWarning: Tokenizer does not support real words, using fallback heuristic\n",
      "  warnings.warn(\"Tokenizer does not support real words, using fallback heuristic\", UserWarning)\n",
      "/mnt/nfs/home/Florian.Borchert/workspace/distemist_bioasq_2022/notebooks/../scripts/distemist_util.py:36: VisibleDeprecationWarning: Creating an ndarray from ragged nested sequences (which is a list-or-tuple of lists-or-tuples-or ndarrays with different lengths or shapes) is deprecated. If you meant to do this, you must specify 'dtype=object' when creating the ndarray.\n",
      "  preds = np.array(pipeline([s.text for s in spacy_sents]))\n"
     ]
    },
    {
     "data": {
      "application/vnd.jupyter.widget-view+json": {
       "model_id": "50f925cabc324167a584df6bd468970a",
       "version_major": 2,
       "version_minor": 0
      },
      "text/plain": [
       "  0%|          | 0/3000 [00:00<?, ?ex/s]"
      ]
     },
     "metadata": {},
     "output_type": "display_data"
    },
    {
     "name": "stderr",
     "output_type": "stream",
     "text": [
      "/mnt/nfs/home/Florian.Borchert/workspace/distemist_bioasq_2022/notebooks/../scripts/distemist_util.py:40: VisibleDeprecationWarning: Creating an ndarray from ragged nested sequences (which is a list-or-tuple of lists-or-tuples-or ndarrays with different lengths or shapes) is deprecated. If you meant to do this, you must specify 'dtype=object' when creating the ndarray.\n",
      "  sents = np.array(spacy_sents)[np.array(idx) == i].ravel()\n"
     ]
    },
    {
     "data": {
      "application/vnd.jupyter.widget-view+json": {
       "model_id": "b28f080fcfbf4c799e599d241de30be8",
       "version_major": 2,
       "version_minor": 0
      },
      "text/plain": [
       "  0%|          | 0/3000 [00:00<?, ?ex/s]"
      ]
     },
     "metadata": {},
     "output_type": "display_data"
    },
    {
     "name": "stdout",
     "output_type": "stream",
     "text": [
      "<re.Match object; span=(0, 34), match='enfermedad de Rendu-Osler-Weber:\\n1'>\n",
      "<re.Match object; span=(0, 22), match='Epistaxis recurrente\\n2'>\n",
      "<re.Match object; span=(0, 34), match='granulocítico ovárico\\n\\nTratamiento'>\n",
      "<re.Match object; span=(0, 43), match='neumonías extrahospitalarias de repetición\\n'>\n",
      "<re.Match object; span=(0, 46), match='lesiones cerebrales por toxoplasmosis y/o TB\\n-'>\n",
      "<re.Match object; span=(0, 9), match='verrugas\\n'>\n",
      "<re.Match object; span=(0, 21), match='víricas:\\n\\nINFECCIONES'>\n",
      "<re.Match object; span=(0, 28), match='hiperglucémica\\nPielonefritis'>\n",
      "<re.Match object; span=(0, 36), match='urticaria generalizada\\n\\nAntecedentes'>\n",
      "<re.Match object; span=(0, 31), match='dermatitis atópica\\n\\nExploración'>\n",
      "<re.Match object; span=(0, 36), match='Urticaria inducida por infecciones\\nb'>\n",
      "<re.Match object; span=(0, 57), match='Alergia a las proteínas de la leche de vaca IgE m>\n",
      "<re.Match object; span=(0, 42), match='Urticaria por picadura de insectos\\n\\nAunque'>\n",
      "<re.Match object; span=(0, 10), match='LAL-T.\\n\\nEl'>\n",
      "<re.Match object; span=(0, 30), match='infiltración masiva LAL-T.\\n\\nEl'>\n",
      "<re.Match object; span=(0, 9), match='LAL-T.\\n\\nA'>\n",
      "<re.Match object; span=(0, 21), match='hemoglobinopatía);\\n3)'>\n",
      "<re.Match object; span=(0, 22), match='Exantema intermitente\\n'>\n",
      "<re.Match object; span=(0, 32), match='Hepato-esplenomegalia moderada\\n–'>\n",
      "<re.Match object; span=(0, 6), match='ADVP\\n3'>\n",
      "<re.Match object; span=(0, 17), match='hábitos tóxicos\\n6'>\n",
      "<re.Match object; span=(0, 21), match='CI precoz\\n\\nENFERMEDAD'>\n",
      "<re.Match object; span=(0, 52), match='Neoplasias\\n• Primarias o del SNC (supratentorial>\n",
      "<re.Match object; span=(0, 12), match='Infecciones\\n'>\n",
      "<re.Match object; span=(0, 23), match='patología tumoral\"\\nTras'>\n",
      "<re.Match object; span=(0, 6), match='Obeso\\n'>\n",
      "<re.Match object; span=(0, 41), match='SINDROME DE EATON LAMBERT\\nPARANEOPLÁSICOS'>\n",
      "<re.Match object; span=(0, 54), match='linfoma testicular difuso de célula grande tipo B>\n",
      "<re.Match object; span=(0, 20), match='suicida,\\n-importante'>\n",
      "<re.Match object; span=(0, 11), match='Autarquía\\n4'>\n",
      "<re.Match object; span=(0, 29), match='Conflicto de Autovaloración\\n5'>\n",
      "<re.Match object; span=(0, 20), match='Conflicto de Culpa\\n6'>\n",
      "<re.Match object; span=(0, 28), match='Conflicto de Identidad\\n\\n\\nEje'>\n",
      "<re.Match object; span=(0, 19), match='TEP cardioembólico\\n'>\n",
      "<re.Match object; span=(0, 34), match='Neumonia de repetición\\n\\nHALLAZGOS:'>\n",
      "<re.Match object; span=(0, 63), match='adenocarcinoma de páncreas con metástasis hepátic>\n",
      "<re.Match object; span=(0, 24), match='tumor abdominal...\\n\\nPlan'>\n",
      "<re.Match object; span=(0, 11), match='Celulitis\\n\\n'>\n",
      "<re.Match object; span=(0, 40), match='enfermedad relacionada con IgG4\\n\\nPRUEBAS'>\n",
      "<re.Match object; span=(0, 42), match='Arteritis de células gigantes\\n\\nTRATAMIENTO'>\n",
      "<re.Match object; span=(0, 34), match='trombosis venosa profunda\\n\\nPruebas'>\n",
      "<re.Match object; span=(0, 28), match='ferropénica\\n-Nódulo tiroideo'>\n",
      "<re.Match object; span=(0, 27), match='mordedura de perro\\n\\nPRUEBAS'>\n",
      "<re.Match object; span=(0, 50), match='adenopatías\\nLesión costrosa en ala nasal izquier>\n",
      "<re.Match object; span=(0, 13), match='embolismos\\nNo'>\n",
      "<re.Match object; span=(0, 12), match='condritis\\nSe'>\n",
      "<re.Match object; span=(0, 22), match='desnutrición crónica\\n2'>\n",
      "<re.Match object; span=(0, 9), match='emético\\n4'>\n",
      "<re.Match object; span=(0, 19), match='Desnutrición\\nEstado'>\n",
      "<re.Match object; span=(0, 19), match='Anorexia nerviosa\\n2'>\n",
      "<re.Match object; span=(0, 18), match='Psicosis\\n\\nEXAMENES'>\n",
      "<re.Match object; span=(0, 23), match='Infartos esplénicos\\nECG'>\n",
      "<re.Match object; span=(0, 44), match='preseptal\\nInfeccion por virus : Epstein-barr'>\n",
      "<re.Match object; span=(0, 42), match='Infección por Virus Epstein-Barr\\n\\n\\nControl'>\n",
      "<re.Match object; span=(0, 43), match='Adenopatías submandibulares(2x1,5)\\nPersiste'>\n",
      "<re.Match object; span=(0, 30), match='adenopatías submandibulares:\\no'>\n",
      "<re.Match object; span=(0, 60), match='histiocitosis de células de Langerhans cutánea?\\n>\n",
      "<re.Match object; span=(0, 38), match='trombosis venosa cerebral\\n\\nDiagnóstico'>\n",
      "<re.Match object; span=(0, 29), match='asma extrínseca\\n\\nAntecedentes'>\n",
      "<re.Match object; span=(0, 35), match='Derrame pericárdico\\nElectromiograma'>\n",
      "<re.Match object; span=(0, 66), match='Miopatía difusa moderada musculatura proximal de >\n",
      "<re.Match object; span=(0, 61), match='Vasculitis leucocitoclástica de vaso mediano prof>\n",
      "<re.Match object; span=(0, 64), match='arteritis necrotizante de vaso de pequeño y media>\n",
      "<re.Match object; span=(0, 43), match='infección por Leishmania braziliensis\\n\\nPara'>\n",
      "<re.Match object; span=(0, 18), match='deshidratación\\nSus'>\n",
      "<re.Match object; span=(0, 30), match='Angiosarcoma aurícula derecha\\n'>\n",
      "<re.Match object; span=(0, 49), match='síndrome del QT largo secundaria a moxifloxacino\\>\n",
      "<re.Match object; span=(0, 22), match='hipertensión arterial\\n'>\n",
      "<re.Match object; span=(0, 9), match='diabetes\\n'>\n",
      "<re.Match object; span=(0, 20), match='Hipercolesterolemia\\n'>\n",
      "<re.Match object; span=(0, 15), match='Hipotiroidismo\\n'>\n",
      "<re.Match object; span=(0, 29), match='Insuficiencia venosa crónica\\n'>\n",
      "<re.Match object; span=(0, 32), match='Escoliosis dorso-lumbar severa\\n•'>\n",
      "<re.Match object; span=(0, 14), match='Shock séptico\\n'>\n",
      "<re.Match object; span=(0, 48), match='Perforación de velo posterior de válvula mitral\\n>\n",
      "<re.Match object; span=(0, 84), match='Insuficiencia renal de etiología mixta (nefrotóxi>\n",
      "<re.Match object; span=(0, 34), match='Insuficiencia cardiaca congestiva\\n'>\n",
      "<re.Match object; span=(0, 29), match='ENDOCARDITIS BACTERIANA\\n\\nPLAN'>\n",
      "<re.Match object; span=(0, 44), match='Trombosis de la fístula sistémico pulmonar\\n2'>\n",
      "<re.Match object; span=(0, 30), match='Espondilosis dorsal\\nTomografía'>\n",
      "<re.Match object; span=(0, 22), match='lesiones pulmonares\\nEl'>\n",
      "<re.Match object; span=(0, 10), match='bebedor\\nNo'>\n",
      "<re.Match object; span=(0, 5), match='DL\\nNo'>\n",
      "<re.Match object; span=(0, 31), match='depresión reactiva\\nTratamientos'>\n",
      "<re.Match object; span=(0, 29), match='visceromegalias,\\nExtremidades'>\n",
      "<re.Match object; span=(0, 28), match='Esquistosomiasis intestinal\\n'>\n",
      "<re.Match object; span=(0, 24), match='Lesión cutánea perianal\\n'>\n",
      "<re.Match object; span=(0, 27), match='perianal estreptocócica\\n\\nEl'>\n",
      "<re.Match object; span=(0, 11), match='dermatitis\\n'>\n",
      "<re.Match object; span=(0, 46), match='distales en ambos miembros inferiores\\n\\nEnfoque'>\n",
      "<re.Match object; span=(0, 48), match='calcificación distrófica secundaria\\n\\nTratamient>\n",
      "<re.Match object; span=(0, 31), match='dermatitis atópica\\n\\nEXPLORACIÓN'>\n",
      "<re.Match object; span=(0, 18), match='palpebral\\n\\nEnfoque'>\n",
      "<re.Match object; span=(0, 10), match='Urticaria\\n'>\n",
      "<re.Match object; span=(0, 29), match='Necrólisis epidérmica tóxica\\n'>\n",
      "<re.Match object; span=(0, 22), match='Sd de Stevens Johnson\\n'>\n",
      "<re.Match object; span=(0, 30), match='Eritema pigmentario fijo\\n\\nPlan'>\n",
      "<re.Match object; span=(0, 39), match='hipercalciuria familiar\\n\\nIdentificación'>\n",
      "<re.Match object; span=(0, 84), match='de aorta en AO torácica descendente\\nAneurisma in>\n",
      "<re.Match object; span=(0, 26), match='Hepatitis C\\nAntecedentesde'>\n",
      "<re.Match object; span=(0, 13), match='oncológica\\nSe'>\n",
      "<re.Match object; span=(0, 21), match='hipovitaminosis D.\\nNo'>\n",
      "<re.Match object; span=(0, 15), match='AVE-HUEVO\\n\\nPara'>\n",
      "<re.Match object; span=(0, 21), match='alergias\\nANTECEDENTES'>\n",
      "<re.Match object; span=(0, 45), match='infección del tracto urinario...\\nTratamiento:'>\n",
      "<re.Match object; span=(0, 33), match='hipertensión secundaria\\nAparición'>\n",
      "<re.Match object; span=(0, 24), match='inoculación\\n\\nDIAGNOSTICO'>\n",
      "<re.Match object; span=(0, 41), match='INFECCIÓN AGUDA POR T. CRUZI\\n\\nTRATAMIENTO'>\n",
      "<re.Match object; span=(0, 87), match='enfermedad arterial coronaria de 2 vasos:\\nDescen>\n",
      "<re.Match object; span=(0, 27), match='estreñimiento\\n\\nANTECEDENTES'>\n",
      "<re.Match object; span=(0, 15), match='asma bronquial\\n'>\n",
      "<re.Match object; span=(0, 62), match='Hipotrofia de los músculos peroneos e intrínsecos>\n",
      "<re.Match object; span=(0, 46), match='Estenosis aórtica severa en válvula bicúspide\\n'>\n",
      "<re.Match object; span=(0, 19), match='Orofaringea:\\nCausas'>\n",
      "<re.Match object; span=(0, 17), match='Esofágica:\\nCausas'>\n",
      "<re.Match object; span=(0, 27), match='hábitos tóxicos\\n-RGE severo'>\n",
      "<re.Match object; span=(0, 45), match='fibrosis intersticial en bases pulmonares\\nTAC'>\n",
      "<re.Match object; span=(0, 43), match='infección (urinaria, respiratoria...)\\n\\nPlan'>\n",
      "<re.Match object; span=(0, 14), match='OMA bilateral\\n'>\n",
      "<re.Match object; span=(0, 16), match='miopatías...\\n\\nSe'>\n",
      "<re.Match object; span=(0, 60), match='Rasgos obsesivo-compulsivos de la personalidad\\n\\>\n",
      "<re.Match object; span=(0, 57), match='Úlcera necrótica en porción posterior de paladar >\n",
      "<re.Match object; span=(0, 25), match='alergia a pirazolonas\\nAIT'>\n",
      "<re.Match object; span=(0, 182), match='infarto precoz en territorio periférico y ramas l>\n",
      "<re.Match object; span=(0, 47), match='estenosis intrastent de la subclavia izquierda\\n'>\n",
      "<re.Match object; span=(0, 13), match='depresivo\\n-No'>\n",
      "<re.Match object; span=(0, 27), match='lesiones cutáneas\\n\\nEXÁMENES'>\n",
      "<re.Match object; span=(0, 60), match='lesiones de aspecto inflamatorio en ambos campos >\n",
      "<re.Match object; span=(0, 56), match='daño mielínico en fibras nerviosas sensitivas y m>\n",
      "<re.Match object; span=(0, 54), match='lesiones inflamatorias en ambas bases de los pulm>\n",
      "<re.Match object; span=(0, 20), match='dermatopolimiositis\\n'>\n",
      "<re.Match object; span=(0, 19), match='pulmonar)\\n\\nExámenes'>\n",
      "<re.Match object; span=(0, 30), match='Foco endovascular persistente\\n'>\n",
      "<re.Match object; span=(0, 53), match='Reinfección recurrente en paciente portadora de S>\n",
      "<re.Match object; span=(0, 28), match='insuficiencia renal...\\n\\nPlan'>\n",
      "<re.Match object; span=(0, 37), match='adenopatías inguinales\\n\\nExploraciones'>\n",
      "<re.Match object; span=(0, 4), match='HTA\\n'>\n",
      "<re.Match object; span=(0, 11), match='Dislipemia\\n'>\n",
      "<re.Match object; span=(0, 15), match='Hipotiroidismo\\n'>\n",
      "<re.Match object; span=(0, 10), match='Depresión\\n'>\n",
      "<re.Match object; span=(0, 24), match='escleredema\\n\\nDiagnóstico'>\n",
      "<re.Match object; span=(0, 28), match='cáncer de pene...\\n\\nEvolución'>\n",
      "<re.Match object; span=(0, 34), match='anemia macrocítica\\nSangrado activo'>\n",
      "<re.Match object; span=(0, 51), match='Macrocefalia cutis marmorata telangiectásica\\n(OM>\n",
      "<re.Match object; span=(0, 16), match='Neumonía LII\\nTto'>\n",
      "<re.Match object; span=(0, 19), match='lesión lítica\\nL4-L5'>\n",
      "<re.Match object; span=(0, 19), match='APLV-IgE.\\nIniciamos'>\n",
      "<re.Match object; span=(0, 10), match='cáncer\\n\\nNo'>\n",
      "<re.Match object; span=(0, 56), match='adenopatías en área epitrocleares, ni en área axi>\n",
      "<re.Match object; span=(0, 30), match='derrame pericárdico\\nResonancia'>\n",
      "<re.Match object; span=(0, 24), match='abuso sustancias:\\nInicio'>\n",
      "<re.Match object; span=(0, 25), match='Síndrome de Cushing:\\nPara'>\n",
      "<re.Match object; span=(0, 15), match='con cavitación\\n'>\n",
      "<re.Match object; span=(0, 38), match='Absceso pulmonar de origen bacteriano\\n'>\n",
      "<re.Match object; span=(0, 21), match='Infección por hongos\\n'>\n",
      "<re.Match object; span=(0, 16), match='cavitación\\n\\nTras'>\n",
      "<re.Match object; span=(0, 33), match='comunicación interventricular\\nSin'>\n",
      "<re.Match object; span=(0, 44), match='triatriatum\\nDefecto parcial atrioventricular'>\n",
      "<re.Match object; span=(0, 16), match='lesión ósea\\n\\nRMI'>\n",
      "<re.Match object; span=(0, 108), match='Lesiones petequiales en glúteos y miembros inferi>\n",
      "<re.Match object; span=(0, 22), match='hipoplasia pulmonar\\n\\nA'>\n",
      "<re.Match object; span=(0, 28), match='GASTRODUODENAL\\nMICOBACTERIAS'>\n",
      "<re.Match object; span=(0, 10), match='y espalda\\n'>\n",
      "<re.Match object; span=(0, 13), match='Hipohidrosis\\n'>\n",
      "<re.Match object; span=(0, 20), match='de Proteína S):\\n2011'>\n",
      "<re.Match object; span=(0, 52), match='Trombosis de vena cava inferior y arteria renal\\n>\n",
      "<re.Match object; span=(0, 16), match='ERGE\\n\\nHALLAZGOS:'>\n",
      "<re.Match object; span=(0, 46), match='Cistinuria heterocigoto no tipo A.\\n\\nSeaconseja'>\n",
      "<re.Match object; span=(0, 24), match='síndrome de Cushing\\n\\nLos'>\n",
      "<re.Match object; span=(0, 36), match='cardiopatía isquémica crónica:\\n2004:'>\n",
      "<re.Match object; span=(0, 36), match='enfermedad coronaria de 2 vasos:\\nCD:'>\n",
      "<re.Match object; span=(0, 37), match='con metástasis hepáticas\\n\\nTratamiento'>\n",
      "<re.Match object; span=(0, 19), match='dislipemia.\\nHábitos'>\n",
      "<re.Match object; span=(0, 29), match='Adneoma hepatoceluular\\n\\n\\nPlan'>\n",
      "<re.Match object; span=(0, 23), match='peritonitis\\nHepatitis B'>\n",
      "<re.Match object; span=(0, 40), match='Trastorno del desarrollo\\n\\nSOCIOLABORALES'>\n",
      "<re.Match object; span=(0, 29), match='Enfermedades Mentales,\\nCentro'>\n",
      "<re.Match object; span=(0, 22), match='congestión cardíaca\\nRx'>\n",
      "<re.Match object; span=(0, 81), match='granuloma por proceso inflamatorio crónico con de>\n",
      "<re.Match object; span=(0, 59), match='de paratiroides de localización mediastínica\\nLes>\n",
      "<re.Match object; span=(0, 12), match='TVP\\n\\nPruebas'>\n",
      "<re.Match object; span=(0, 23), match='Retraso Mental Leve\\nEje'>\n",
      "<re.Match object; span=(0, 34), match='Síndrome de ojo seco\\n\\nAntecedentes'>\n",
      "<re.Match object; span=(0, 114), match='discopatía degenerativa multinivel con protusione>\n",
      "<re.Match object; span=(0, 25), match='Hemorragia subaracnoidea\\n'>\n",
      "<re.Match object; span=(0, 38), match='Iatrogenia por ciprofloxacino\\n\\nEstudio'>\n",
      "<re.Match object; span=(0, 40), match='Disfunción ventricular sistólica severa\\n'>\n",
      "<re.Match object; span=(0, 14), match='situs sólitus\\n'>\n",
      "<re.Match object; span=(0, 29), match='anomalías del drenaje venoso\\n'>\n",
      "<re.Match object; span=(0, 21), match='Trastornos afectivos\\n'>\n",
      "<re.Match object; span=(0, 14), match='Esquizofrenia\\n'>\n",
      "<re.Match object; span=(0, 19), match='Neurosis histérica\\n'>\n",
      "<re.Match object; span=(0, 16), match='Neurosis fóbica\\n'>\n",
      "<re.Match object; span=(0, 30), match='Neurosis obsesiva\\n\\nORIENTACIÓN'>\n",
      "<re.Match object; span=(0, 26), match='Trastorno depresivo mayor\\n'>\n",
      "<re.Match object; span=(0, 18), match='parada cardiaca:\\n1'>\n",
      "<re.Match object; span=(0, 39), match='Fibrilación ventricular idiopática:\\nRed'>\n",
      "<re.Match object; span=(0, 20), match='macrocefalia\\n\\nEXAMEN'>\n",
      "<re.Match object; span=(0, 5), match='C.\\nEn'>\n",
      "<re.Match object; span=(0, 18), match='lesiones cutáneas\\n'>\n",
      "<re.Match object; span=(0, 31), match='infección por parvovirus B 19\\n\\n'>\n",
      "<re.Match object; span=(0, 16), match='infección fetal\\n'>\n",
      "<re.Match object; span=(0, 33), match='celulitis secundaria a picadura\\n\\n'>\n",
      "<re.Match object; span=(0, 12), match='Infecciones\\n'>\n",
      "<re.Match object; span=(0, 24), match='Meningitis bacterianas\\n1'>\n",
      "<re.Match object; span=(0, 12), match='zoonosis:\\n1-'>\n",
      "<re.Match object; span=(0, 52), match='disfunción sistólica severa de ventrículo izquier>\n",
      "<re.Match object; span=(0, 21), match='isquémica crónica:\\nEn'>\n",
      "<re.Match object; span=(0, 23), match='linfangitis infecciosa\\n'>\n",
      "<re.Match object; span=(0, 16), match='de Chagas\\nEstado'>\n",
      "<re.Match object; span=(0, 14), match='síncopes:\\n1999'>\n",
      "<re.Match object; span=(0, 22), match='Vasoespasmo coronario\\n'>\n",
      "<re.Match object; span=(0, 12), match='alergia:\\n-Es'>\n",
      "<re.Match object; span=(0, 26), match='fibrosis quística\\n\\nNuestro'>\n",
      "<re.Match object; span=(0, 55), match='bronquiectasias en ambas bases pulmonares\\n\\nTrat>\n",
      "<re.Match object; span=(0, 78), match='codo izquierdo pápulo-vesículas agrupadas sobre u>\n",
      "<re.Match object; span=(0, 18), match='SEE de bajo grado\\n'>\n",
      "<re.Match object; span=(0, 8), match='distres\\n'>\n",
      "<re.Match object; span=(0, 17), match='Neumonía\\n\\nMejoría'>\n",
      "<re.Match object; span=(0, 9), match='Neumonía\\n'>\n",
      "<re.Match object; span=(0, 8), match='distres\\n'>\n",
      "<re.Match object; span=(0, 21), match='vitíligo\\n\\nExploración'>\n",
      "<re.Match object; span=(0, 35), match='FACIALES:\\nFisura palpebral elongada'>\n",
      "<re.Match object; span=(0, 77), match='nasal ancha, con punta deprimida\\nPabellones auri>\n",
      "<re.Match object; span=(0, 31), match='mental leve o moderado\\n\\nRETRASO'>\n",
      "<re.Match object; span=(0, 73), match='ESQUELETICAS:\\nAnomalías vertebrales: hemivértebr>\n",
      "<re.Match object; span=(0, 27), match='del quinto dedo\\nOcasionales'>\n",
      "<re.Match object; span=(0, 91), match='DERMATOGLIFICAS:\\nAlmohadillas fetales en el pulp>\n",
      "<re.Match object; span=(0, 36), match='congénita\\nAnomalías renourogenitales'>\n",
      "<re.Match object; span=(0, 33), match='rinitis y conjuntivitis alérgica\\n'>\n",
      "<re.Match object; span=(0, 16), match='Dengue\\n\\nConsulta'>\n",
      "<re.Match object; span=(0, 35), match='picadas por artrópodos\\n\\nExploración'>\n",
      "<re.Match object; span=(0, 23), match='adenopatías cervicales\\n'>\n",
      "<re.Match object; span=(0, 7), match='anemia\\n'>\n",
      "<re.Match object; span=(0, 31), match='infección urinaria\\n\\nDIAGNÓSTICO'>\n",
      "<re.Match object; span=(0, 92), match='viral de vías respiratorias superiores por gripe >\n",
      "<re.Match object; span=(0, 58), match='síndrome hiperesosinofílico\\nHipertensión arteria>\n",
      "<re.Match object; span=(0, 16), match='fiebre Q.\\n\\nOtras'>\n",
      "<re.Match object; span=(0, 16), match='IgA\\n\\nTratamiento'>\n",
      "<re.Match object; span=(0, 16), match='hábitos tóxicos\\n'>\n",
      "<re.Match object; span=(0, 11), match='dislipemia\\n'>\n",
      "<re.Match object; span=(0, 15), match='Hipotiroidismo\\n'>\n",
      "<re.Match object; span=(0, 28), match='Fibrilación auricular lenta\\n'>\n",
      "<re.Match object; span=(0, 30), match='adicción a sustancias,...\\nTras'>\n",
      "<re.Match object; span=(0, 55), match='patología neurológica residual Guillain Barré,...>\n",
      "<re.Match object; span=(0, 24), match='Múltiple IgG-kappa\\n\\nPlan'>\n",
      "<re.Match object; span=(0, 12), match='de tóxicos\\nA'>\n",
      "<re.Match object; span=(0, 63), match='reactivo de la vinculación\\nTrastorno somatomorfo>\n",
      "<re.Match object; span=(0, 21), match='especificado\\nFactores'>\n",
      "<re.Match object; span=(0, 21), match='Fenómeno de Raynaud\\n3'>\n",
      "<re.Match object; span=(0, 17), match='esclerodactilia\\n4'>\n",
      "<re.Match object; span=(0, 23), match='Hipertensión arterial\\n5'>\n",
      "<re.Match object; span=(0, 19), match='ánimo depresivo\\nNos'>\n",
      "<re.Match object; span=(0, 36), match='Miopatía inflamatoria idiopática\\n\\nLa'>\n",
      "<re.Match object; span=(0, 17), match='Coletiasis:\\nDolor'>\n",
      "<re.Match object; span=(0, 22), match='Pancreatitis Aguda:\\n2-'>\n",
      "<re.Match object; span=(0, 12), match='Coletiasis\\n3'>\n",
      "<re.Match object; span=(0, 39), match='Pancreatitis Aguda:\\n• Intra abdominales'>\n",
      "<re.Match object; span=(0, 11), match='Colangitis\\n'>\n",
      "<re.Match object; span=(0, 32), match='Isquemia / Infarto mesentérico\\n–'>\n",
      "<re.Match object; span=(0, 23), match='Obstrucción Intestinal\\n'>\n",
      "<re.Match object; span=(0, 33), match='Perforación de una víscera hueca\\n'>\n",
      "<re.Match object; span=(0, 12), match='Apendicitis\\n'>\n",
      "<re.Match object; span=(0, 15), match='Diverticulitis\\n'>\n",
      "<re.Match object; span=(0, 25), match='Rotura de quiste ovárico\\n'>\n",
      "<re.Match object; span=(0, 18), match='Extra abdominales\\n'>\n",
      "<re.Match object; span=(0, 4), match='IAM\\n'>\n",
      "<re.Match object; span=(0, 21), match='Neumonía con derrame\\n'>\n",
      "<re.Match object; span=(0, 11), match='Saturnismo\\n'>\n",
      "<re.Match object; span=(0, 31), match='Púrpura de Henoch-Schonlein\\n\\n2-'>\n",
      "<re.Match object; span=(0, 23), match='Coletitiasis:\\nPATOLOGÍA'>\n",
      "<re.Match object; span=(0, 40), match='benigno de vía biliar\\nQuiste de colédoco'>\n",
      "<re.Match object; span=(0, 39), match='aguda\\nÚlcera péptica aguda o complicada'>\n",
      "<re.Match object; span=(0, 26), match='hepato/esplenomegalia\\nORL:'>\n",
      "<re.Match object; span=(0, 21), match='urticaria\\nTratamiento'>\n",
      "<re.Match object; span=(0, 24), match='Escarlatina\\n\\nTratamiento'>\n",
      "<re.Match object; span=(0, 27), match='MONONUCLEOSIS INFECCIOSA\\nSe'>\n",
      "<re.Match object; span=(0, 108), match='Síndrome hiperesosinofílico primario con afectaci>\n",
      "<re.Match object; span=(0, 29), match='Insuficiencia aórtica severa\\n'>\n",
      "<re.Match object; span=(0, 46), match='perforación de la valva anterior de la mitral\\n'>\n",
      "<re.Match object; span=(0, 20), match='Absceso periaórtico\\n'>\n",
      "<re.Match object; span=(0, 59), match='Bloqueo aurículo ventricular completo secundario >\n",
      "<re.Match object; span=(0, 11), match='disfonía\\nSe'>\n",
      "<re.Match object; span=(0, 17), match='Angina inestable\\n'>\n",
      "<re.Match object; span=(0, 37), match='Taquicardia ventricular no sostenida\\n'>\n",
      "<re.Match object; span=(0, 22), match='hipertensión arterial\\n'>\n",
      "<re.Match object; span=(0, 40), match='asma bronquial\\n\\nEnfermedades congénitas:'>\n",
      "<re.Match object; span=(0, 22), match='hipertensión arterial\\n'>\n",
      "<re.Match object; span=(0, 15), match='asma bronquial\\n'>\n",
      "<re.Match object; span=(0, 25), match='nefropatías\\n\\nEnfermedades'>\n",
      "<re.Match object; span=(0, 25), match='trastornos psiquiátricos\\n'>\n",
      "<re.Match object; span=(0, 9), match='jaquecas\\n'>\n",
      "<re.Match object; span=(0, 15), match='retraso mental\\n'>\n",
      "<re.Match object; span=(0, 11), match='paraplejía\\n'>\n",
      "<re.Match object; span=(0, 26), match='malformaciones congénitas\\n'>\n",
      "<re.Match object; span=(0, 22), match='úlcera gsatroduodenal\\n'>\n",
      "<re.Match object; span=(0, 18), match='cirrosis hepática\\n'>\n",
      "<re.Match object; span=(0, 18), match='apendicitis aguda\\n'>\n",
      "<re.Match object; span=(0, 9), match='alergia\\n\\n'>\n",
      "<re.Match object; span=(0, 38), match='por Salmonella enteriditis\\n\\nPRONÓSTICO'>\n",
      "<re.Match object; span=(0, 26), match='Disección de aorta tipo A\\n'>\n",
      "<re.Match object; span=(0, 35), match='Tromboembolismo pulmonar bilateral\\n'>\n",
      "<re.Match object; span=(0, 32), match='Disfunción biventricular severa\\n'>\n",
      "<re.Match object; span=(0, 29), match='Diabetes Tipo 1b\\n\\nTratamiento'>\n",
      "<re.Match object; span=(0, 28), match='daño urológico...\\n\\nEvolución'>\n",
      "<re.Match object; span=(0, 43), match='linfoma no hodgkin de células grandes B.\\nEl'>\n",
      "<re.Match object; span=(0, 39), match='nefropatía mesangial IgA.\\n\\nDiagnostico:'>\n",
      "<re.Match object; span=(0, 59), match='Nefropatia intersticial por intolearncia a AINES\\>\n",
      "<re.Match object; span=(0, 52), match='Endocarditis aguda mitral por Staphylococcus aure>\n",
      "<re.Match object; span=(0, 20), match='metástasis\\nAnalítica'>\n",
      "<re.Match object; span=(0, 18), match='Fumadora habitual\\n'>\n",
      "<re.Match object; span=(0, 28), match='Neumonía eosinoflica\\n\\nCuadro'>\n",
      "<re.Match object; span=(0, 28), match='Coccidioidomicosis pulmonar\\n'>\n",
      "<re.Match object; span=(0, 25), match='Alergia a polen y ácaros\\n'>\n",
      "<re.Match object; span=(0, 8), match='Fumador\\n'>\n",
      "<re.Match object; span=(0, 18), match='Miocarditis aguda\\n'>\n",
      "<re.Match object; span=(0, 20), match='Neoplasia vesical\\nEl'>\n",
      "<re.Match object; span=(0, 32), match='disfunción renal y respiratoria\\n'>\n",
      "<re.Match object; span=(0, 58), match='Alergia a proteínas leche de vaca, frutos secos, >\n",
      "<re.Match object; span=(0, 68), match='lupus eritematoso sistémico:\\nEndocarditis de Lib>\n",
      "<re.Match object; span=(0, 29), match='diabetes tipo 1A.\\nActualmente'>\n",
      "<re.Match object; span=(0, 35), match='infección crónica por fiebre Q.\\n\\nSe'>\n",
      "<re.Match object; span=(0, 30), match='con nefropatía lúpica tipo II\\n'>\n",
      "<re.Match object; span=(0, 31), match='Enfermedad celíaca\\n\\nFinalizamos'>\n",
      "<re.Match object; span=(0, 25), match='suboclusivo?\\n\\nDiagnóstico'>\n",
      "<re.Match object; span=(0, 12), match='granulomas\\n3'>\n",
      "<re.Match object; span=(0, 41), match='embolismos pulmonares sépticos\\n\\nEvolución'>\n",
      "<re.Match object; span=(0, 23), match='heridas bordes glúteos\\n'>\n",
      "<re.Match object; span=(0, 35), match='dermatitis perianal estreptocócica\\n'>\n",
      "<re.Match object; span=(0, 35), match='dermatitis perianal estreptocócica\\n'>\n",
      "<re.Match object; span=(0, 47), match='Estenosis aórtica severa con válvula bicúspide\\n'>\n",
      "<re.Match object; span=(0, 20), match='rotatoria C1- C2\\n\\nLa'>\n",
      "<re.Match object; span=(0, 40), match='origen primario colorrectal\\n\\nTratamiento'>\n",
      "<re.Match object; span=(0, 42), match='linfoma difuso de células grandes B.\\n\\nTras'>\n",
      "<re.Match object; span=(0, 63), match='Antebrazo derecho, cara posterior, con pápulas er>\n",
      "<re.Match object; span=(0, 33), match='Inmunodeficiencia común variable\\n'>\n",
      "<re.Match object; span=(0, 41), match='Agammaglobulinemia ligada al cromosoma X\\n'>\n",
      "<re.Match object; span=(0, 23), match='Síndrome de hiper-IgM\\n•'>\n",
      "<re.Match object; span=(0, 37), match='Deficiencia selectiva de anticuerpos\\n'>\n",
      "<re.Match object; span=(0, 9), match='Asplenia\\n'>\n",
      "<re.Match object; span=(0, 28), match='Déficit de subclases de IgG\\n'>\n",
      "<re.Match object; span=(0, 46), match='Déficit de factores del complemento\\n\\nEvolución'>\n",
      "<re.Match object; span=(0, 13), match='MONOARTRITIS\\n'>\n",
      "<re.Match object; span=(0, 13), match='TUBERCULOSA\\n\\n'>\n",
      "<re.Match object; span=(0, 22), match='Miopericarditis aguda\\n'>\n",
      "<re.Match object; span=(0, 100), match='trombosis incompleta del seno longitudinal superi>\n",
      "<re.Match object; span=(0, 24), match='lesiones costrosas..\\n\\nSe'>\n",
      "<re.Match object; span=(0, 42), match='Trastorno esquizoafectivo tipo bipolar\\nEje'>\n",
      "<re.Match object; span=(0, 14), match='Esquizofrenia\\n'>\n",
      "<re.Match object; span=(0, 30), match='Trastorno del estado de ánimo\\n'>\n",
      "<re.Match object; span=(0, 25), match='bradicardia\\n\\nANTECEDENTES'>\n",
      "<re.Match object; span=(0, 18), match='artrosis\\nHemograma'>\n",
      "<re.Match object; span=(0, 12), match='alcoholismo\\n'>\n",
      "<re.Match object; span=(0, 20), match='Déficit de cortisol\\n'>\n",
      "<re.Match object; span=(0, 26), match='Hiperinsulinismo endógeno\\n'>\n",
      "<re.Match object; span=(0, 26), match='hepatitis C.\\nHospitalizado'>\n",
      "<re.Match object; span=(0, 31), match='enfermedad Charcot-Marie-Toot\\n•'>\n",
      "<re.Match object; span=(0, 10), match='picaduras\\n'>\n",
      "<re.Match object; span=(0, 12), match='adenopatías\\n'>\n",
      "<re.Match object; span=(0, 21), match='hepatoesplenomegalia\\n'>\n",
      "<re.Match object; span=(0, 21), match='Adenopatía\\n\\nEtiología'>\n",
      "<re.Match object; span=(0, 7), match='dengue\\n'>\n",
      "<re.Match object; span=(0, 28), match='Lyme Neoplasia\\n Inmunológica'>\n",
      "<re.Match object; span=(0, 24), match='hipotiroidismo\\nEndocrina'>\n",
      "<re.Match object; span=(0, 21), match='adenopatía cervical\\n\\n'>\n",
      "<re.Match object; span=(0, 20), match='Adenopatía subaguda\\n'>\n",
      "<re.Match object; span=(0, 29), match='Mycobacteria no tuberculosa\\n\\n'>\n",
      "<re.Match object; span=(0, 20), match='migraña\\n\\nEXPLORACIÓN'>\n",
      "<re.Match object; span=(0, 18), match='quistes renales\\nSe'>\n",
      "<re.Match object; span=(0, 65), match='tumor neuroendocrino pancreático no secretor, bie>\n",
      "<re.Match object; span=(0, 22), match='hemangiomas hepáticos\\n'>\n"
     ]
    },
    {
     "data": {
      "text/plain": [
       "{'train_strict': {'precision': 0.9695475638051044,\n",
       "  'recall': 0.9404979603319735,\n",
       "  'fscore': 0.9548018564798286},\n",
       " 'train_loose': {'precision': 0.9970064081192465,\n",
       "  'recall': 0.9848118410392517,\n",
       "  'fscore': 0.9908716066417864},\n",
       " 'valid_strict': {'precision': 0.7455497382198953,\n",
       "  'recall': 0.7447698744769874,\n",
       "  'fscore': 0.7451596023024595},\n",
       " 'valid_loose': {'precision': 0.8673886504603883,\n",
       "  'recall': 0.8648043401658576,\n",
       "  'fscore': 0.866094567508388},\n",
       " 'valid_clean_strict': {'precision': 0.7578616352201258,\n",
       "  'recall': 0.7562761506276151,\n",
       "  'fscore': 0.7570680628272252},\n",
       " 'valid_clean_loose': {'precision': 0.8695434935021332,\n",
       "  'recall': 0.8648043401658576,\n",
       "  'fscore': 0.867167441900332}}"
      ]
     },
     "execution_count": 14,
     "metadata": {},
     "output_type": "execute_result"
    }
   ],
   "source": [
    "m, test_pred_4 = run_ner_pipeline('../models/model_2/best_cp', post_process=True)\n",
    "m"
   ]
  },
  {
   "cell_type": "code",
   "execution_count": 15,
   "metadata": {},
   "outputs": [
    {
     "data": {
      "text/html": [
       "<div>\n",
       "<style scoped>\n",
       "    .dataframe tbody tr th:only-of-type {\n",
       "        vertical-align: middle;\n",
       "    }\n",
       "\n",
       "    .dataframe tbody tr th {\n",
       "        vertical-align: top;\n",
       "    }\n",
       "\n",
       "    .dataframe thead th {\n",
       "        text-align: right;\n",
       "    }\n",
       "</style>\n",
       "<table border=\"1\" class=\"dataframe\">\n",
       "  <thead>\n",
       "    <tr style=\"text-align: right;\">\n",
       "      <th></th>\n",
       "      <th>filename</th>\n",
       "      <th>mark</th>\n",
       "      <th>label</th>\n",
       "      <th>off0</th>\n",
       "      <th>off1</th>\n",
       "      <th>span</th>\n",
       "    </tr>\n",
       "  </thead>\n",
       "  <tbody>\n",
       "    <tr>\n",
       "      <th>0</th>\n",
       "      <td>distemist_test_1</td>\n",
       "      <td>T1</td>\n",
       "      <td>ENFERMEDAD</td>\n",
       "      <td>81</td>\n",
       "      <td>94</td>\n",
       "      <td>ángor estable</td>\n",
       "    </tr>\n",
       "    <tr>\n",
       "      <th>1</th>\n",
       "      <td>distemist_test_1</td>\n",
       "      <td>T2</td>\n",
       "      <td>ENFERMEDAD</td>\n",
       "      <td>316</td>\n",
       "      <td>334</td>\n",
       "      <td>disfunción eréctil</td>\n",
       "    </tr>\n",
       "    <tr>\n",
       "      <th>2</th>\n",
       "      <td>distemist_test_1</td>\n",
       "      <td>T3</td>\n",
       "      <td>ENFERMEDAD</td>\n",
       "      <td>803</td>\n",
       "      <td>829</td>\n",
       "      <td>adenocarcinoma de próstata</td>\n",
       "    </tr>\n",
       "    <tr>\n",
       "      <th>3</th>\n",
       "      <td>distemist_test_1</td>\n",
       "      <td>T4</td>\n",
       "      <td>ENFERMEDAD</td>\n",
       "      <td>1214</td>\n",
       "      <td>1260</td>\n",
       "      <td>arterias pudendas accesorias (APA) bilaterales</td>\n",
       "    </tr>\n",
       "    <tr>\n",
       "      <th>4</th>\n",
       "      <td>distemist_test_2</td>\n",
       "      <td>T1</td>\n",
       "      <td>ENFERMEDAD</td>\n",
       "      <td>117</td>\n",
       "      <td>132</td>\n",
       "      <td>urticaria aguda</td>\n",
       "    </tr>\n",
       "    <tr>\n",
       "      <th>...</th>\n",
       "      <td>...</td>\n",
       "      <td>...</td>\n",
       "      <td>...</td>\n",
       "      <td>...</td>\n",
       "      <td>...</td>\n",
       "      <td>...</td>\n",
       "    </tr>\n",
       "    <tr>\n",
       "      <th>48440</th>\n",
       "      <td>distemist_test_3000</td>\n",
       "      <td>T5</td>\n",
       "      <td>ENFERMEDAD</td>\n",
       "      <td>2312</td>\n",
       "      <td>2351</td>\n",
       "      <td>carcinoma neuroendocrino indiferenciado</td>\n",
       "    </tr>\n",
       "    <tr>\n",
       "      <th>48441</th>\n",
       "      <td>distemist_test_3000</td>\n",
       "      <td>T6</td>\n",
       "      <td>ENFERMEDAD</td>\n",
       "      <td>2624</td>\n",
       "      <td>2658</td>\n",
       "      <td>feocromocitoma maligno no secretor</td>\n",
       "    </tr>\n",
       "    <tr>\n",
       "      <th>48442</th>\n",
       "      <td>distemist_test_3000</td>\n",
       "      <td>T7</td>\n",
       "      <td>ENFERMEDAD</td>\n",
       "      <td>2842</td>\n",
       "      <td>2913</td>\n",
       "      <td>feocromocitoma maligno no secretor con metásta...</td>\n",
       "    </tr>\n",
       "    <tr>\n",
       "      <th>48443</th>\n",
       "      <td>distemist_test_3000</td>\n",
       "      <td>T8</td>\n",
       "      <td>ENFERMEDAD</td>\n",
       "      <td>3019</td>\n",
       "      <td>3024</td>\n",
       "      <td>tumor</td>\n",
       "    </tr>\n",
       "    <tr>\n",
       "      <th>48444</th>\n",
       "      <td>distemist_test_3000</td>\n",
       "      <td>T9</td>\n",
       "      <td>ENFERMEDAD</td>\n",
       "      <td>3685</td>\n",
       "      <td>3714</td>\n",
       "      <td>tamaño tumoral en suprarrenal</td>\n",
       "    </tr>\n",
       "  </tbody>\n",
       "</table>\n",
       "<p>48445 rows × 6 columns</p>\n",
       "</div>"
      ],
      "text/plain": [
       "                  filename mark       label  off0  off1  \\\n",
       "0         distemist_test_1   T1  ENFERMEDAD    81    94   \n",
       "1         distemist_test_1   T2  ENFERMEDAD   316   334   \n",
       "2         distemist_test_1   T3  ENFERMEDAD   803   829   \n",
       "3         distemist_test_1   T4  ENFERMEDAD  1214  1260   \n",
       "4         distemist_test_2   T1  ENFERMEDAD   117   132   \n",
       "...                    ...  ...         ...   ...   ...   \n",
       "48440  distemist_test_3000   T5  ENFERMEDAD  2312  2351   \n",
       "48441  distemist_test_3000   T6  ENFERMEDAD  2624  2658   \n",
       "48442  distemist_test_3000   T7  ENFERMEDAD  2842  2913   \n",
       "48443  distemist_test_3000   T8  ENFERMEDAD  3019  3024   \n",
       "48444  distemist_test_3000   T9  ENFERMEDAD  3685  3714   \n",
       "\n",
       "                                                    span  \n",
       "0                                          ángor estable  \n",
       "1                                     disfunción eréctil  \n",
       "2                             adenocarcinoma de próstata  \n",
       "3         arterias pudendas accesorias (APA) bilaterales  \n",
       "4                                        urticaria aguda  \n",
       "...                                                  ...  \n",
       "48440            carcinoma neuroendocrino indiferenciado  \n",
       "48441                 feocromocitoma maligno no secretor  \n",
       "48442  feocromocitoma maligno no secretor con metásta...  \n",
       "48443                                              tumor  \n",
       "48444                      tamaño tumoral en suprarrenal  \n",
       "\n",
       "[48445 rows x 6 columns]"
      ]
     },
     "execution_count": 15,
     "metadata": {},
     "output_type": "execute_result"
    }
   ],
   "source": [
    "out_file = Path('../submission') / 'subtrack1_entities' / '4-roberta-clinical-es-constant-lr-post-process.tsv'\n",
    "distemist_util.write_dataset_to_tsv(test_pred_4, out_file, False)"
   ]
  }
 ],
 "metadata": {
  "interpreter": {
   "hash": "5c9b93f97a51c9e2763a9204311104500ee929c3a9331fb391b5c973999ae858"
  },
  "kernelspec": {
   "display_name": "Python 3 (ipykernel)",
   "language": "python",
   "name": "python3"
  },
  "language_info": {
   "codemirror_mode": {
    "name": "ipython",
    "version": 3
   },
   "file_extension": ".py",
   "mimetype": "text/x-python",
   "name": "python",
   "nbconvert_exporter": "python",
   "pygments_lexer": "ipython3",
   "version": "3.8.12"
  }
 },
 "nbformat": 4,
 "nbformat_minor": 4
}
