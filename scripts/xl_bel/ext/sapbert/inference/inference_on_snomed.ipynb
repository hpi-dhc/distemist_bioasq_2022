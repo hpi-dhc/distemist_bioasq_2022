{
 "cells": [
  {
   "cell_type": "markdown",
   "metadata": {},
   "source": [
    "### load snomed"
   ]
  },
  {
   "cell_type": "code",
   "execution_count": 2,
   "metadata": {},
   "outputs": [],
   "source": [
    "import networkx as nx\n",
    "from tqdm import tqdm\n",
    "from Snomed import Snomed"
   ]
  },
  {
   "cell_type": "code",
   "execution_count": 3,
   "metadata": {},
   "outputs": [],
   "source": [
    "SNOMED_PATH = '../data/SnomedCT_201907' # you need to download your own SNOMED distribution\n",
    "snomed = Snomed(SNOMED_PATH)\n",
    "snomed.load_snomed()"
   ]
  },
  {
   "cell_type": "code",
   "execution_count": 4,
   "metadata": {},
   "outputs": [
    {
     "name": "stderr",
     "output_type": "stream",
     "text": [
      "100%|██████████| 350830/350830 [00:00<00:00, 909733.56it/s]"
     ]
    },
    {
     "name": "stdout",
     "output_type": "stream",
     "text": [
      "910823\n"
     ]
    },
    {
     "name": "stderr",
     "output_type": "stream",
     "text": [
      "\n"
     ]
    }
   ],
   "source": [
    "snomed_sf_id_pairs = []\n",
    "\n",
    "for snomed_id in tqdm(snomed.graph.nodes):\n",
    "    \n",
    "    node_descs = snomed.index_definition[snomed_id]\n",
    "    for d in node_descs:\n",
    "        snomed_sf_id_pairs.append((d, snomed_id))\n",
    "\n",
    "print(len(snomed_sf_id_pairs))"
   ]
  },
  {
   "cell_type": "code",
   "execution_count": 5,
   "metadata": {},
   "outputs": [
    {
     "data": {
      "text/plain": [
       "[('Neoplasm of anterior aspect of epiglottis', '126813005'),\n",
       " ('Neoplasm of anterior aspect of epiglottis (disorder)', '126813005'),\n",
       " ('Neoplasm of junctional region of epiglottis', '126814004'),\n",
       " ('Neoplasm of junctional region of epiglottis (disorder)', '126814004'),\n",
       " ('Neoplasm of lateral wall of oropharynx', '126815003'),\n",
       " ('Neoplasm of lateral wall of oropharynx (disorder)', '126815003'),\n",
       " ('Neoplasm of posterior wall of oropharynx', '126816002'),\n",
       " ('Neoplasm of posterior wall of oropharynx (disorder)', '126816002'),\n",
       " ('Tumour of posterior wall of oropharynx', '126816002'),\n",
       " ('Tumor of posterior wall of oropharynx', '126816002')]"
      ]
     },
     "execution_count": 5,
     "metadata": {},
     "output_type": "execute_result"
    }
   ],
   "source": [
    "snomed_sf_id_pairs[:10]"
   ]
  },
  {
   "cell_type": "code",
   "execution_count": 30,
   "metadata": {},
   "outputs": [],
   "source": [
    "snomed_sf_id_pairs_100k = snomed_sf_id_pairs[:100000] # for simplicity"
   ]
  },
  {
   "cell_type": "code",
   "execution_count": 31,
   "metadata": {},
   "outputs": [],
   "source": [
    "all_names = [p[0] for p in snomed_sf_id_pairs_100k]\n",
    "all_ids = [p[1] for p in snomed_sf_id_pairs_100k]"
   ]
  },
  {
   "cell_type": "code",
   "execution_count": 32,
   "metadata": {},
   "outputs": [
    {
     "data": {
      "text/plain": [
       "['Neoplasm of anterior aspect of epiglottis',\n",
       " 'Neoplasm of anterior aspect of epiglottis (disorder)',\n",
       " 'Neoplasm of junctional region of epiglottis',\n",
       " 'Neoplasm of junctional region of epiglottis (disorder)',\n",
       " 'Neoplasm of lateral wall of oropharynx',\n",
       " 'Neoplasm of lateral wall of oropharynx (disorder)',\n",
       " 'Neoplasm of posterior wall of oropharynx',\n",
       " 'Neoplasm of posterior wall of oropharynx (disorder)',\n",
       " 'Tumour of posterior wall of oropharynx',\n",
       " 'Tumor of posterior wall of oropharynx']"
      ]
     },
     "execution_count": 32,
     "metadata": {},
     "output_type": "execute_result"
    }
   ],
   "source": [
    "all_names[:10]"
   ]
  },
  {
   "cell_type": "code",
   "execution_count": 33,
   "metadata": {},
   "outputs": [
    {
     "data": {
      "text/plain": [
       "['126813005',\n",
       " '126813005',\n",
       " '126814004',\n",
       " '126814004',\n",
       " '126815003',\n",
       " '126815003',\n",
       " '126816002',\n",
       " '126816002',\n",
       " '126816002',\n",
       " '126816002']"
      ]
     },
     "execution_count": 33,
     "metadata": {},
     "output_type": "execute_result"
    }
   ],
   "source": [
    "all_ids[:10]"
   ]
  },
  {
   "cell_type": "markdown",
   "metadata": {},
   "source": [
    "### load sapbert"
   ]
  },
  {
   "cell_type": "code",
   "execution_count": 34,
   "metadata": {},
   "outputs": [],
   "source": [
    "from transformers import AutoTokenizer, AutoModel  \n",
    "tokenizer = AutoTokenizer.from_pretrained(\"cambridgeltl/SapBERT-from-PubMedBERT-fulltext\")  \n",
    "model = AutoModel.from_pretrained(\"cambridgeltl/SapBERT-from-PubMedBERT-fulltext\") #.cuda(1)"
   ]
  },
  {
   "cell_type": "code",
   "execution_count": 35,
   "metadata": {},
   "outputs": [],
   "source": [
    "import numpy as np\n",
    "import torch"
   ]
  },
  {
   "cell_type": "markdown",
   "metadata": {},
   "source": [
    "#### encode snomed labels"
   ]
  },
  {
   "cell_type": "code",
   "execution_count": 36,
   "metadata": {},
   "outputs": [
    {
     "name": "stderr",
     "output_type": "stream",
     "text": [
      "100%|██████████| 782/782 [10:22<00:00,  1.26it/s]\n"
     ]
    }
   ],
   "source": [
    "bs = 128\n",
    "all_reps = []\n",
    "for i in tqdm(np.arange(0, len(all_names), bs)):\n",
    "    toks = tokenizer.batch_encode_plus(all_names[i:i+bs], \n",
    "                                       padding=\"max_length\", \n",
    "                                       max_length=25, \n",
    "                                       truncation=True,\n",
    "                                       return_tensors=\"pt\")\n",
    "    #toks_cuda = {}\n",
    "    #for k,v in toks.items():\n",
    "    #    toks_cuda[k] = v.cuda(1)\n",
    "    #output = model(**toks_cuda)\n",
    "    \n",
    "    output = model(**toks)\n",
    "    cls_rep = output[0][:,0,:]\n",
    "    \n",
    "    all_reps.append(cls_rep.cpu().detach().numpy())\n",
    "all_reps_emb = np.concatenate(all_reps, axis=0)"
   ]
  },
  {
   "cell_type": "code",
   "execution_count": 47,
   "metadata": {},
   "outputs": [
    {
     "name": "stdout",
     "output_type": "stream",
     "text": [
      "(100000, 768)\n"
     ]
    }
   ],
   "source": [
    "print (all_reps_emb.shape)"
   ]
  },
  {
   "cell_type": "markdown",
   "metadata": {},
   "source": [
    "#### encode query"
   ]
  },
  {
   "cell_type": "code",
   "execution_count": 42,
   "metadata": {},
   "outputs": [],
   "source": [
    "query = \"cardiopathy\"\n",
    "query_toks = tokenizer.batch_encode_plus([query], \n",
    "                                       padding=\"max_length\", \n",
    "                                       max_length=25, \n",
    "                                       truncation=True,\n",
    "                                       return_tensors=\"pt\")"
   ]
  },
  {
   "cell_type": "code",
   "execution_count": 43,
   "metadata": {},
   "outputs": [],
   "source": [
    "query_output = model(**query_toks)\n",
    "query_cls_rep = query_output[0][:,0,:]"
   ]
  },
  {
   "cell_type": "code",
   "execution_count": 44,
   "metadata": {},
   "outputs": [
    {
     "data": {
      "text/plain": [
       "torch.Size([1, 768])"
      ]
     },
     "execution_count": 44,
     "metadata": {},
     "output_type": "execute_result"
    }
   ],
   "source": [
    "query_cls_rep.shape"
   ]
  },
  {
   "cell_type": "markdown",
   "metadata": {},
   "source": [
    "#### find query's nearest neighbour"
   ]
  },
  {
   "cell_type": "code",
   "execution_count": 45,
   "metadata": {},
   "outputs": [],
   "source": [
    "# for large-scale search, should switch to faiss\n",
    "from scipy.spatial.distance import cdist"
   ]
  },
  {
   "cell_type": "code",
   "execution_count": 52,
   "metadata": {},
   "outputs": [
    {
     "name": "stdout",
     "output_type": "stream",
     "text": [
      "predicted label: ('Cardiac complication', '40172005')\n"
     ]
    }
   ],
   "source": [
    "dist = cdist(query_cls_rep.cpu().detach().numpy(), all_reps_emb)\n",
    "nn_index = np.argmin(dist)\n",
    "print (\"predicted label:\", snomed_sf_id_pairs_100k[nn_index])"
   ]
  },
  {
   "cell_type": "code",
   "execution_count": null,
   "metadata": {},
   "outputs": [],
   "source": []
  }
 ],
 "metadata": {
  "kernelspec": {
   "display_name": "Python 3",
   "language": "python",
   "name": "python3"
  },
  "language_info": {
   "codemirror_mode": {
    "name": "ipython",
    "version": 3
   },
   "file_extension": ".py",
   "mimetype": "text/x-python",
   "name": "python",
   "nbconvert_exporter": "python",
   "pygments_lexer": "ipython3",
   "version": "3.7.6"
  },
  "toc": {
   "base_numbering": 1,
   "nav_menu": {},
   "number_sections": true,
   "sideBar": true,
   "skip_h1_title": false,
   "title_cell": "Table of Contents",
   "title_sidebar": "Contents",
   "toc_cell": false,
   "toc_position": {},
   "toc_section_display": true,
   "toc_window_display": false
  }
 },
 "nbformat": 4,
 "nbformat_minor": 4
}
